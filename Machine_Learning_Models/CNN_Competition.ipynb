{
  "nbformat": 4,
  "nbformat_minor": 0,
  "metadata": {
    "kernelspec": {
      "name": "python3",
      "display_name": "Python 3"
    },
    "language_info": {
      "codemirror_mode": {
        "name": "ipython",
        "version": 3
      },
      "file_extension": ".py",
      "mimetype": "text/x-python",
      "name": "python",
      "nbconvert_exporter": "python",
      "pygments_lexer": "ipython3",
      "version": "3.7.4"
    },
    "colab": {
      "name": "SimpleConvNetColab.ipynb",
      "provenance": [],
      "collapsed_sections": [],
      "toc_visible": true
    },
    "accelerator": "GPU"
  },
  "cells": [
    {
      "cell_type": "markdown",
      "metadata": {
        "id": "ic5fAP8UranD",
        "colab_type": "text"
      },
      "source": [
        "# Simple Convolutional Neural Network for Audio Recogntion <br>\n",
        "\n",
        "Author: Jamie McQuire\n",
        "\n",
        "* This notebook is for the 6-word vocabulary dataset.\n",
        "* The convolutional neural network used in this report is inspired using the Keras CIFAR-10 image classification tutorial.\n",
        "* [CIFAR-10](https://keras.io/examples/cifar10_cnn/)\n",
        "* The network will be trained using the image data from the data pre-processing notebook.\n",
        "* Upload this notebook to [Google Colab](https://colab.research.google.com/) for faster computing with a GPU.\n",
        "* If you wish to repeat this analysis please upload the data from the pre-processing notebook and upload to a google drive (directories will have to be set appropriately).\n"
      ]
    },
    {
      "cell_type": "code",
      "metadata": {
        "id": "qKSd0zb0ranF",
        "colab_type": "code",
        "colab": {}
      },
      "source": [
        "#import packages\n",
        "import numpy as np\n",
        "import os\n",
        "import matplotlib.pyplot as plt\n",
        "import pandas as pd\n",
        "import seaborn as sn\n",
        "\n",
        "import tensorflow as tf\n",
        "from tensorflow.keras.models import Sequential, Model\n",
        "from tensorflow.keras.layers import Dense, Conv2D, Flatten, Dropout, MaxPooling2D, Activation, Input\n",
        "from tensorflow.keras.preprocessing.image import ImageDataGenerator\n",
        "import keras\n",
        "from collections import Counter\n",
        "from sklearn.metrics import confusion_matrix"
      ],
      "execution_count": 0,
      "outputs": []
    },
    {
      "cell_type": "markdown",
      "metadata": {
        "id": "O2wt4FVsPCSn",
        "colab_type": "text"
      },
      "source": [
        "* Mount to your google drive where you should have the data stored.\n",
        "* Alternatively you can store the data in the Colab working environment."
      ]
    },
    {
      "cell_type": "code",
      "metadata": {
        "id": "RNOsNhTqrgd-",
        "colab_type": "code",
        "outputId": "db317979-dd1b-456a-b831-fd34c13e011f",
        "colab": {
          "base_uri": "https://localhost:8080/",
          "height": 124
        }
      },
      "source": [
        "from google.colab import drive\n",
        "drive.mount('/content/drive')"
      ],
      "execution_count": 0,
      "outputs": [
        {
          "output_type": "stream",
          "text": [
            "Go to this URL in a browser: https://accounts.google.com/o/oauth2/auth?client_id=947318989803-6bn6qk8qdgf4n4g3pfee6491hc0brc4i.apps.googleusercontent.com&redirect_uri=urn%3aietf%3awg%3aoauth%3a2.0%3aoob&response_type=code&scope=email%20https%3a%2f%2fwww.googleapis.com%2fauth%2fdocs.test%20https%3a%2f%2fwww.googleapis.com%2fauth%2fdrive%20https%3a%2f%2fwww.googleapis.com%2fauth%2fdrive.photos.readonly%20https%3a%2f%2fwww.googleapis.com%2fauth%2fpeopleapi.readonly\n",
            "\n",
            "Enter your authorization code:\n",
            "··········\n",
            "Mounted at /content/drive\n"
          ],
          "name": "stdout"
        }
      ]
    },
    {
      "cell_type": "markdown",
      "metadata": {
        "id": "Hg0Zois0PR0j",
        "colab_type": "text"
      },
      "source": [
        "* Load in the training, validation, and testing data from the pre-processing notebook.\n",
        "* Set your directories for reproducible analysis."
      ]
    },
    {
      "cell_type": "code",
      "metadata": {
        "id": "fazDLBKnranK",
        "colab_type": "code",
        "colab": {}
      },
      "source": [
        "#load in the training data and labels\n",
        "X_train = np.load(\"/content/drive/My Drive/Tensor_Flow_Speech_Recognition_Challenge/data/X_train.npy\")\n",
        "Y_train = np.load(\"/content/drive/My Drive/Tensor_Flow_Speech_Recognition_Challenge/data/Y_train.npy\")\n",
        "\n",
        "#load in the validation data and labels\n",
        "X_val = np.load(\"/content/drive/My Drive/Tensor_Flow_Speech_Recognition_Challenge/data/X_val.npy\")\n",
        "Y_val = np.load(\"/content/drive/My Drive/Tensor_Flow_Speech_Recognition_Challenge/data/Y_val.npy\")\n",
        "\n",
        "X_test = np.load(\"/content/drive/My Drive/Tensor_Flow_Speech_Recognition_Challenge/data/X_test.npy\")\n",
        "Y_test = np.load(\"/content/drive/My Drive/Tensor_Flow_Speech_Recognition_Challenge/data/Y_test.npy\")"
      ],
      "execution_count": 0,
      "outputs": []
    },
    {
      "cell_type": "markdown",
      "metadata": {
        "id": "I8W2cPIIPgiE",
        "colab_type": "text"
      },
      "source": [
        "* Setting the default settings.\n",
        "* Test to see that the image_size = (161, 99, 1)."
      ]
    },
    {
      "cell_type": "code",
      "metadata": {
        "id": "bMm3yNjcranN",
        "colab_type": "code",
        "outputId": "7c79f4cf-acd5-4d64-d943-bec7a72ef5ec",
        "colab": {
          "base_uri": "https://localhost:8080/",
          "height": 35
        }
      },
      "source": [
        "batch_size = 128\n",
        "epochs = 10\n",
        "image_size = X_train.shape[1:]\n",
        "output_size = 6\n",
        "\n",
        "print(image_size)"
      ],
      "execution_count": 0,
      "outputs": [
        {
          "output_type": "stream",
          "text": [
            "(161, 99, 1)\n"
          ],
          "name": "stdout"
        }
      ]
    },
    {
      "cell_type": "markdown",
      "metadata": {
        "id": "Om73MXaKPqJr",
        "colab_type": "text"
      },
      "source": [
        "* Scale the pixels for the deep learning algorithms."
      ]
    },
    {
      "cell_type": "code",
      "metadata": {
        "id": "tjdwhIQbranQ",
        "colab_type": "code",
        "colab": {}
      },
      "source": [
        "X_train_scaled = X_train * (1 / 255)\n",
        "X_val_scaled = X_val * (1  / 255)\n",
        "X_test_scaled = X_test * (1 / 255)"
      ],
      "execution_count": 0,
      "outputs": []
    },
    {
      "cell_type": "markdown",
      "metadata": {
        "id": "FcJd3TTDPve_",
        "colab_type": "text"
      },
      "source": [
        "* Convert the labels to one-hot-encoded vectors."
      ]
    },
    {
      "cell_type": "code",
      "metadata": {
        "id": "goqfq7of7YBv",
        "colab_type": "code",
        "colab": {}
      },
      "source": [
        "Y_train = keras.utils.to_categorical(Y_train,output_size)\n",
        "Y_val = keras.utils.to_categorical(Y_val,output_size)\n",
        "Y_test = keras.utils.to_categorical(Y_test,output_size)"
      ],
      "execution_count": 0,
      "outputs": []
    },
    {
      "cell_type": "markdown",
      "metadata": {
        "id": "GeKMdlkCP0SF",
        "colab_type": "text"
      },
      "source": [
        "* Function to define the architecture of the simple CNN."
      ]
    },
    {
      "cell_type": "code",
      "metadata": {
        "id": "mQ49SvVeranS",
        "colab_type": "code",
        "colab": {}
      },
      "source": [
        "def SimpleConvolutionalModel(F, input_shape=(161,99,1),output_size=output_size):\n",
        "\n",
        "  f1, f2 = F\n",
        "\n",
        "  X_input = Input(input_shape)\n",
        "\n",
        "  X = Conv2D(f1,(3,3),padding=\"same\")(X_input)\n",
        "  X = Activation(\"relu\")(X)\n",
        "  X = Conv2D(f1,(3,3),padding=\"same\")(X)\n",
        "  X = MaxPooling2D((2,2))(X)\n",
        "  X = Dropout(0.25)(X)\n",
        "\n",
        "  X = Conv2D(f2,(3,3),padding=\"same\")(X)\n",
        "  X = Activation(\"relu\")(X)\n",
        "  X = Conv2D(f2,(3,3),padding=\"same\")(X)\n",
        "  X = MaxPooling2D((2,2))(X)\n",
        "  X = Dropout(0.25)(X)\n",
        "\n",
        "  X = Flatten()(X)\n",
        "  X = Dense(256,activation=\"relu\")(X)\n",
        "  X = Dropout(0.25)(X)\n",
        "  X = Dense(output_size,activation=\"softmax\")(X)\n",
        "\n",
        "  model = Model(inputs=X_input,outputs=X,name=\"ConvNet\")\n",
        "\n",
        "  return model"
      ],
      "execution_count": 0,
      "outputs": []
    },
    {
      "cell_type": "markdown",
      "metadata": {
        "id": "MpHRk955P4r4",
        "colab_type": "text"
      },
      "source": [
        "* Create the model and compile.\n",
        "* Summary should provide information about the layers."
      ]
    },
    {
      "cell_type": "code",
      "metadata": {
        "id": "WLw0sAPX7VRk",
        "colab_type": "code",
        "outputId": "0ce57a6c-4282-48eb-a8f1-52a9cd9018f9",
        "colab": {
          "base_uri": "https://localhost:8080/",
          "height": 748
        }
      },
      "source": [
        "model = SimpleConvolutionalModel(F=[256,128])\n",
        "model.compile(loss=\"categorical_crossentropy\",optimizer=\"adam\",metrics=[\"acc\"])\n",
        "model.summary()"
      ],
      "execution_count": 0,
      "outputs": [
        {
          "output_type": "stream",
          "text": [
            "WARNING:tensorflow:From /usr/local/lib/python3.6/dist-packages/tensorflow_core/python/ops/resource_variable_ops.py:1630: calling BaseResourceVariable.__init__ (from tensorflow.python.ops.resource_variable_ops) with constraint is deprecated and will be removed in a future version.\n",
            "Instructions for updating:\n",
            "If using Keras pass *_constraint arguments to layers.\n",
            "Model: \"ConvNet\"\n",
            "_________________________________________________________________\n",
            "Layer (type)                 Output Shape              Param #   \n",
            "=================================================================\n",
            "input_1 (InputLayer)         [(None, 161, 99, 1)]      0         \n",
            "_________________________________________________________________\n",
            "conv2d (Conv2D)              (None, 161, 99, 256)      2560      \n",
            "_________________________________________________________________\n",
            "activation (Activation)      (None, 161, 99, 256)      0         \n",
            "_________________________________________________________________\n",
            "conv2d_1 (Conv2D)            (None, 161, 99, 256)      590080    \n",
            "_________________________________________________________________\n",
            "max_pooling2d (MaxPooling2D) (None, 80, 49, 256)       0         \n",
            "_________________________________________________________________\n",
            "dropout (Dropout)            (None, 80, 49, 256)       0         \n",
            "_________________________________________________________________\n",
            "conv2d_2 (Conv2D)            (None, 80, 49, 128)       295040    \n",
            "_________________________________________________________________\n",
            "activation_1 (Activation)    (None, 80, 49, 128)       0         \n",
            "_________________________________________________________________\n",
            "conv2d_3 (Conv2D)            (None, 80, 49, 128)       147584    \n",
            "_________________________________________________________________\n",
            "max_pooling2d_1 (MaxPooling2 (None, 40, 24, 128)       0         \n",
            "_________________________________________________________________\n",
            "dropout_1 (Dropout)          (None, 40, 24, 128)       0         \n",
            "_________________________________________________________________\n",
            "flatten (Flatten)            (None, 122880)            0         \n",
            "_________________________________________________________________\n",
            "dense (Dense)                (None, 256)               31457536  \n",
            "_________________________________________________________________\n",
            "dropout_2 (Dropout)          (None, 256)               0         \n",
            "_________________________________________________________________\n",
            "dense_1 (Dense)              (None, 6)                 1542      \n",
            "=================================================================\n",
            "Total params: 32,494,342\n",
            "Trainable params: 32,494,342\n",
            "Non-trainable params: 0\n",
            "_________________________________________________________________\n"
          ],
          "name": "stdout"
        }
      ]
    },
    {
      "cell_type": "markdown",
      "metadata": {
        "id": "-SFz0J3zP_O0",
        "colab_type": "text"
      },
      "source": [
        "* Train the model.\n",
        "* Ensure the GPU is enabled in the hardware settings otherwise this could take some time."
      ]
    },
    {
      "cell_type": "code",
      "metadata": {
        "id": "-TxeJZS_ranZ",
        "colab_type": "code",
        "outputId": "70693f6f-0c0c-4671-df29-b18fc614dd27",
        "colab": {
          "base_uri": "https://localhost:8080/",
          "height": 748
        }
      },
      "source": [
        "history = model.fit(X_train_scaled,Y_train,epochs=20,validation_data=(X_val_scaled,Y_val),\n",
        "                    batch_size=batch_size,shuffle=True)"
      ],
      "execution_count": 0,
      "outputs": [
        {
          "output_type": "stream",
          "text": [
            "Train on 10228 samples, validate on 2557 samples\n",
            "Epoch 1/20\n",
            "10228/10228 [==============================] - 83s 8ms/sample - loss: 1.2457 - acc: 0.5066 - val_loss: 0.7838 - val_acc: 0.7106\n",
            "Epoch 2/20\n",
            "10228/10228 [==============================] - 68s 7ms/sample - loss: 0.7043 - acc: 0.7440 - val_loss: 0.5050 - val_acc: 0.8342\n",
            "Epoch 3/20\n",
            "10228/10228 [==============================] - 68s 7ms/sample - loss: 0.4687 - acc: 0.8341 - val_loss: 0.3603 - val_acc: 0.8721\n",
            "Epoch 4/20\n",
            "10228/10228 [==============================] - 68s 7ms/sample - loss: 0.3144 - acc: 0.8916 - val_loss: 0.3420 - val_acc: 0.8831\n",
            "Epoch 5/20\n",
            "10228/10228 [==============================] - 68s 7ms/sample - loss: 0.2422 - acc: 0.9163 - val_loss: 0.2970 - val_acc: 0.9007\n",
            "Epoch 6/20\n",
            "10228/10228 [==============================] - 68s 7ms/sample - loss: 0.1882 - acc: 0.9340 - val_loss: 0.2894 - val_acc: 0.9077\n",
            "Epoch 7/20\n",
            "10228/10228 [==============================] - 68s 7ms/sample - loss: 0.1399 - acc: 0.9513 - val_loss: 0.3048 - val_acc: 0.9097\n",
            "Epoch 8/20\n",
            "10228/10228 [==============================] - 68s 7ms/sample - loss: 0.1148 - acc: 0.9586 - val_loss: 0.2967 - val_acc: 0.9140\n",
            "Epoch 9/20\n",
            "10228/10228 [==============================] - 68s 7ms/sample - loss: 0.0968 - acc: 0.9673 - val_loss: 0.3129 - val_acc: 0.9175\n",
            "Epoch 10/20\n",
            "10228/10228 [==============================] - 68s 7ms/sample - loss: 0.0820 - acc: 0.9722 - val_loss: 0.2821 - val_acc: 0.9144\n",
            "Epoch 11/20\n",
            "10228/10228 [==============================] - 68s 7ms/sample - loss: 0.0724 - acc: 0.9764 - val_loss: 0.2985 - val_acc: 0.9159\n",
            "Epoch 12/20\n",
            "10228/10228 [==============================] - 68s 7ms/sample - loss: 0.0654 - acc: 0.9790 - val_loss: 0.3380 - val_acc: 0.9151\n",
            "Epoch 13/20\n",
            "10228/10228 [==============================] - 68s 7ms/sample - loss: 0.0585 - acc: 0.9793 - val_loss: 0.3164 - val_acc: 0.9194\n",
            "Epoch 14/20\n",
            "10228/10228 [==============================] - 68s 7ms/sample - loss: 0.0415 - acc: 0.9864 - val_loss: 0.3153 - val_acc: 0.9233\n",
            "Epoch 15/20\n",
            "10228/10228 [==============================] - 68s 7ms/sample - loss: 0.0486 - acc: 0.9851 - val_loss: 0.3425 - val_acc: 0.9089\n",
            "Epoch 16/20\n",
            "10228/10228 [==============================] - 68s 7ms/sample - loss: 0.0417 - acc: 0.9869 - val_loss: 0.3870 - val_acc: 0.9140\n",
            "Epoch 17/20\n",
            "10228/10228 [==============================] - 68s 7ms/sample - loss: 0.0399 - acc: 0.9869 - val_loss: 0.3700 - val_acc: 0.9183\n",
            "Epoch 18/20\n",
            "10228/10228 [==============================] - 68s 7ms/sample - loss: 0.0408 - acc: 0.9888 - val_loss: 0.3219 - val_acc: 0.9210\n",
            "Epoch 19/20\n",
            "10228/10228 [==============================] - 68s 7ms/sample - loss: 0.0411 - acc: 0.9869 - val_loss: 0.3097 - val_acc: 0.9210\n",
            "Epoch 20/20\n",
            "10228/10228 [==============================] - 68s 7ms/sample - loss: 0.0326 - acc: 0.9905 - val_loss: 0.2840 - val_acc: 0.9265\n"
          ],
          "name": "stdout"
        }
      ]
    },
    {
      "cell_type": "markdown",
      "metadata": {
        "id": "fCsfAKBTQGHZ",
        "colab_type": "text"
      },
      "source": [
        "* Evaluate the accuracy on the testing set."
      ]
    },
    {
      "cell_type": "code",
      "metadata": {
        "id": "IxOLR2HIranb",
        "colab_type": "code",
        "outputId": "9d6f330c-4772-464b-9308-15c50facd9b2",
        "colab": {
          "base_uri": "https://localhost:8080/",
          "height": 52
        }
      },
      "source": [
        "scores = model.evaluate(X_test_scaled,Y_test,verbose=0)\n",
        "print('Test loss:', scores[0])\n",
        "print('Test accuracy:', scores[1])"
      ],
      "execution_count": 0,
      "outputs": [
        {
          "output_type": "stream",
          "text": [
            "Test loss: 0.3668956064329437\n",
            "Test accuracy: 0.9190711\n"
          ],
          "name": "stdout"
        }
      ]
    },
    {
      "cell_type": "markdown",
      "metadata": {
        "id": "fY42itnyQLND",
        "colab_type": "text"
      },
      "source": [
        "* Code to plot the accuracy of the training and validation sets during model training.\n",
        "* Will save to a PDF figure in the working environment."
      ]
    },
    {
      "cell_type": "code",
      "metadata": {
        "id": "BtljwD4rrand",
        "colab_type": "code",
        "outputId": "7a2764fd-ed07-493f-b5a2-0db559903993",
        "colab": {
          "base_uri": "https://localhost:8080/",
          "height": 558
        }
      },
      "source": [
        "plt.plot(history.history['acc'])\n",
        "plt.plot(history.history['val_acc'])\n",
        "plt.title('Model accuracy')\n",
        "plt.ylabel('Accuracy')\n",
        "plt.xlabel('Epoch')\n",
        "plt.legend(['Train', 'Validation'], loc='bottom right')\n",
        "fig = plt.gcf()\n",
        "fig.savefig(\"ConvNet_6_Vocab_acc.pdf\",bbox_inches=\"tight\")\n",
        "plt.show()"
      ],
      "execution_count": 0,
      "outputs": [
        {
          "output_type": "stream",
          "text": [
            "/usr/local/lib/python3.6/dist-packages/ipykernel_launcher.py:6: MatplotlibDeprecationWarning: Unrecognized location 'bottom right'. Falling back on 'best'; valid locations are\n",
            "\tbest\n",
            "\tupper right\n",
            "\tupper left\n",
            "\tlower left\n",
            "\tlower right\n",
            "\tright\n",
            "\tcenter left\n",
            "\tcenter right\n",
            "\tlower center\n",
            "\tupper center\n",
            "\tcenter\n",
            "This will raise an exception in 3.3.\n",
            "  \n"
          ],
          "name": "stderr"
        },
        {
          "output_type": "display_data",
          "data": {
            "image/png": "[encoded data removed]",
            "text/plain": [
              "<Figure size 432x288 with 1 Axes>"
            ]
          },
          "metadata": {
            "tags": []
          }
        }
      ]
    },
    {
      "cell_type": "markdown",
      "metadata": {
        "id": "7p8JqnQoQVu_",
        "colab_type": "text"
      },
      "source": [
        "* Code to plot the loss of the training and validation sets during model training.\n",
        "* Will save to a PDF figure in the working environment."
      ]
    },
    {
      "cell_type": "code",
      "metadata": {
        "id": "x0RJi-PZDaHH",
        "colab_type": "code",
        "outputId": "b3d1080e-1963-49f4-9fb6-05c2903c259c",
        "colab": {
          "base_uri": "https://localhost:8080/",
          "height": 295
        }
      },
      "source": [
        "plt.plot(history.history['loss'])\n",
        "plt.plot(history.history['val_loss'])\n",
        "plt.title('Model loss')\n",
        "plt.ylabel('Loss')\n",
        "plt.xlabel('Epoch')\n",
        "plt.legend(['Train', 'Validation'], loc='upper right')\n",
        "fig = plt.gcf()\n",
        "fig.savefig(\"ConvNet_6_Vocab_loss.pdf\",bbox_inches=\"tight\")\n",
        "plt.show()"
      ],
      "execution_count": 0,
      "outputs": [
        {
          "output_type": "display_data",
          "data": {
            "image/png": "[encoded data removed]",
            "text/plain": [
              "<Figure size 432x288 with 1 Axes>"
            ]
          },
          "metadata": {
            "tags": []
          }
        }
      ]
    },
    {
      "cell_type": "markdown",
      "metadata": {
        "id": "TyksFaLvQZNE",
        "colab_type": "text"
      },
      "source": [
        "* Rebuilds the model and trains for a shorter time.\n",
        "* This was because of the conclusion stated in the report."
      ]
    },
    {
      "cell_type": "code",
      "metadata": {
        "id": "B-C2Tf-0N4an",
        "colab_type": "code",
        "outputId": "da853392-fb99-45e1-b6cf-0fc204008faf",
        "colab": {
          "base_uri": "https://localhost:8080/",
          "height": 263
        }
      },
      "source": [
        "model = SimpleConvolutionalModel(F=[256,128])\n",
        "model.compile(loss=\"categorical_crossentropy\",optimizer=\"adam\",metrics=[\"acc\"])\n",
        "\n",
        "history = model.fit(X_train_scaled,Y_train,epochs=5,validation_data=(X_val_scaled,Y_val),\n",
        "                    batch_size=batch_size,shuffle=True)\n",
        "\n",
        "scores = model.evaluate(X_test_scaled,Y_test,verbose=0)\n",
        "print('Test loss:', scores[0])\n",
        "print('Test accuracy:', scores[1])"
      ],
      "execution_count": 0,
      "outputs": [
        {
          "output_type": "stream",
          "text": [
            "Train on 10228 samples, validate on 2557 samples\n",
            "Epoch 1/5\n",
            "10228/10228 [==============================] - 68s 7ms/sample - loss: 1.1715 - acc: 0.5436 - val_loss: 0.7213 - val_acc: 0.7395\n",
            "Epoch 2/5\n",
            "10228/10228 [==============================] - 68s 7ms/sample - loss: 0.5848 - acc: 0.7943 - val_loss: 0.4504 - val_acc: 0.8408\n",
            "Epoch 3/5\n",
            "10228/10228 [==============================] - 68s 7ms/sample - loss: 0.3724 - acc: 0.8691 - val_loss: 0.3478 - val_acc: 0.8807\n",
            "Epoch 4/5\n",
            "10228/10228 [==============================] - 68s 7ms/sample - loss: 0.2413 - acc: 0.9134 - val_loss: 0.2871 - val_acc: 0.9026\n",
            "Epoch 5/5\n",
            "10228/10228 [==============================] - 68s 7ms/sample - loss: 0.1649 - acc: 0.9424 - val_loss: 0.2860 - val_acc: 0.9116\n",
            "Test loss: 0.3234837856051957\n",
            "Test accuracy: 0.9057002\n"
          ],
          "name": "stdout"
        }
      ]
    },
    {
      "cell_type": "markdown",
      "metadata": {
        "id": "Qk43FCNhQhaT",
        "colab_type": "text"
      },
      "source": [
        "* Plot of a confusion matrix to view how the model classifies each voice command.\n",
        "* Will save the output to a PDF in the working environment."
      ]
    },
    {
      "cell_type": "code",
      "metadata": {
        "id": "OyDxVdCEPitn",
        "colab_type": "code",
        "outputId": "57d8c7d0-d5ed-4b27-dded-337a8b5592ee",
        "colab": {
          "base_uri": "https://localhost:8080/",
          "height": 428
        }
      },
      "source": [
        "Y_pred = model.predict(X_test_scaled)\n",
        "y_pred = np.argmax(Y_pred, axis=1)\n",
        "y_true = np.argmax(Y_test,axis=1)\n",
        "conf_mat = confusion_matrix(y_true,y_pred)\n",
        "labs = [\"yes\",\"no\",\"up\",\"down\",\"left\",\"right\"]\n",
        "\n",
        "df_conf_mat = pd.DataFrame(conf_mat, index = [i for i in labs],\n",
        "                  columns = [i for i in labs])\n",
        "plt.figure(figsize = (10,7))\n",
        "sn.heatmap(df_conf_mat, annot=True,cbar=False)\n",
        "fig = plt.gcf()\n",
        "fig.savefig(\"ConvNet_6_Vocab_cmap.pdf\",bbox_inches=\"tight\")"
      ],
      "execution_count": 0,
      "outputs": [
        {
          "output_type": "display_data",
          "data": {
            "image/png": "[encoded data removed]",
            "text/plain": [
              "<Figure size 720x504 with 1 Axes>"
            ]
          },
          "metadata": {
            "tags": []
          }
        }
      ]
    }
  ]
}