{
  "nbformat": 4,
  "nbformat_minor": 0,
  "metadata": {
    "colab": {
      "name": "Simple_Convolutional_Model_Competition.ipynb",
      "provenance": [],
      "collapsed_sections": [],
      "machine_shape": "hm"
    },
    "kernelspec": {
      "name": "python3",
      "display_name": "Python 3"
    },
    "accelerator": "GPU"
  },
  "cells": [
    {
      "cell_type": "markdown",
      "metadata": {
        "id": "xX4gxeeUsSJX",
        "colab_type": "text"
      },
      "source": [
        "# Simple Convolutional Neural Network for Audio Recogntion\n",
        "\n",
        "Author: Jamie McQuire <br>\n",
        "\n",
        "* This notebook is for the competition dataset.\n",
        "* The convolutional neural network used in this report is inspired using the Keras CIFAR-10 image classification tutorial.\n",
        "* [CIFAR-10](https://keras.io/examples/cifar10_cnn/)\n",
        "* The network will be trained using the image data from the data pre-processing notebook.\n",
        "* Upload this notebook to [Google Colab](https://colab.research.google.com/) for faster computing with a GPU.\n",
        "* If you wish to repeat this analysis please upload the data from the pre-processing notebook and upload to a google drive (directories will have to be set appropriately)."
      ]
    },
    {
      "cell_type": "code",
      "metadata": {
        "id": "_x4cbEriqDIE",
        "colab_type": "code",
        "outputId": "b5adf6e3-1792-40f8-ad8f-f749eefbaf34",
        "colab": {
          "base_uri": "https://localhost:8080/",
          "height": 99
        }
      },
      "source": [
        "#load in the libraries \n",
        "import os\n",
        "import numpy as np\n",
        "import tensorflow as tf\n",
        "import keras\n",
        "import pandas as pd\n",
        "import seaborn as sn\n",
        "from keras import layers\n",
        "from keras.initializers import glorot_uniform\n",
        "from keras.layers import Input, Add, Dense, Activation, ZeroPadding2D, BatchNormalization, Flatten, Conv2D, AveragePooling2D, MaxPooling2D, Dropout\n",
        "from keras.models import Model, load_model\n",
        "import matplotlib.pyplot as plt\n",
        "import pandas as pd\n",
        "from keras.preprocessing.image import ImageDataGenerator\n",
        "from collections import Counter\n",
        "from sklearn.utils.class_weight import compute_class_weight"
      ],
      "execution_count": 0,
      "outputs": [
        {
          "output_type": "display_data",
          "data": {
            "text/html": [
              "<p style=\"color: red;\">\n",
              "The default version of TensorFlow in Colab will soon switch to TensorFlow 2.x.<br>\n",
              "We recommend you <a href=\"https://www.tensorflow.org/guide/migrate\" target=\"_blank\">upgrade</a> now \n",
              "or ensure your notebook will continue to use TensorFlow 1.x via the <code>%tensorflow_version 1.x</code> magic:\n",
              "<a href=\"https://colab.research.google.com/notebooks/tensorflow_version.ipynb\" target=\"_blank\">more info</a>.</p>\n"
            ],
            "text/plain": [
              "<IPython.core.display.HTML object>"
            ]
          },
          "metadata": {
            "tags": []
          }
        },
        {
          "output_type": "stream",
          "text": [
            "Using TensorFlow backend.\n"
          ],
          "name": "stderr"
        }
      ]
    },
    {
      "cell_type": "markdown",
      "metadata": {
        "id": "wMu-bif-spYH",
        "colab_type": "text"
      },
      "source": [
        "* Mount to your google drive where you should have the data stored.\n",
        "* Alternatively you can store the data in the Colab working environment."
      ]
    },
    {
      "cell_type": "code",
      "metadata": {
        "id": "iq90V7tVqOWe",
        "colab_type": "code",
        "outputId": "e6052eae-5751-455d-ce7c-b462e677be8f",
        "colab": {
          "base_uri": "https://localhost:8080/",
          "height": 124
        }
      },
      "source": [
        "from google.colab import drive\n",
        "drive.mount('/content/drive')"
      ],
      "execution_count": 0,
      "outputs": [
        {
          "output_type": "stream",
          "text": [
            "Go to this URL in a browser: https://accounts.google.com/o/oauth2/auth?client_id=947318989803-6bn6qk8qdgf4n4g3pfee6491hc0brc4i.apps.googleusercontent.com&redirect_uri=urn%3aietf%3awg%3aoauth%3a2.0%3aoob&response_type=code&scope=email%20https%3a%2f%2fwww.googleapis.com%2fauth%2fdocs.test%20https%3a%2f%2fwww.googleapis.com%2fauth%2fdrive%20https%3a%2f%2fwww.googleapis.com%2fauth%2fdrive.photos.readonly%20https%3a%2f%2fwww.googleapis.com%2fauth%2fpeopleapi.readonly\n",
            "\n",
            "Enter your authorization code:\n",
            "··········\n",
            "Mounted at /content/drive\n"
          ],
          "name": "stdout"
        }
      ]
    },
    {
      "cell_type": "markdown",
      "metadata": {
        "id": "62RMYmLJstA8",
        "colab_type": "text"
      },
      "source": [
        "* Load in the training and validation data from the pre-processing notebook.\n",
        "* Set your directories for reproducible analysis."
      ]
    },
    {
      "cell_type": "code",
      "metadata": {
        "id": "suuzF_MKqVbc",
        "colab_type": "code",
        "colab": {}
      },
      "source": [
        "#load in the training data and labels\n",
        "X_train = np.load(\"/content/drive/My Drive/competition_data/X_train.npy\")\n",
        "Y_train = np.load(\"/content/drive/My Drive/competition_data/Y_train.npy\")\n",
        "\n",
        "#load in the validation data and labels\n",
        "X_val = np.load(\"/content/drive/My Drive/competition_data/X_val.npy\")\n",
        "Y_val = np.load(\"/content/drive/My Drive/competition_data/Y_val.npy\")"
      ],
      "execution_count": 0,
      "outputs": []
    },
    {
      "cell_type": "markdown",
      "metadata": {
        "id": "6FLfNH67szzz",
        "colab_type": "text"
      },
      "source": [
        "* These are the default settings.\n",
        "* Check that the image_size = (161,99,1)"
      ]
    },
    {
      "cell_type": "code",
      "metadata": {
        "id": "RvpDBGtTqhBK",
        "colab_type": "code",
        "outputId": "276776ca-701d-4e59-f207-d5baf173cc23",
        "colab": {
          "base_uri": "https://localhost:8080/",
          "height": 35
        }
      },
      "source": [
        "#default settings used\n",
        "batch_size = 128\n",
        "epochs = 10\n",
        "image_size = X_train.shape[1:]\n",
        "output_size = 12\n",
        "print(image_size)"
      ],
      "execution_count": 0,
      "outputs": [
        {
          "output_type": "stream",
          "text": [
            "(161, 99, 1)\n"
          ],
          "name": "stdout"
        }
      ]
    },
    {
      "cell_type": "markdown",
      "metadata": {
        "id": "F6SXWdEOs6ZS",
        "colab_type": "text"
      },
      "source": [
        "* Scale the image pixels for the deep learning models."
      ]
    },
    {
      "cell_type": "code",
      "metadata": {
        "id": "CfFbKLoAqkg2",
        "colab_type": "code",
        "colab": {}
      },
      "source": [
        "#scale the X data\n",
        "X_train_scaled = X_train * (1 / 255)\n",
        "X_val_scaled = X_val * (1  / 255)"
      ],
      "execution_count": 0,
      "outputs": []
    },
    {
      "cell_type": "markdown",
      "metadata": {
        "id": "AiLwV3tqs_N5",
        "colab_type": "text"
      },
      "source": [
        "* Convert the labels to one-hot-encoded vectors."
      ]
    },
    {
      "cell_type": "code",
      "metadata": {
        "id": "yBvkhNvPq0eS",
        "colab_type": "code",
        "colab": {}
      },
      "source": [
        "#one-hot encode the Y data\n",
        "Y_train = keras.utils.to_categorical(Y_train,output_size)\n",
        "Y_val = keras.utils.to_categorical(Y_val,output_size)"
      ],
      "execution_count": 0,
      "outputs": []
    },
    {
      "cell_type": "markdown",
      "metadata": {
        "id": "aWaKNJRJtEQx",
        "colab_type": "text"
      },
      "source": [
        "* Function to define the architecture of the CNN."
      ]
    },
    {
      "cell_type": "code",
      "metadata": {
        "id": "NLgJiwXFq3AM",
        "colab_type": "code",
        "colab": {}
      },
      "source": [
        "def SimpleConvolutionalModel(F, input_shape=(161,99,1),output_size=output_size):\n",
        "\n",
        "  f1, f2 = F\n",
        "\n",
        "  X_input = Input(input_shape)\n",
        "\n",
        "  X = Conv2D(f1,(3,3),padding=\"same\")(X_input)\n",
        "  X = Activation(\"relu\")(X)\n",
        "  X = Conv2D(f1,(3,3),padding=\"same\")(X)\n",
        "  X = MaxPooling2D((2,2))(X)\n",
        "  X = Dropout(0.25)(X)\n",
        "\n",
        "  X = Conv2D(f2,(3,3),padding=\"same\")(X)\n",
        "  X = Activation(\"relu\")(X)\n",
        "  X = Conv2D(f2,(3,3),padding=\"same\")(X)\n",
        "  X = MaxPooling2D((2,2))(X)\n",
        "  X = Dropout(0.25)(X)\n",
        "\n",
        "  X = Flatten()(X)\n",
        "  X = Dense(256,activation=\"relu\")(X)\n",
        "  X = Dropout(0.25)(X)\n",
        "  X = Dense(output_size,activation=\"softmax\")(X)\n",
        "\n",
        "  model = Model(inputs=X_input,outputs=X,name=\"ConvNet\")\n",
        "\n",
        "  return model"
      ],
      "execution_count": 0,
      "outputs": []
    },
    {
      "cell_type": "markdown",
      "metadata": {
        "id": "pMgSwgOrtJN9",
        "colab_type": "text"
      },
      "source": [
        "* Generate the model and compile.\n",
        "* Summary should provide information about the layers."
      ]
    },
    {
      "cell_type": "code",
      "metadata": {
        "id": "rQ64l6ztq6mY",
        "colab_type": "code",
        "outputId": "089da5c4-82b8-475f-e2ff-515457a6515b",
        "colab": {
          "base_uri": "https://localhost:8080/",
          "height": 991
        }
      },
      "source": [
        "model = SimpleConvolutionalModel(F=[256,128])\n",
        "model.compile(loss=\"categorical_crossentropy\",optimizer=\"adam\",metrics=[\"acc\"])\n",
        "model.summary()"
      ],
      "execution_count": 0,
      "outputs": [
        {
          "output_type": "stream",
          "text": [
            "WARNING:tensorflow:From /usr/local/lib/python3.6/dist-packages/keras/backend/tensorflow_backend.py:66: The name tf.get_default_graph is deprecated. Please use tf.compat.v1.get_default_graph instead.\n",
            "\n",
            "WARNING:tensorflow:From /usr/local/lib/python3.6/dist-packages/keras/backend/tensorflow_backend.py:541: The name tf.placeholder is deprecated. Please use tf.compat.v1.placeholder instead.\n",
            "\n",
            "WARNING:tensorflow:From /usr/local/lib/python3.6/dist-packages/keras/backend/tensorflow_backend.py:4432: The name tf.random_uniform is deprecated. Please use tf.random.uniform instead.\n",
            "\n",
            "WARNING:tensorflow:From /usr/local/lib/python3.6/dist-packages/keras/backend/tensorflow_backend.py:4267: The name tf.nn.max_pool is deprecated. Please use tf.nn.max_pool2d instead.\n",
            "\n",
            "WARNING:tensorflow:From /usr/local/lib/python3.6/dist-packages/keras/backend/tensorflow_backend.py:148: The name tf.placeholder_with_default is deprecated. Please use tf.compat.v1.placeholder_with_default instead.\n",
            "\n",
            "WARNING:tensorflow:From /usr/local/lib/python3.6/dist-packages/keras/backend/tensorflow_backend.py:3733: calling dropout (from tensorflow.python.ops.nn_ops) with keep_prob is deprecated and will be removed in a future version.\n",
            "Instructions for updating:\n",
            "Please use `rate` instead of `keep_prob`. Rate should be set to `rate = 1 - keep_prob`.\n",
            "WARNING:tensorflow:From /usr/local/lib/python3.6/dist-packages/keras/optimizers.py:793: The name tf.train.Optimizer is deprecated. Please use tf.compat.v1.train.Optimizer instead.\n",
            "\n",
            "WARNING:tensorflow:From /usr/local/lib/python3.6/dist-packages/keras/backend/tensorflow_backend.py:3576: The name tf.log is deprecated. Please use tf.math.log instead.\n",
            "\n",
            "Model: \"ConvNet\"\n",
            "_________________________________________________________________\n",
            "Layer (type)                 Output Shape              Param #   \n",
            "=================================================================\n",
            "input_1 (InputLayer)         (None, 161, 99, 1)        0         \n",
            "_________________________________________________________________\n",
            "conv2d_1 (Conv2D)            (None, 161, 99, 256)      2560      \n",
            "_________________________________________________________________\n",
            "activation_1 (Activation)    (None, 161, 99, 256)      0         \n",
            "_________________________________________________________________\n",
            "conv2d_2 (Conv2D)            (None, 161, 99, 256)      590080    \n",
            "_________________________________________________________________\n",
            "max_pooling2d_1 (MaxPooling2 (None, 80, 49, 256)       0         \n",
            "_________________________________________________________________\n",
            "dropout_1 (Dropout)          (None, 80, 49, 256)       0         \n",
            "_________________________________________________________________\n",
            "conv2d_3 (Conv2D)            (None, 80, 49, 128)       295040    \n",
            "_________________________________________________________________\n",
            "activation_2 (Activation)    (None, 80, 49, 128)       0         \n",
            "_________________________________________________________________\n",
            "conv2d_4 (Conv2D)            (None, 80, 49, 128)       147584    \n",
            "_________________________________________________________________\n",
            "max_pooling2d_2 (MaxPooling2 (None, 40, 24, 128)       0         \n",
            "_________________________________________________________________\n",
            "dropout_2 (Dropout)          (None, 40, 24, 128)       0         \n",
            "_________________________________________________________________\n",
            "flatten_1 (Flatten)          (None, 122880)            0         \n",
            "_________________________________________________________________\n",
            "dense_1 (Dense)              (None, 256)               31457536  \n",
            "_________________________________________________________________\n",
            "dropout_3 (Dropout)          (None, 256)               0         \n",
            "_________________________________________________________________\n",
            "dense_2 (Dense)              (None, 12)                3084      \n",
            "=================================================================\n",
            "Total params: 32,495,884\n",
            "Trainable params: 32,495,884\n",
            "Non-trainable params: 0\n",
            "_________________________________________________________________\n"
          ],
          "name": "stdout"
        }
      ]
    },
    {
      "cell_type": "markdown",
      "metadata": {
        "id": "HbyP84dWtOls",
        "colab_type": "text"
      },
      "source": [
        "* Generate the class weights to account for the differences in the number of instances of each label.\n",
        "* The unknown class has significantly more files than all of the other classes."
      ]
    },
    {
      "cell_type": "code",
      "metadata": {
        "id": "gq-sVepuwSxB",
        "colab_type": "code",
        "colab": {}
      },
      "source": [
        "Y_integers = np.argmax(Y_train, axis=1)\n",
        "class_weights = compute_class_weight('balanced', np.unique(Y_integers), Y_integers)\n",
        "d_class_weights = dict(enumerate(class_weights))"
      ],
      "execution_count": 0,
      "outputs": []
    },
    {
      "cell_type": "markdown",
      "metadata": {
        "id": "HiGp6eSgtce0",
        "colab_type": "text"
      },
      "source": [
        "* Train the model over the default settings."
      ]
    },
    {
      "cell_type": "code",
      "metadata": {
        "id": "FPDpEQCnwA-E",
        "colab_type": "code",
        "outputId": "0380d59b-14dc-40a4-e7b2-63d69ef9434b",
        "colab": {
          "base_uri": "https://localhost:8080/",
          "height": 1000
        }
      },
      "source": [
        "history = model.fit(X_train_scaled,Y_train,epochs=20,validation_data=(X_val_scaled,Y_val),\n",
        "                    batch_size=128,shuffle=True,class_weight=d_class_weights)"
      ],
      "execution_count": 0,
      "outputs": [
        {
          "output_type": "stream",
          "text": [
            "WARNING:tensorflow:From /usr/local/lib/python3.6/dist-packages/tensorflow_core/python/ops/math_grad.py:1424: where (from tensorflow.python.ops.array_ops) is deprecated and will be removed in a future version.\n",
            "Instructions for updating:\n",
            "Use tf.where in 2.0, which has the same broadcast rule as np.where\n",
            "WARNING:tensorflow:From /usr/local/lib/python3.6/dist-packages/keras/backend/tensorflow_backend.py:1033: The name tf.assign_add is deprecated. Please use tf.compat.v1.assign_add instead.\n",
            "\n",
            "WARNING:tensorflow:From /usr/local/lib/python3.6/dist-packages/keras/backend/tensorflow_backend.py:1020: The name tf.assign is deprecated. Please use tf.compat.v1.assign instead.\n",
            "\n",
            "WARNING:tensorflow:From /usr/local/lib/python3.6/dist-packages/keras/backend/tensorflow_backend.py:3005: The name tf.Session is deprecated. Please use tf.compat.v1.Session instead.\n",
            "\n",
            "Train on 59531 samples, validate on 7200 samples\n",
            "Epoch 1/20\n",
            "WARNING:tensorflow:From /usr/local/lib/python3.6/dist-packages/keras/backend/tensorflow_backend.py:190: The name tf.get_default_session is deprecated. Please use tf.compat.v1.get_default_session instead.\n",
            "\n",
            "WARNING:tensorflow:From /usr/local/lib/python3.6/dist-packages/keras/backend/tensorflow_backend.py:197: The name tf.ConfigProto is deprecated. Please use tf.compat.v1.ConfigProto instead.\n",
            "\n",
            "WARNING:tensorflow:From /usr/local/lib/python3.6/dist-packages/keras/backend/tensorflow_backend.py:207: The name tf.global_variables is deprecated. Please use tf.compat.v1.global_variables instead.\n",
            "\n",
            "WARNING:tensorflow:From /usr/local/lib/python3.6/dist-packages/keras/backend/tensorflow_backend.py:216: The name tf.is_variable_initialized is deprecated. Please use tf.compat.v1.is_variable_initialized instead.\n",
            "\n",
            "WARNING:tensorflow:From /usr/local/lib/python3.6/dist-packages/keras/backend/tensorflow_backend.py:223: The name tf.variables_initializer is deprecated. Please use tf.compat.v1.variables_initializer instead.\n",
            "\n",
            "59531/59531 [==============================] - 405s 7ms/step - loss: 1.2869 - acc: 0.4070 - val_loss: 1.3136 - val_acc: 0.5424\n",
            "Epoch 2/20\n",
            "59531/59531 [==============================] - 384s 6ms/step - loss: 0.5972 - acc: 0.6589 - val_loss: 0.6989 - val_acc: 0.7585\n",
            "Epoch 3/20\n",
            "59531/59531 [==============================] - 385s 6ms/step - loss: 0.3565 - acc: 0.7704 - val_loss: 0.5301 - val_acc: 0.8147\n",
            "Epoch 4/20\n",
            "59531/59531 [==============================] - 385s 6ms/step - loss: 0.2536 - acc: 0.8222 - val_loss: 0.5234 - val_acc: 0.8285\n",
            "Epoch 5/20\n",
            "59531/59531 [==============================] - 385s 6ms/step - loss: 0.1965 - acc: 0.8588 - val_loss: 0.4489 - val_acc: 0.8658\n",
            "Epoch 6/20\n",
            "59531/59531 [==============================] - 385s 6ms/step - loss: 0.1480 - acc: 0.8854 - val_loss: 0.4602 - val_acc: 0.8626\n",
            "Epoch 7/20\n",
            "59531/59531 [==============================] - 385s 6ms/step - loss: 0.1371 - acc: 0.8925 - val_loss: 0.4035 - val_acc: 0.8839\n",
            "Epoch 8/20\n",
            "59531/59531 [==============================] - 385s 6ms/step - loss: 0.1296 - acc: 0.8981 - val_loss: 0.4273 - val_acc: 0.8750\n",
            "Epoch 9/20\n",
            "59531/59531 [==============================] - 385s 6ms/step - loss: 0.1097 - acc: 0.9123 - val_loss: 0.4695 - val_acc: 0.8797\n",
            "Epoch 10/20\n",
            "59531/59531 [==============================] - 385s 6ms/step - loss: 0.1122 - acc: 0.9146 - val_loss: 0.4200 - val_acc: 0.9018\n",
            "Epoch 11/20\n",
            "59531/59531 [==============================] - 385s 6ms/step - loss: 0.1442 - acc: 0.9009 - val_loss: 0.5106 - val_acc: 0.8711\n",
            "Epoch 12/20\n",
            "59531/59531 [==============================] - 385s 6ms/step - loss: 0.0983 - acc: 0.9238 - val_loss: 0.3979 - val_acc: 0.8985\n",
            "Epoch 13/20\n",
            "59531/59531 [==============================] - 385s 6ms/step - loss: 0.0635 - acc: 0.9436 - val_loss: 0.4633 - val_acc: 0.8982\n",
            "Epoch 14/20\n",
            "59531/59531 [==============================] - 385s 6ms/step - loss: 0.0785 - acc: 0.9393 - val_loss: 0.4546 - val_acc: 0.8963\n",
            "Epoch 15/20\n",
            "59531/59531 [==============================] - 385s 6ms/step - loss: 0.0709 - acc: 0.9407 - val_loss: 0.4074 - val_acc: 0.9092\n",
            "Epoch 16/20\n",
            "59531/59531 [==============================] - 385s 6ms/step - loss: 0.0566 - acc: 0.9520 - val_loss: 0.4154 - val_acc: 0.9110\n",
            "Epoch 17/20\n",
            "59531/59531 [==============================] - 385s 6ms/step - loss: 0.0706 - acc: 0.9440 - val_loss: 0.5341 - val_acc: 0.8963\n",
            "Epoch 18/20\n",
            "59531/59531 [==============================] - 385s 6ms/step - loss: 0.0639 - acc: 0.9474 - val_loss: 0.4417 - val_acc: 0.8938\n",
            "Epoch 19/20\n",
            "59531/59531 [==============================] - 385s 6ms/step - loss: 0.0618 - acc: 0.9512 - val_loss: 0.4792 - val_acc: 0.9006\n",
            "Epoch 20/20\n",
            "59531/59531 [==============================] - 385s 6ms/step - loss: 0.0681 - acc: 0.9499 - val_loss: 0.4899 - val_acc: 0.8919\n"
          ],
          "name": "stdout"
        }
      ]
    },
    {
      "cell_type": "markdown",
      "metadata": {
        "id": "htePz_Rrtg7o",
        "colab_type": "text"
      },
      "source": [
        "* Save the model to your working environment to use later.\n",
        "* This is to prevent errors causing you to have to retrain the entire model again!"
      ]
    },
    {
      "cell_type": "code",
      "metadata": {
        "id": "weUvqpoMqM_3",
        "colab_type": "code",
        "colab": {}
      },
      "source": [
        "model.save(\"Conv_Net_Model.h5\")"
      ],
      "execution_count": 0,
      "outputs": []
    },
    {
      "cell_type": "markdown",
      "metadata": {
        "id": "0TKn__8Zttw6",
        "colab_type": "text"
      },
      "source": [
        "* Code to plot the accuracy of the training and validation sets during model training.\n",
        "* Will save to a PDF figure in the working environment."
      ]
    },
    {
      "cell_type": "code",
      "metadata": {
        "id": "K6IMv_WPLsCp",
        "colab_type": "code",
        "outputId": "8a9891f7-f087-4651-b447-b122d541dea5",
        "colab": {
          "base_uri": "https://localhost:8080/",
          "height": 558
        }
      },
      "source": [
        "plt.plot(history.history['acc'])\n",
        "plt.plot(history.history['val_acc'])\n",
        "plt.title('Model accuracy')\n",
        "plt.ylabel('Accuracy')\n",
        "plt.xlabel('Epoch')\n",
        "plt.legend(['Train', 'Validation'], loc='bottom right')\n",
        "fig = plt.gcf()\n",
        "fig.savefig(\"CNN_fvocab_acc.pdf\",bbox_inches = \"tight\")\n",
        "plt.show()"
      ],
      "execution_count": 0,
      "outputs": [
        {
          "output_type": "stream",
          "text": [
            "/usr/local/lib/python3.6/dist-packages/ipykernel_launcher.py:6: MatplotlibDeprecationWarning: Unrecognized location 'bottom right'. Falling back on 'best'; valid locations are\n",
            "\tbest\n",
            "\tupper right\n",
            "\tupper left\n",
            "\tlower left\n",
            "\tlower right\n",
            "\tright\n",
            "\tcenter left\n",
            "\tcenter right\n",
            "\tlower center\n",
            "\tupper center\n",
            "\tcenter\n",
            "This will raise an exception in 3.3.\n",
            "  \n"
          ],
          "name": "stderr"
        },
        {
          "output_type": "display_data",
          "data": {
            "image/png": "[encoded data removed]",
            "text/plain": [
              "<Figure size 432x288 with 1 Axes>"
            ]
          },
          "metadata": {
            "tags": []
          }
        }
      ]
    },
    {
      "cell_type": "markdown",
      "metadata": {
        "id": "efkMacVrtyg0",
        "colab_type": "text"
      },
      "source": [
        "* Code to plot the loss of the training and validation sets during model training.\n",
        "* Will save to a PDF figure in the working environment."
      ]
    },
    {
      "cell_type": "code",
      "metadata": {
        "id": "1YsXbKn5L5Y1",
        "colab_type": "code",
        "outputId": "45065eed-fc50-4c35-adb4-881b4e969f7f",
        "colab": {
          "base_uri": "https://localhost:8080/",
          "height": 295
        }
      },
      "source": [
        "plt.plot(history.history['loss'])\n",
        "plt.plot(history.history['val_loss'])\n",
        "plt.title('Model loss')\n",
        "plt.ylabel('Loss')\n",
        "plt.xlabel('Epoch')\n",
        "plt.legend(['Train', 'Validation'], loc='upper right')\n",
        "fig = plt.gcf()\n",
        "fig.savefig(\"CNN_fvocab_loss.pdf\",bbox_inches = \"tight\")\n",
        "plt.show()"
      ],
      "execution_count": 0,
      "outputs": [
        {
          "output_type": "display_data",
          "data": {
            "image/png": "[encoded data removed]",
            "text/plain": [
              "<Figure size 432x288 with 1 Axes>"
            ]
          },
          "metadata": {
            "tags": []
          }
        }
      ]
    },
    {
      "cell_type": "markdown",
      "metadata": {
        "id": "Xq2lb8p9t20A",
        "colab_type": "text"
      },
      "source": [
        "* Load in parts of the testing data from the previous python notebook.\n",
        "* The training data is set to zero to free up memory.\n",
        "* Scale the testing data and make predictions."
      ]
    },
    {
      "cell_type": "code",
      "metadata": {
        "id": "MLrTHvj1pzCQ",
        "colab_type": "code",
        "outputId": "36d99b99-39e1-471c-f7b3-55030b14c0fc",
        "colab": {
          "base_uri": "https://localhost:8080/",
          "height": 360
        }
      },
      "source": [
        "X_train_scaled = 0\n",
        "X_train = 0\n",
        "\n",
        "X1 = np.load(\"/content/drive/My Drive/competition_data/X_train_p1.npy\")\n",
        "X1 = X1 * (1/255)\n",
        "predict_1 = model.predict(X1)"
      ],
      "execution_count": 0,
      "outputs": [
        {
          "output_type": "error",
          "ename": "FileNotFoundError",
          "evalue": "ignored",
          "traceback": [
            "\u001b[0;31m---------------------------------------------------------------------------\u001b[0m",
            "\u001b[0;31mFileNotFoundError\u001b[0m                         Traceback (most recent call last)",
            "\u001b[0;32m<ipython-input-39-36e7e899826f>\u001b[0m in \u001b[0;36m<module>\u001b[0;34m()\u001b[0m\n\u001b[0;32m----> 1\u001b[0;31m \u001b[0mX1\u001b[0m \u001b[0;34m=\u001b[0m \u001b[0mnp\u001b[0m\u001b[0;34m.\u001b[0m\u001b[0mload\u001b[0m\u001b[0;34m(\u001b[0m\u001b[0;34m\"/content/drive/My Drive/Tensor_Flow_Speech_Recognition_Challenge/Data_Files/test/X_train_p1.npy\"\u001b[0m\u001b[0;34m)\u001b[0m\u001b[0;34m\u001b[0m\u001b[0;34m\u001b[0m\u001b[0m\n\u001b[0m\u001b[1;32m      2\u001b[0m \u001b[0mX1\u001b[0m \u001b[0;34m=\u001b[0m \u001b[0mX1\u001b[0m \u001b[0;34m*\u001b[0m \u001b[0;34m(\u001b[0m\u001b[0;36m1\u001b[0m\u001b[0;34m/\u001b[0m\u001b[0;36m255\u001b[0m\u001b[0;34m)\u001b[0m\u001b[0;34m\u001b[0m\u001b[0;34m\u001b[0m\u001b[0m\n\u001b[1;32m      3\u001b[0m \u001b[0mX1\u001b[0m \u001b[0;34m=\u001b[0m \u001b[0mnp\u001b[0m\u001b[0;34m.\u001b[0m\u001b[0msqueeze\u001b[0m\u001b[0;34m(\u001b[0m\u001b[0mX1\u001b[0m\u001b[0;34m,\u001b[0m\u001b[0maxis\u001b[0m\u001b[0;34m=\u001b[0m\u001b[0;36m3\u001b[0m\u001b[0;34m)\u001b[0m\u001b[0;34m\u001b[0m\u001b[0;34m\u001b[0m\u001b[0m\n\u001b[1;32m      4\u001b[0m \u001b[0mpredict_1\u001b[0m \u001b[0;34m=\u001b[0m \u001b[0mmodel\u001b[0m\u001b[0;34m.\u001b[0m\u001b[0mpredict\u001b[0m\u001b[0;34m(\u001b[0m\u001b[0mX1\u001b[0m\u001b[0;34m)\u001b[0m\u001b[0;34m\u001b[0m\u001b[0;34m\u001b[0m\u001b[0m\n",
            "\u001b[0;32m/usr/local/lib/python3.6/dist-packages/numpy/lib/npyio.py\u001b[0m in \u001b[0;36mload\u001b[0;34m(file, mmap_mode, allow_pickle, fix_imports, encoding)\u001b[0m\n\u001b[1;32m    426\u001b[0m         \u001b[0mown_fid\u001b[0m \u001b[0;34m=\u001b[0m \u001b[0;32mFalse\u001b[0m\u001b[0;34m\u001b[0m\u001b[0;34m\u001b[0m\u001b[0m\n\u001b[1;32m    427\u001b[0m     \u001b[0;32melse\u001b[0m\u001b[0;34m:\u001b[0m\u001b[0;34m\u001b[0m\u001b[0;34m\u001b[0m\u001b[0m\n\u001b[0;32m--> 428\u001b[0;31m         \u001b[0mfid\u001b[0m \u001b[0;34m=\u001b[0m \u001b[0mopen\u001b[0m\u001b[0;34m(\u001b[0m\u001b[0mos_fspath\u001b[0m\u001b[0;34m(\u001b[0m\u001b[0mfile\u001b[0m\u001b[0;34m)\u001b[0m\u001b[0;34m,\u001b[0m \u001b[0;34m\"rb\"\u001b[0m\u001b[0;34m)\u001b[0m\u001b[0;34m\u001b[0m\u001b[0;34m\u001b[0m\u001b[0m\n\u001b[0m\u001b[1;32m    429\u001b[0m         \u001b[0mown_fid\u001b[0m \u001b[0;34m=\u001b[0m \u001b[0;32mTrue\u001b[0m\u001b[0;34m\u001b[0m\u001b[0;34m\u001b[0m\u001b[0m\n\u001b[1;32m    430\u001b[0m \u001b[0;34m\u001b[0m\u001b[0m\n",
            "\u001b[0;31mFileNotFoundError\u001b[0m: [Errno 2] No such file or directory: '/content/drive/My Drive/Tensor_Flow_Speech_Recognition_Challenge/Data_Files/test/X_train_p1.npy'"
          ]
        }
      ]
    },
    {
      "cell_type": "markdown",
      "metadata": {
        "id": "4JuaZcu8udOm",
        "colab_type": "text"
      },
      "source": [
        "* Load in the csv called filenames from the testing data pre-processing notebook.\n",
        "* This contains the filenames of the testing set in a .csv file which we will fill to generate a submission for the Kaggle competition."
      ]
    },
    {
      "cell_type": "code",
      "metadata": {
        "id": "iapSvMjxqHZ0",
        "colab_type": "code",
        "colab": {}
      },
      "source": [
        "output_data = pd.read_csv(\"/content/drive/My Drive/competition_data/filenames.csv\")"
      ],
      "execution_count": 0,
      "outputs": []
    },
    {
      "cell_type": "markdown",
      "metadata": {
        "id": "t8afawdDuvQ1",
        "colab_type": "text"
      },
      "source": [
        "* Convert the outputs of the model to integers representing the predicted word."
      ]
    },
    {
      "cell_type": "code",
      "metadata": {
        "id": "nuzBsar3qIBs",
        "colab_type": "code",
        "outputId": "52e3774f-e2fd-44e4-da86-596913f5b26d",
        "colab": {
          "base_uri": "https://localhost:8080/",
          "height": 35
        }
      },
      "source": [
        "predicted_class1 = np.argmax(predict_1,axis=1)\n",
        "predicted_class2 = np.argmax(predict_2,axis=1)\n",
        "predicted_class3 = np.argmax(predict_3,axis=1)\n",
        "\n",
        "print(predicted_class1)"
      ],
      "execution_count": 0,
      "outputs": [
        {
          "output_type": "stream",
          "text": [
            "[ 9  6 11 ...  9 11 11]\n"
          ],
          "name": "stdout"
        }
      ]
    },
    {
      "cell_type": "markdown",
      "metadata": {
        "id": "xVACkB1vu41l",
        "colab_type": "text"
      },
      "source": [
        "* Create a dictionary that can map each predicted number from the model to a word."
      ]
    },
    {
      "cell_type": "code",
      "metadata": {
        "id": "O7JeJ2QtqQu8",
        "colab_type": "code",
        "colab": {}
      },
      "source": [
        "label_dict = {\n",
        "    \n",
        "    0 : \"yes\",\n",
        "    1 : \"no\",\n",
        "    2 : \"up\",\n",
        "    3 : \"down\",\n",
        "    4 : \"left\",\n",
        "    5 : \"right\",\n",
        "    6 : \"on\",\n",
        "    7 : \"off\",\n",
        "    8 : \"stop\",\n",
        "    9 : \"go\",\n",
        "    10 : \"silence\",\n",
        "    11 : \"unknown\"\n",
        "\n",
        "}"
      ],
      "execution_count": 0,
      "outputs": []
    },
    {
      "cell_type": "markdown",
      "metadata": {
        "id": "2637SvT_u-4X",
        "colab_type": "text"
      },
      "source": [
        "* Map each predicted value from the model to a word.\n",
        "* Join the lists together to get the final list."
      ]
    },
    {
      "cell_type": "code",
      "metadata": {
        "id": "opPnI2wJS6yg",
        "colab_type": "code",
        "colab": {}
      },
      "source": [
        "predicted_class_labels1 = [label_dict[k] for k in predicted_class1]\n",
        "predicted_class_labels2 = [label_dict[k] for k in predicted_class2]\n",
        "predicted_class_labels3 = [label_dict[k] for k in predicted_class3]\n",
        "\n",
        "predicted_class_label = predicted_class_labels1 + predicted_class_labels2 + predicted_class_labels3"
      ],
      "execution_count": 0,
      "outputs": []
    },
    {
      "cell_type": "markdown",
      "metadata": {
        "id": "F9t1Vp5kvGvb",
        "colab_type": "text"
      },
      "source": [
        "* Create a new label in the dataframe called \"label\" which you will fill with the predicted labels"
      ]
    },
    {
      "cell_type": "code",
      "metadata": {
        "id": "bVUv8Bo4qTtl",
        "colab_type": "code",
        "outputId": "233e2016-e23d-4239-d8a0-fa8f58eb1488",
        "colab": {
          "base_uri": "https://localhost:8080/",
          "height": 202
        }
      },
      "source": [
        "output_data[\"label\"] = np.nan\n",
        "\n",
        "output_data.head()"
      ],
      "execution_count": 0,
      "outputs": [
        {
          "output_type": "execute_result",
          "data": {
            "text/html": [
              "<div>\n",
              "<style scoped>\n",
              "    .dataframe tbody tr th:only-of-type {\n",
              "        vertical-align: middle;\n",
              "    }\n",
              "\n",
              "    .dataframe tbody tr th {\n",
              "        vertical-align: top;\n",
              "    }\n",
              "\n",
              "    .dataframe thead th {\n",
              "        text-align: right;\n",
              "    }\n",
              "</style>\n",
              "<table border=\"1\" class=\"dataframe\">\n",
              "  <thead>\n",
              "    <tr style=\"text-align: right;\">\n",
              "      <th></th>\n",
              "      <th>Unnamed: 0</th>\n",
              "      <th>fname</th>\n",
              "      <th>label</th>\n",
              "    </tr>\n",
              "  </thead>\n",
              "  <tbody>\n",
              "    <tr>\n",
              "      <th>0</th>\n",
              "      <td>0</td>\n",
              "      <td>clip_000044442.wav</td>\n",
              "      <td>NaN</td>\n",
              "    </tr>\n",
              "    <tr>\n",
              "      <th>1</th>\n",
              "      <td>1</td>\n",
              "      <td>clip_0000adecb.wav</td>\n",
              "      <td>NaN</td>\n",
              "    </tr>\n",
              "    <tr>\n",
              "      <th>2</th>\n",
              "      <td>2</td>\n",
              "      <td>clip_0000d4322.wav</td>\n",
              "      <td>NaN</td>\n",
              "    </tr>\n",
              "    <tr>\n",
              "      <th>3</th>\n",
              "      <td>3</td>\n",
              "      <td>clip_0000fb6fe.wav</td>\n",
              "      <td>NaN</td>\n",
              "    </tr>\n",
              "    <tr>\n",
              "      <th>4</th>\n",
              "      <td>4</td>\n",
              "      <td>clip_0001d1559.wav</td>\n",
              "      <td>NaN</td>\n",
              "    </tr>\n",
              "  </tbody>\n",
              "</table>\n",
              "</div>"
            ],
            "text/plain": [
              "   Unnamed: 0               fname  label\n",
              "0           0  clip_000044442.wav    NaN\n",
              "1           1  clip_0000adecb.wav    NaN\n",
              "2           2  clip_0000d4322.wav    NaN\n",
              "3           3  clip_0000fb6fe.wav    NaN\n",
              "4           4  clip_0001d1559.wav    NaN"
            ]
          },
          "metadata": {
            "tags": []
          },
          "execution_count": 34
        }
      ]
    },
    {
      "cell_type": "markdown",
      "metadata": {
        "id": "SEddiFa-vQBx",
        "colab_type": "text"
      },
      "source": [
        "* Fill \"label\".\n",
        "* Check that label is filled correctly."
      ]
    },
    {
      "cell_type": "code",
      "metadata": {
        "id": "xH--ZxoJqdq-",
        "colab_type": "code",
        "outputId": "d2155bc4-60f5-42ee-f20c-73a774c755bb",
        "colab": {
          "base_uri": "https://localhost:8080/",
          "height": 219
        }
      },
      "source": [
        "predicted_class_array = np.asarray(predicted_class_label)\n",
        "print(predicted_class_array)\n",
        "\n",
        "output_data[\"label\"] = predicted_class_array\n",
        "\n",
        "output_data.head()"
      ],
      "execution_count": 0,
      "outputs": [
        {
          "output_type": "stream",
          "text": [
            "['go' 'on' 'unknown' ... 'stop' 'left' 'unknown']\n"
          ],
          "name": "stdout"
        },
        {
          "output_type": "execute_result",
          "data": {
            "text/html": [
              "<div>\n",
              "<style scoped>\n",
              "    .dataframe tbody tr th:only-of-type {\n",
              "        vertical-align: middle;\n",
              "    }\n",
              "\n",
              "    .dataframe tbody tr th {\n",
              "        vertical-align: top;\n",
              "    }\n",
              "\n",
              "    .dataframe thead th {\n",
              "        text-align: right;\n",
              "    }\n",
              "</style>\n",
              "<table border=\"1\" class=\"dataframe\">\n",
              "  <thead>\n",
              "    <tr style=\"text-align: right;\">\n",
              "      <th></th>\n",
              "      <th>Unnamed: 0</th>\n",
              "      <th>fname</th>\n",
              "      <th>label</th>\n",
              "    </tr>\n",
              "  </thead>\n",
              "  <tbody>\n",
              "    <tr>\n",
              "      <th>0</th>\n",
              "      <td>0</td>\n",
              "      <td>clip_000044442.wav</td>\n",
              "      <td>go</td>\n",
              "    </tr>\n",
              "    <tr>\n",
              "      <th>1</th>\n",
              "      <td>1</td>\n",
              "      <td>clip_0000adecb.wav</td>\n",
              "      <td>on</td>\n",
              "    </tr>\n",
              "    <tr>\n",
              "      <th>2</th>\n",
              "      <td>2</td>\n",
              "      <td>clip_0000d4322.wav</td>\n",
              "      <td>unknown</td>\n",
              "    </tr>\n",
              "    <tr>\n",
              "      <th>3</th>\n",
              "      <td>3</td>\n",
              "      <td>clip_0000fb6fe.wav</td>\n",
              "      <td>up</td>\n",
              "    </tr>\n",
              "    <tr>\n",
              "      <th>4</th>\n",
              "      <td>4</td>\n",
              "      <td>clip_0001d1559.wav</td>\n",
              "      <td>unknown</td>\n",
              "    </tr>\n",
              "  </tbody>\n",
              "</table>\n",
              "</div>"
            ],
            "text/plain": [
              "   Unnamed: 0               fname    label\n",
              "0           0  clip_000044442.wav       go\n",
              "1           1  clip_0000adecb.wav       on\n",
              "2           2  clip_0000d4322.wav  unknown\n",
              "3           3  clip_0000fb6fe.wav       up\n",
              "4           4  clip_0001d1559.wav  unknown"
            ]
          },
          "metadata": {
            "tags": []
          },
          "execution_count": 35
        }
      ]
    },
    {
      "cell_type": "markdown",
      "metadata": {
        "id": "Lw5RAHXJvVt0",
        "colab_type": "text"
      },
      "source": [
        "* Drop the unnamed axis from the .csv file."
      ]
    },
    {
      "cell_type": "code",
      "metadata": {
        "id": "0FSSG-ICqhtu",
        "colab_type": "code",
        "colab": {}
      },
      "source": [
        "output_data = output_data.drop(\"Unnamed: 0\",axis=1)"
      ],
      "execution_count": 0,
      "outputs": []
    },
    {
      "cell_type": "markdown",
      "metadata": {
        "id": "dEbwpBzWvZ9M",
        "colab_type": "text"
      },
      "source": [
        "* Check that the output is in the correct format."
      ]
    },
    {
      "cell_type": "code",
      "metadata": {
        "id": "tWlku4ELqipa",
        "colab_type": "code",
        "outputId": "cc9d428f-198a-4591-8cc4-79b0ffdeccba",
        "colab": {
          "base_uri": "https://localhost:8080/",
          "height": 202
        }
      },
      "source": [
        "output_data.head()"
      ],
      "execution_count": 0,
      "outputs": [
        {
          "output_type": "execute_result",
          "data": {
            "text/html": [
              "<div>\n",
              "<style scoped>\n",
              "    .dataframe tbody tr th:only-of-type {\n",
              "        vertical-align: middle;\n",
              "    }\n",
              "\n",
              "    .dataframe tbody tr th {\n",
              "        vertical-align: top;\n",
              "    }\n",
              "\n",
              "    .dataframe thead th {\n",
              "        text-align: right;\n",
              "    }\n",
              "</style>\n",
              "<table border=\"1\" class=\"dataframe\">\n",
              "  <thead>\n",
              "    <tr style=\"text-align: right;\">\n",
              "      <th></th>\n",
              "      <th>fname</th>\n",
              "      <th>label</th>\n",
              "    </tr>\n",
              "  </thead>\n",
              "  <tbody>\n",
              "    <tr>\n",
              "      <th>0</th>\n",
              "      <td>clip_000044442.wav</td>\n",
              "      <td>go</td>\n",
              "    </tr>\n",
              "    <tr>\n",
              "      <th>1</th>\n",
              "      <td>clip_0000adecb.wav</td>\n",
              "      <td>on</td>\n",
              "    </tr>\n",
              "    <tr>\n",
              "      <th>2</th>\n",
              "      <td>clip_0000d4322.wav</td>\n",
              "      <td>unknown</td>\n",
              "    </tr>\n",
              "    <tr>\n",
              "      <th>3</th>\n",
              "      <td>clip_0000fb6fe.wav</td>\n",
              "      <td>up</td>\n",
              "    </tr>\n",
              "    <tr>\n",
              "      <th>4</th>\n",
              "      <td>clip_0001d1559.wav</td>\n",
              "      <td>unknown</td>\n",
              "    </tr>\n",
              "  </tbody>\n",
              "</table>\n",
              "</div>"
            ],
            "text/plain": [
              "                fname    label\n",
              "0  clip_000044442.wav       go\n",
              "1  clip_0000adecb.wav       on\n",
              "2  clip_0000d4322.wav  unknown\n",
              "3  clip_0000fb6fe.wav       up\n",
              "4  clip_0001d1559.wav  unknown"
            ]
          },
          "metadata": {
            "tags": []
          },
          "execution_count": 37
        }
      ]
    },
    {
      "cell_type": "markdown",
      "metadata": {
        "id": "cfhgKLrpvcV5",
        "colab_type": "text"
      },
      "source": [
        "* Export the dataframe to a .csv file and ensure that index=False."
      ]
    },
    {
      "cell_type": "code",
      "metadata": {
        "id": "e0R_g9jdqoTm",
        "colab_type": "code",
        "colab": {}
      },
      "source": [
        "output_data.to_csv(\"submission_cnn.csv\",index=False)"
      ],
      "execution_count": 0,
      "outputs": []
    }
  ]
}