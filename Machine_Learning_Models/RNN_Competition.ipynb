{
  "nbformat": 4,
  "nbformat_minor": 0,
  "metadata": {
    "colab": {
      "name": "RecurrentNeuralNetwork_Competition.ipynb",
      "provenance": [],
      "collapsed_sections": [],
      "machine_shape": "hm"
    },
    "kernelspec": {
      "name": "python3",
      "display_name": "Python 3"
    },
    "accelerator": "GPU"
  },
  "cells": [
    {
      "cell_type": "markdown",
      "metadata": {
        "id": "vTmkdWXnvyeU",
        "colab_type": "text"
      },
      "source": [
        "# Recurrent Neural Network for Audio Recognition <br>\n",
        "\n",
        "Author: Jamie McQuire <br>\n",
        "\n",
        "* This notebook is for the competition dataset.\n",
        "* This is a recurrent neural network (RNN) model.\n",
        "* The network will be trained using the image data from the data pre-processing notebook.\n",
        "* Upload this notebook to [Google Colab](https://colab.research.google.com/) for faster computing with a GPU.\n",
        "* If you wish to repeat this analysis please upload the data from the pre-processing notebook and upload to a google drive (directories must be set appropriately.\n",
        "\n"
      ]
    },
    {
      "cell_type": "code",
      "metadata": {
        "id": "YB5Lnd7zSpZP",
        "colab_type": "code",
        "colab": {}
      },
      "source": [
        "#import libraries \n",
        "import numpy as np\n",
        "import os\n",
        "import matplotlib.pyplot as plt\n",
        "import pandas as pd\n",
        "\n",
        "import tensorflow as tf\n",
        "from keras.layers import Flatten, Conv2D, MaxPool2D, LSTM, Dropout, Dense, TimeDistributed, Input\n",
        "from keras.models import Model, load_model\n",
        "from keras.utils import to_categorical\n",
        "from sklearn.utils.class_weight import compute_class_weight"
      ],
      "execution_count": 0,
      "outputs": []
    },
    {
      "cell_type": "markdown",
      "metadata": {
        "id": "pckfpOfRwLE8",
        "colab_type": "text"
      },
      "source": [
        "* Mount to your google drive where you should have the data stored.\n",
        "* Alternatively you can store the data in the Colab working environment."
      ]
    },
    {
      "cell_type": "code",
      "metadata": {
        "id": "zPt-TozYSzwU",
        "colab_type": "code",
        "outputId": "5cfd8955-8471-4444-fd52-c3611ede4a03",
        "colab": {
          "base_uri": "https://localhost:8080/",
          "height": 124
        }
      },
      "source": [
        "from google.colab import drive\n",
        "drive.mount('/content/drive')"
      ],
      "execution_count": 0,
      "outputs": [
        {
          "output_type": "stream",
          "text": [
            "Go to this URL in a browser: https://accounts.google.com/o/oauth2/auth?client_id=947318989803-6bn6qk8qdgf4n4g3pfee6491hc0brc4i.apps.googleusercontent.com&redirect_uri=urn%3aietf%3awg%3aoauth%3a2.0%3aoob&response_type=code&scope=email%20https%3a%2f%2fwww.googleapis.com%2fauth%2fdocs.test%20https%3a%2f%2fwww.googleapis.com%2fauth%2fdrive%20https%3a%2f%2fwww.googleapis.com%2fauth%2fdrive.photos.readonly%20https%3a%2f%2fwww.googleapis.com%2fauth%2fpeopleapi.readonly\n",
            "\n",
            "Enter your authorization code:\n",
            "··········\n",
            "Mounted at /content/drive\n"
          ],
          "name": "stdout"
        }
      ]
    },
    {
      "cell_type": "markdown",
      "metadata": {
        "id": "yLMxEYIIwU5H",
        "colab_type": "text"
      },
      "source": [
        "* Load in the training and validation data from the pre-processing notebook.\n",
        "* Set your directories for reproducible analysis."
      ]
    },
    {
      "cell_type": "code",
      "metadata": {
        "id": "2_bBhEqOS6aw",
        "colab_type": "code",
        "colab": {}
      },
      "source": [
        "#load in the training data and labels\n",
        "X_train = np.load(\"/content/drive/My Drive/competition_data/X_train.npy\")\n",
        "Y_train = np.load(\"/content/drive/My Drive/competition_data/Y_train.npy\")\n",
        "\n",
        "#load in the validation data and labels\n",
        "X_val = np.load(\"/content/drive/My Drive/competition_data/X_val.npy\")\n",
        "Y_val = np.load(\"/content/drive/My Drive/competition_data/Y_val.npy\")"
      ],
      "execution_count": 0,
      "outputs": []
    },
    {
      "cell_type": "markdown",
      "metadata": {
        "id": "3iKXCdBtwZg1",
        "colab_type": "text"
      },
      "source": [
        "* These are the default settings\n",
        "* Check that image_size = (161,99,1)"
      ]
    },
    {
      "cell_type": "code",
      "metadata": {
        "id": "F42HBc96S-07",
        "colab_type": "code",
        "outputId": "abeceb9c-8138-4c19-bddb-a96913e2543c",
        "colab": {
          "base_uri": "https://localhost:8080/",
          "height": 35
        }
      },
      "source": [
        "batch_size = 128\n",
        "epochs = 10\n",
        "image_size = X_train.shape[1:]\n",
        "output_size = 6\n",
        "\n",
        "print(image_size)"
      ],
      "execution_count": 0,
      "outputs": [
        {
          "output_type": "stream",
          "text": [
            "(161, 99, 1)\n"
          ],
          "name": "stdout"
        }
      ]
    },
    {
      "cell_type": "markdown",
      "metadata": {
        "id": "d6NYbLgAwhBX",
        "colab_type": "text"
      },
      "source": [
        "* Scale the image pixels for deep learning."
      ]
    },
    {
      "cell_type": "code",
      "metadata": {
        "id": "ZCeO-I6rTCfc",
        "colab_type": "code",
        "colab": {}
      },
      "source": [
        "X_train_scaled = X_train * (1 / 255)\n",
        "X_val_scaled = X_val * (1  / 255)"
      ],
      "execution_count": 0,
      "outputs": []
    },
    {
      "cell_type": "markdown",
      "metadata": {
        "id": "-Xus0pj3wjhr",
        "colab_type": "text"
      },
      "source": [
        "* Remove the channel dimension for the LSTM layers."
      ]
    },
    {
      "cell_type": "code",
      "metadata": {
        "id": "mFjy3R5WTExy",
        "colab_type": "code",
        "colab": {}
      },
      "source": [
        "#remove the channel dimension for the recurrent neural networks \n",
        "X_train_scaled = np.squeeze(X_train_scaled,axis=3)\n",
        "X_val_scaled = np.squeeze(X_val_scaled,axis=3)"
      ],
      "execution_count": 0,
      "outputs": []
    },
    {
      "cell_type": "markdown",
      "metadata": {
        "id": "cy9L_JQPwnQi",
        "colab_type": "text"
      },
      "source": [
        "* Convert the labels to one-hot-encoded vectors."
      ]
    },
    {
      "cell_type": "code",
      "metadata": {
        "id": "DVqEMIG5THFd",
        "colab_type": "code",
        "outputId": "520f1ef1-d165-4781-8ab0-0acd16affc5b",
        "colab": {
          "base_uri": "https://localhost:8080/",
          "height": 35
        }
      },
      "source": [
        "Y_train = to_categorical(Y_train,num_classes=12)\n",
        "Y_val = to_categorical(Y_val,num_classes=12)\n"
      ],
      "execution_count": 0,
      "outputs": [
        {
          "output_type": "execute_result",
          "data": {
            "text/plain": [
              "array([1., 0., 0., 0., 0., 0., 0., 0., 0., 0., 0., 0.], dtype=float32)"
            ]
          },
          "metadata": {
            "tags": []
          },
          "execution_count": 8
        }
      ]
    },
    {
      "cell_type": "markdown",
      "metadata": {
        "id": "WbTZ_xv_wrcT",
        "colab_type": "text"
      },
      "source": [
        "* This function will define the RNN model architecture."
      ]
    },
    {
      "cell_type": "code",
      "metadata": {
        "id": "S69Yb6hMTLft",
        "colab_type": "code",
        "colab": {}
      },
      "source": [
        "def create_recurrent_model(input_shape=(161,99),num_classes=12):\n",
        "\n",
        "  X_input = Input(input_shape)\n",
        "\n",
        "  #first LSTM layer\n",
        "  X = LSTM(512,input_shape=input_shape, return_sequences=True)(X_input)\n",
        "  X = LSTM(256, return_sequences=True)(X)\n",
        "  X = LSTM(512,return_sequences=True)(X)\n",
        "  X = Dropout(0.5)(X)\n",
        "\n",
        "  #reduce the dimensions\n",
        "  X = TimeDistributed(Dense(256,activation=\"relu\"))(X)\n",
        "  X = TimeDistributed(Dense(128,activation=\"relu\"))(X)\n",
        "  X = TimeDistributed(Dense(64,activation=\"relu\"))(X)\n",
        "  X = TimeDistributed(Dense(32,activation=\"relu\"))(X)\n",
        "  X = Dropout(0.5)(X)\n",
        "  X = Flatten()(X)\n",
        "  X  = Dense(num_classes,activation=\"softmax\")(X)\n",
        "\n",
        "  model = Model(inputs=X_input,outputs=X,name=\"RNN_Classifier\")\n",
        "\n",
        "  return model"
      ],
      "execution_count": 0,
      "outputs": []
    },
    {
      "cell_type": "markdown",
      "metadata": {
        "id": "tUrAcrrXwv3n",
        "colab_type": "text"
      },
      "source": [
        "* Generate and compile the model.\n",
        "* The summary should provide information about the layers."
      ]
    },
    {
      "cell_type": "code",
      "metadata": {
        "id": "MHAHrKynTOC2",
        "colab_type": "code",
        "outputId": "a4210d41-e76b-45fe-f8e1-90b7f1155c00",
        "colab": {
          "base_uri": "https://localhost:8080/",
          "height": 572
        }
      },
      "source": [
        "model = create_recurrent_model()\n",
        "model.compile(loss=\"categorical_crossentropy\",optimizer=\"adam\",metrics=[\"acc\"])\n",
        "model.summary()"
      ],
      "execution_count": 0,
      "outputs": [
        {
          "output_type": "stream",
          "text": [
            "Model: \"RNN_Classifier\"\n",
            "_________________________________________________________________\n",
            "Layer (type)                 Output Shape              Param #   \n",
            "=================================================================\n",
            "input_2 (InputLayer)         (None, 161, 99)           0         \n",
            "_________________________________________________________________\n",
            "lstm_4 (LSTM)                (None, 161, 512)          1253376   \n",
            "_________________________________________________________________\n",
            "lstm_5 (LSTM)                (None, 161, 256)          787456    \n",
            "_________________________________________________________________\n",
            "lstm_6 (LSTM)                (None, 161, 512)          1574912   \n",
            "_________________________________________________________________\n",
            "dropout_3 (Dropout)          (None, 161, 512)          0         \n",
            "_________________________________________________________________\n",
            "time_distributed_5 (TimeDist (None, 161, 256)          131328    \n",
            "_________________________________________________________________\n",
            "time_distributed_6 (TimeDist (None, 161, 128)          32896     \n",
            "_________________________________________________________________\n",
            "time_distributed_7 (TimeDist (None, 161, 64)           8256      \n",
            "_________________________________________________________________\n",
            "time_distributed_8 (TimeDist (None, 161, 32)           2080      \n",
            "_________________________________________________________________\n",
            "dropout_4 (Dropout)          (None, 161, 32)           0         \n",
            "_________________________________________________________________\n",
            "flatten_2 (Flatten)          (None, 5152)              0         \n",
            "_________________________________________________________________\n",
            "dense_10 (Dense)             (None, 12)                61836     \n",
            "=================================================================\n",
            "Total params: 3,852,140\n",
            "Trainable params: 3,852,140\n",
            "Non-trainable params: 0\n",
            "_________________________________________________________________\n"
          ],
          "name": "stdout"
        }
      ]
    },
    {
      "cell_type": "markdown",
      "metadata": {
        "id": "amY5ONppw1FD",
        "colab_type": "text"
      },
      "source": [
        "* Generate the class weights.\n",
        "* This is because the unknown class contains significantly more files than the other labels."
      ]
    },
    {
      "cell_type": "code",
      "metadata": {
        "id": "xbjcB_v8TQYo",
        "colab_type": "code",
        "colab": {}
      },
      "source": [
        "Y_integers = np.argmax(Y_train, axis=1)\n",
        "class_weights = compute_class_weight('balanced', np.unique(Y_integers), Y_integers)\n",
        "d_class_weights = dict(enumerate(class_weights))"
      ],
      "execution_count": 0,
      "outputs": []
    },
    {
      "cell_type": "markdown",
      "metadata": {
        "id": "GbiH1oyTw9nI",
        "colab_type": "text"
      },
      "source": [
        "* Train the model over the default settings."
      ]
    },
    {
      "cell_type": "code",
      "metadata": {
        "id": "6JBczEMRTZJs",
        "colab_type": "code",
        "outputId": "63631b70-1655-4b0c-b61c-7e2bfbb57d1d",
        "colab": {
          "base_uri": "https://localhost:8080/",
          "height": 748
        }
      },
      "source": [
        "history = model.fit(X_train_scaled,Y_train,batch_size=batch_size,epochs=20,verbose=1,validation_data=(X_val_scaled,Y_val))"
      ],
      "execution_count": 0,
      "outputs": [
        {
          "output_type": "stream",
          "text": [
            "Train on 59531 samples, validate on 7200 samples\n",
            "Epoch 1/20\n",
            "59531/59531 [==============================] - 409s 7ms/step - loss: 1.2850 - acc: 0.6449 - val_loss: 0.9746 - val_acc: 0.6946\n",
            "Epoch 2/20\n",
            "59531/59531 [==============================] - 406s 7ms/step - loss: 0.8931 - acc: 0.7117 - val_loss: 0.7187 - val_acc: 0.7510\n",
            "Epoch 3/20\n",
            "59531/59531 [==============================] - 404s 7ms/step - loss: 0.6611 - acc: 0.7829 - val_loss: 0.6235 - val_acc: 0.7946\n",
            "Epoch 4/20\n",
            "59531/59531 [==============================] - 405s 7ms/step - loss: 0.5377 - acc: 0.8254 - val_loss: 0.4488 - val_acc: 0.8514\n",
            "Epoch 5/20\n",
            "59531/59531 [==============================] - 405s 7ms/step - loss: 0.4548 - acc: 0.8522 - val_loss: 0.4558 - val_acc: 0.8528\n",
            "Epoch 6/20\n",
            "59531/59531 [==============================] - 404s 7ms/step - loss: 0.3927 - acc: 0.8726 - val_loss: 0.3783 - val_acc: 0.8781\n",
            "Epoch 7/20\n",
            "59531/59531 [==============================] - 404s 7ms/step - loss: 0.3495 - acc: 0.8872 - val_loss: 0.3858 - val_acc: 0.8774\n",
            "Epoch 8/20\n",
            "59531/59531 [==============================] - 404s 7ms/step - loss: 0.3227 - acc: 0.8963 - val_loss: 0.3512 - val_acc: 0.8876\n",
            "Epoch 9/20\n",
            "59531/59531 [==============================] - 405s 7ms/step - loss: 0.2927 - acc: 0.9063 - val_loss: 0.3376 - val_acc: 0.8969\n",
            "Epoch 10/20\n",
            "59531/59531 [==============================] - 403s 7ms/step - loss: 0.2697 - acc: 0.9128 - val_loss: 0.3041 - val_acc: 0.9036\n",
            "Epoch 11/20\n",
            "59531/59531 [==============================] - 406s 7ms/step - loss: 0.2440 - acc: 0.9204 - val_loss: 0.3231 - val_acc: 0.9017\n",
            "Epoch 12/20\n",
            "59531/59531 [==============================] - 406s 7ms/step - loss: 0.2430 - acc: 0.9218 - val_loss: 0.2873 - val_acc: 0.9179\n",
            "Epoch 13/20\n",
            "59531/59531 [==============================] - 405s 7ms/step - loss: 0.2131 - acc: 0.9315 - val_loss: 0.3025 - val_acc: 0.9090\n",
            "Epoch 14/20\n",
            "59531/59531 [==============================] - 401s 7ms/step - loss: 0.2054 - acc: 0.9333 - val_loss: 0.2767 - val_acc: 0.9168\n",
            "Epoch 15/20\n",
            "59531/59531 [==============================] - 402s 7ms/step - loss: 0.1894 - acc: 0.9381 - val_loss: 0.2756 - val_acc: 0.9179\n",
            "Epoch 16/20\n",
            "59531/59531 [==============================] - 402s 7ms/step - loss: 0.1787 - acc: 0.9413 - val_loss: 0.2628 - val_acc: 0.9222\n",
            "Epoch 17/20\n",
            "59531/59531 [==============================] - 401s 7ms/step - loss: 0.1677 - acc: 0.9450 - val_loss: 0.2661 - val_acc: 0.9251\n",
            "Epoch 18/20\n",
            "59531/59531 [==============================] - 403s 7ms/step - loss: 0.1577 - acc: 0.9495 - val_loss: 0.2797 - val_acc: 0.9224\n",
            "Epoch 19/20\n",
            "59531/59531 [==============================] - 411s 7ms/step - loss: 0.1512 - acc: 0.9514 - val_loss: 0.2630 - val_acc: 0.9274\n",
            "Epoch 20/20\n",
            "59531/59531 [==============================] - 408s 7ms/step - loss: 0.1490 - acc: 0.9516 - val_loss: 0.2690 - val_acc: 0.9260\n"
          ],
          "name": "stdout"
        }
      ]
    },
    {
      "cell_type": "markdown",
      "metadata": {
        "id": "joS9QEDZxAeQ",
        "colab_type": "text"
      },
      "source": [
        "* Save the model to your working environment to use later.\n",
        "* This is to prevent errors causing you to have to retrain the entire model again!"
      ]
    },
    {
      "cell_type": "code",
      "metadata": {
        "id": "bZbNmGZMxEhN",
        "colab_type": "code",
        "colab": {}
      },
      "source": [
        "model.save(\"RNN_Model.h5\")"
      ],
      "execution_count": 0,
      "outputs": []
    },
    {
      "cell_type": "markdown",
      "metadata": {
        "id": "LzRQ3pHzxLKp",
        "colab_type": "text"
      },
      "source": [
        "* Code to plot the accuracy of the training and validation sets during model training.\n",
        "* Will save to a PDF figure in the working environment."
      ]
    },
    {
      "cell_type": "code",
      "metadata": {
        "id": "RapBerGGwW2c",
        "colab_type": "code",
        "outputId": "58fd725a-1fd0-4fce-fd78-ebc595fdc539",
        "colab": {
          "base_uri": "https://localhost:8080/",
          "height": 558
        }
      },
      "source": [
        "plt.plot(history.history['acc'])\n",
        "plt.plot(history.history['val_acc'])\n",
        "plt.title('Model accuracy')\n",
        "plt.ylabel('Accuracy')\n",
        "plt.xlabel('Epoch')\n",
        "plt.legend(['Train', 'Validation'], loc='bottom right')\n",
        "fig = plt.gcf()\n",
        "fig.savefig(\"RNN_fvocab_acc.pdf\",bbox_inches = \"tight\")\n",
        "plt.show()"
      ],
      "execution_count": 0,
      "outputs": [
        {
          "output_type": "stream",
          "text": [
            "/usr/local/lib/python3.6/dist-packages/ipykernel_launcher.py:6: MatplotlibDeprecationWarning: Unrecognized location 'bottom right'. Falling back on 'best'; valid locations are\n",
            "\tbest\n",
            "\tupper right\n",
            "\tupper left\n",
            "\tlower left\n",
            "\tlower right\n",
            "\tright\n",
            "\tcenter left\n",
            "\tcenter right\n",
            "\tlower center\n",
            "\tupper center\n",
            "\tcenter\n",
            "This will raise an exception in 3.3.\n",
            "  \n"
          ],
          "name": "stderr"
        },
        {
          "output_type": "display_data",
          "data": {
            "image/png": "[encoded data removed]",
            "text/plain": [
              "<Figure size 432x288 with 1 Axes>"
            ]
          },
          "metadata": {
            "tags": []
          }
        }
      ]
    },
    {
      "cell_type": "markdown",
      "metadata": {
        "id": "VwzPqaQtxMmA",
        "colab_type": "text"
      },
      "source": [
        "* Code to plot the loss of the training and validation sets during model training.\n",
        "* Will save to a PDF figure in the working environment."
      ]
    },
    {
      "cell_type": "code",
      "metadata": {
        "id": "YrQ6LCMDwZ8-",
        "colab_type": "code",
        "outputId": "a4cf249b-6fc1-4f4d-ad24-e0f0d310bf3d",
        "colab": {
          "base_uri": "https://localhost:8080/",
          "height": 295
        }
      },
      "source": [
        "plt.plot(history.history['loss'])\n",
        "plt.plot(history.history['val_loss'])\n",
        "plt.title('Model loss')\n",
        "plt.ylabel('Loss')\n",
        "plt.xlabel('Epoch')\n",
        "plt.legend(['Train', 'Validation'], loc='upper right')\n",
        "fig = plt.gcf()\n",
        "fig.savefig(\"RNN_fvocab_loss.pdf\",bbox_inches = \"tight\")\n",
        "plt.show()"
      ],
      "execution_count": 0,
      "outputs": [
        {
          "output_type": "display_data",
          "data": {
            "image/png": "[encoded data removed]",
            "text/plain": [
              "<Figure size 432x288 with 1 Axes>"
            ]
          },
          "metadata": {
            "tags": []
          }
        }
      ]
    },
    {
      "cell_type": "markdown",
      "metadata": {
        "id": "biHmZAcMxRSC",
        "colab_type": "text"
      },
      "source": [
        "* Load the model in for analysis.\n",
        "* Note: Skip if you do not need to do this step."
      ]
    },
    {
      "cell_type": "code",
      "metadata": {
        "id": "-4TrHIxJHD4A",
        "colab_type": "code",
        "colab": {}
      },
      "source": [
        "model = load_model(\"/content/drive/My Drive/Tensor_Flow_Speech_Recognition_Challenge/Trained_Models/Recurrent_Net_Model.h5\")"
      ],
      "execution_count": 0,
      "outputs": []
    },
    {
      "cell_type": "markdown",
      "metadata": {
        "id": "5GfxAFLixWyi",
        "colab_type": "text"
      },
      "source": [
        "* Load in the testing data, scale, and then remove the channel dimension.\n",
        "* Make predictions using the testing data."
      ]
    },
    {
      "cell_type": "code",
      "metadata": {
        "id": "Uj2Z3PQLHdQu",
        "colab_type": "code",
        "outputId": "7be436a2-620c-458c-ccd6-9f369c538215",
        "colab": {
          "base_uri": "https://localhost:8080/",
          "height": 360
        }
      },
      "source": [
        "X1 = np.load(\"/content/drive/My Drive/Tensor_Flow_Speech_Recognition_Challenge/Data_Files/test/X_train_p1.npy\")\n",
        "X1 = X1 * (1/255)\n",
        "X1 = np.squeeze(X1,axis=3)\n",
        "predict_1 = model.predict(X1)"
      ],
      "execution_count": 0,
      "outputs": [
        {
          "output_type": "error",
          "ename": "FileNotFoundError",
          "evalue": "ignored",
          "traceback": [
            "\u001b[0;31m---------------------------------------------------------------------------\u001b[0m",
            "\u001b[0;31mFileNotFoundError\u001b[0m                         Traceback (most recent call last)",
            "\u001b[0;32m<ipython-input-17-36e7e899826f>\u001b[0m in \u001b[0;36m<module>\u001b[0;34m()\u001b[0m\n\u001b[0;32m----> 1\u001b[0;31m \u001b[0mX1\u001b[0m \u001b[0;34m=\u001b[0m \u001b[0mnp\u001b[0m\u001b[0;34m.\u001b[0m\u001b[0mload\u001b[0m\u001b[0;34m(\u001b[0m\u001b[0;34m\"/content/drive/My Drive/Tensor_Flow_Speech_Recognition_Challenge/Data_Files/test/X_train_p1.npy\"\u001b[0m\u001b[0;34m)\u001b[0m\u001b[0;34m\u001b[0m\u001b[0;34m\u001b[0m\u001b[0m\n\u001b[0m\u001b[1;32m      2\u001b[0m \u001b[0mX1\u001b[0m \u001b[0;34m=\u001b[0m \u001b[0mX1\u001b[0m \u001b[0;34m*\u001b[0m \u001b[0;34m(\u001b[0m\u001b[0;36m1\u001b[0m\u001b[0;34m/\u001b[0m\u001b[0;36m255\u001b[0m\u001b[0;34m)\u001b[0m\u001b[0;34m\u001b[0m\u001b[0;34m\u001b[0m\u001b[0m\n\u001b[1;32m      3\u001b[0m \u001b[0mX1\u001b[0m \u001b[0;34m=\u001b[0m \u001b[0mnp\u001b[0m\u001b[0;34m.\u001b[0m\u001b[0msqueeze\u001b[0m\u001b[0;34m(\u001b[0m\u001b[0mX1\u001b[0m\u001b[0;34m,\u001b[0m\u001b[0maxis\u001b[0m\u001b[0;34m=\u001b[0m\u001b[0;36m3\u001b[0m\u001b[0;34m)\u001b[0m\u001b[0;34m\u001b[0m\u001b[0;34m\u001b[0m\u001b[0m\n\u001b[1;32m      4\u001b[0m \u001b[0mpredict_1\u001b[0m \u001b[0;34m=\u001b[0m \u001b[0mmodel\u001b[0m\u001b[0;34m.\u001b[0m\u001b[0mpredict\u001b[0m\u001b[0;34m(\u001b[0m\u001b[0mX1\u001b[0m\u001b[0;34m)\u001b[0m\u001b[0;34m\u001b[0m\u001b[0;34m\u001b[0m\u001b[0m\n",
            "\u001b[0;32m/usr/local/lib/python3.6/dist-packages/numpy/lib/npyio.py\u001b[0m in \u001b[0;36mload\u001b[0;34m(file, mmap_mode, allow_pickle, fix_imports, encoding)\u001b[0m\n\u001b[1;32m    426\u001b[0m         \u001b[0mown_fid\u001b[0m \u001b[0;34m=\u001b[0m \u001b[0;32mFalse\u001b[0m\u001b[0;34m\u001b[0m\u001b[0;34m\u001b[0m\u001b[0m\n\u001b[1;32m    427\u001b[0m     \u001b[0;32melse\u001b[0m\u001b[0;34m:\u001b[0m\u001b[0;34m\u001b[0m\u001b[0;34m\u001b[0m\u001b[0m\n\u001b[0;32m--> 428\u001b[0;31m         \u001b[0mfid\u001b[0m \u001b[0;34m=\u001b[0m \u001b[0mopen\u001b[0m\u001b[0;34m(\u001b[0m\u001b[0mos_fspath\u001b[0m\u001b[0;34m(\u001b[0m\u001b[0mfile\u001b[0m\u001b[0;34m)\u001b[0m\u001b[0;34m,\u001b[0m \u001b[0;34m\"rb\"\u001b[0m\u001b[0;34m)\u001b[0m\u001b[0;34m\u001b[0m\u001b[0;34m\u001b[0m\u001b[0m\n\u001b[0m\u001b[1;32m    429\u001b[0m         \u001b[0mown_fid\u001b[0m \u001b[0;34m=\u001b[0m \u001b[0;32mTrue\u001b[0m\u001b[0;34m\u001b[0m\u001b[0;34m\u001b[0m\u001b[0m\n\u001b[1;32m    430\u001b[0m \u001b[0;34m\u001b[0m\u001b[0m\n",
            "\u001b[0;31mFileNotFoundError\u001b[0m: [Errno 2] No such file or directory: '/content/drive/My Drive/Tensor_Flow_Speech_Recognition_Challenge/Data_Files/test/X_train_p1.npy'"
          ]
        }
      ]
    },
    {
      "cell_type": "markdown",
      "metadata": {
        "id": "LSxrA7p5xdoU",
        "colab_type": "text"
      },
      "source": [
        "* Repeat for the other parts of the testing data."
      ]
    },
    {
      "cell_type": "code",
      "metadata": {
        "id": "qeN2QaCoHzVE",
        "colab_type": "code",
        "colab": {}
      },
      "source": [
        "X1 = 0\n",
        "X2 = np.load(\"/content/drive/My Drive/Tensor_Flow_Speech_Recognition_Challenge/Data_Files/test/X_train_p2.npy\")\n",
        "X2 = X2 * (1/255)\n",
        "X2 = np.squeeze(X2,axis=3)\n",
        "predict_2 = model.predict(X2)"
      ],
      "execution_count": 0,
      "outputs": []
    },
    {
      "cell_type": "code",
      "metadata": {
        "id": "wAKe8dJmH1tr",
        "colab_type": "code",
        "colab": {}
      },
      "source": [
        "X2 = 0\n",
        "X3 = np.load(\"/content/drive/My Drive/Tensor_Flow_Speech_Recognition_Challenge/Data_Files/test/X_train_p3.npy\")\n",
        "X3 = X3 * (1/255)\n",
        "X3 = np.squeeze(X3,axis=3)\n",
        "predict_3 = model.predict(X3)"
      ],
      "execution_count": 0,
      "outputs": []
    },
    {
      "cell_type": "markdown",
      "metadata": {
        "id": "8Fm1lUKTxhA4",
        "colab_type": "text"
      },
      "source": [
        "* Load in the filename .csv file from the testing pre-processing notebook."
      ]
    },
    {
      "cell_type": "code",
      "metadata": {
        "id": "fKTrzzS3H30d",
        "colab_type": "code",
        "colab": {}
      },
      "source": [
        "output_data = pd.read_csv(\"/content/drive/My Drive/Tensor_Flow_Speech_Recognition_Challenge/Data_Files/test/filenames.csv\")"
      ],
      "execution_count": 0,
      "outputs": []
    },
    {
      "cell_type": "markdown",
      "metadata": {
        "id": "91KRKiO3xmAY",
        "colab_type": "text"
      },
      "source": [
        "* Convert the model outputs into integers representing the predicted word."
      ]
    },
    {
      "cell_type": "code",
      "metadata": {
        "id": "BoTGUMU6H6Ol",
        "colab_type": "code",
        "colab": {}
      },
      "source": [
        "predicted_class1 = np.argmax(predict_1,axis=1)\n",
        "predicted_class2 = np.argmax(predict_2,axis=1)\n",
        "predicted_class3 = np.argmax(predict_3,axis=1)"
      ],
      "execution_count": 0,
      "outputs": []
    },
    {
      "cell_type": "markdown",
      "metadata": {
        "id": "1ZTf8SzJxtqf",
        "colab_type": "text"
      },
      "source": [
        "* Create a dictionary that maps the number to the correct word.\n",
        "* Map the predicted integers to the correct word for each prediction.\n",
        "* Append the lists together to get a list of the predicted words for the testing set."
      ]
    },
    {
      "cell_type": "code",
      "metadata": {
        "id": "x3uQjnt_H8Zz",
        "colab_type": "code",
        "colab": {}
      },
      "source": [
        "label_dict = {\n",
        "    0 : \"yes\",\n",
        "    1 : \"no\",\n",
        "    2 : \"up\",\n",
        "    3 : \"down\",\n",
        "    4 : \"left\",\n",
        "    5 : \"right\",\n",
        "    6 : \"on\",\n",
        "    7 : \"off\",\n",
        "    8 : \"stop\",\n",
        "    9 : \"go\",\n",
        "    10 : \"silence\",\n",
        "    11 : \"unknown\"\n",
        "\n",
        "}\n",
        "\n",
        "predicted_class_labels1 = [label_dict[k] for k in predicted_class1]\n",
        "predicted_class_labels2 = [label_dict[k] for k in predicted_class2]\n",
        "predicted_class_labels3 = [label_dict[k] for k in predicted_class3]\n",
        "\n",
        "predicted_class_label = predicted_class_labels1 + predicted_class_labels2 + predicted_class_labels3"
      ],
      "execution_count": 0,
      "outputs": []
    },
    {
      "cell_type": "markdown",
      "metadata": {
        "id": "rIsU5hQXx428",
        "colab_type": "text"
      },
      "source": [
        "* Create a new column in the dataframe caled \"label\" which we will fill with the predicted words for each file.\n",
        "* Drop the unnamed axis from the output data.\n",
        "* Check that the output looks correct."
      ]
    },
    {
      "cell_type": "code",
      "metadata": {
        "id": "7p1S3u_8IB06",
        "colab_type": "code",
        "colab": {}
      },
      "source": [
        "output_data[\"label\"] = np.nan\n",
        "\n",
        "predicted_class_array = np.asarray(predicted_class_label)\n",
        "print(predicted_class_array)\n",
        "\n",
        "output_data[\"label\"] = predicted_class_array\n",
        "\n",
        "output_data = output_data.drop(\"Unnamed: 0\",axis=1)\n",
        "\n",
        "output_data.head()"
      ],
      "execution_count": 0,
      "outputs": []
    },
    {
      "cell_type": "markdown",
      "metadata": {
        "id": "MXhwfyu4yEvd",
        "colab_type": "text"
      },
      "source": [
        "* Convert the dataframe to a .csv file.\n",
        "* Ensure index=False.\n",
        "* The file is ready for submission to Kaggle."
      ]
    },
    {
      "cell_type": "code",
      "metadata": {
        "id": "v8sJNKueISCK",
        "colab_type": "code",
        "colab": {}
      },
      "source": [
        "output_data.to_csv(\"submission2.csv\",index=False)"
      ],
      "execution_count": 0,
      "outputs": []
    }
  ]
}