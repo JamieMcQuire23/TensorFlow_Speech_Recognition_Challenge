{
  "nbformat": 4,
  "nbformat_minor": 0,
  "metadata": {
    "kernelspec": {
      "name": "python3",
      "display_name": "Python 3"
    },
    "language_info": {
      "codemirror_mode": {
        "name": "ipython",
        "version": 3
      },
      "file_extension": ".py",
      "mimetype": "text/x-python",
      "name": "python",
      "nbconvert_exporter": "python",
      "pygments_lexer": "ipython3",
      "version": "3.7.4"
    },
    "colab": {
      "name": "ResNet_Colab.ipynb",
      "provenance": [],
      "collapsed_sections": [],
      "toc_visible": true
    },
    "accelerator": "GPU"
  },
  "cells": [
    {
      "cell_type": "markdown",
      "metadata": {
        "id": "g-ygLwy5EX82",
        "colab_type": "text"
      },
      "source": [
        "# Deep Residual Learning for Audio Recogniton <br>\n",
        "\n",
        "Author: Jamie McQuire <br>\n",
        "\n",
        "* This notebook is for the 6-word vocabulary dataset.\n",
        "* This notebook is going to implement a ResNet network for the classifiation of the spectrogram images.\n",
        "* This [tutorial](https://www.youtube.com/watch?v=wqkc-sj5H94) helped build the model.\n",
        "* This model will be trained using the image data from the pre-processing notebook.\n",
        "* Upload this notebook to google colab for faster computing with a GPU.\n",
        "* If you wish to repeat this analysis please upload the notebook to google drive (directories must be set appropriately)."
      ]
    },
    {
      "cell_type": "code",
      "metadata": {
        "id": "d3hRzJBiEX88",
        "colab_type": "code",
        "outputId": "e43062f8-4b79-4bc6-b634-643b6f9cda21",
        "colab": {
          "base_uri": "https://localhost:8080/",
          "height": 99
        }
      },
      "source": [
        "#import libraries\n",
        "import os\n",
        "import numpy as np\n",
        "import tensorflow as tf\n",
        "import keras\n",
        "import seaborn as sn\n",
        "from keras import layers\n",
        "from keras.initializers import glorot_uniform\n",
        "from keras.layers import Input, Add, Dense, Activation, Dropout, ZeroPadding2D, BatchNormalization, Flatten, Conv2D, AveragePooling2D, MaxPooling2D\n",
        "from keras.models import Model, load_model\n",
        "import matplotlib.pyplot as plt\n",
        "import pandas as pd\n",
        "from keras.preprocessing.image import ImageDataGenerator\n",
        "from keras.utils import plot_model\n",
        "from IPython.display import SVG\n",
        "from keras.utils import model_to_dot\n",
        "from sklearn.metrics import confusion_matrix\n",
        "import keras\n",
        "from keras.utils import to_categorical"
      ],
      "execution_count": 1,
      "outputs": [
        {
          "output_type": "display_data",
          "data": {
            "text/html": [
              "<p style=\"color: red;\">\n",
              "The default version of TensorFlow in Colab will soon switch to TensorFlow 2.x.<br>\n",
              "We recommend you <a href=\"https://www.tensorflow.org/guide/migrate\" target=\"_blank\">upgrade</a> now \n",
              "or ensure your notebook will continue to use TensorFlow 1.x via the <code>%tensorflow_version 1.x</code> magic:\n",
              "<a href=\"https://colab.research.google.com/notebooks/tensorflow_version.ipynb\" target=\"_blank\">more info</a>.</p>\n"
            ],
            "text/plain": [
              "<IPython.core.display.HTML object>"
            ]
          },
          "metadata": {
            "tags": []
          }
        },
        {
          "output_type": "stream",
          "text": [
            "Using TensorFlow backend.\n"
          ],
          "name": "stderr"
        }
      ]
    },
    {
      "cell_type": "markdown",
      "metadata": {
        "id": "_T7-_cIBV8QN",
        "colab_type": "text"
      },
      "source": [
        "* Mount the google drive where you should have the data stored.\n",
        "* Alternatively load the data into your working directory."
      ]
    },
    {
      "cell_type": "code",
      "metadata": {
        "id": "KCt0q3wPEptz",
        "colab_type": "code",
        "outputId": "b28a9c42-354a-4cd1-841f-8d5d06ecc8c0",
        "colab": {
          "base_uri": "https://localhost:8080/",
          "height": 55
        }
      },
      "source": [
        "from google.colab import drive\n",
        "drive.mount('/content/drive')"
      ],
      "execution_count": 0,
      "outputs": [
        {
          "output_type": "stream",
          "text": [
            "Drive already mounted at /content/drive; to attempt to forcibly remount, call drive.mount(\"/content/drive\", force_remount=True).\n"
          ],
          "name": "stdout"
        }
      ]
    },
    {
      "cell_type": "markdown",
      "metadata": {
        "id": "XOAatTirWKGN",
        "colab_type": "text"
      },
      "source": [
        "* Load in the training, validation, and testing data from your specified directory.\n",
        "* Change the directory to repeat the analysis."
      ]
    },
    {
      "cell_type": "code",
      "metadata": {
        "id": "KvFlwVG5EX9L",
        "colab_type": "code",
        "colab": {}
      },
      "source": [
        "#load in the training data and labels\n",
        "X_train = np.load(\"/content/drive/My Drive/Tensor_Flow_Speech_Recognition_Challenge/data/X_train.npy\")\n",
        "Y_train = np.load(\"/content/drive/My Drive/Tensor_Flow_Speech_Recognition_Challenge/data/Y_train.npy\")\n",
        "\n",
        "#load in the validation data and labels\n",
        "X_val = np.load(\"/content/drive/My Drive/Tensor_Flow_Speech_Recognition_Challenge/data/X_val.npy\")\n",
        "Y_val = np.load(\"/content/drive/My Drive/Tensor_Flow_Speech_Recognition_Challenge/data/Y_val.npy\")\n",
        "\n",
        "X_test = np.load(\"/content/drive/My Drive/Tensor_Flow_Speech_Recognition_Challenge/data/X_test.npy\")\n",
        "Y_test = np.load(\"/content/drive/My Drive/Tensor_Flow_Speech_Recognition_Challenge/data/Y_test.npy\")"
      ],
      "execution_count": 0,
      "outputs": []
    },
    {
      "cell_type": "markdown",
      "metadata": {
        "id": "kxjnKVF5WUbZ",
        "colab_type": "text"
      },
      "source": [
        "* These are the default settings.\n",
        "* Check that the image_size = (161,99,1).\n"
      ]
    },
    {
      "cell_type": "code",
      "metadata": {
        "id": "_N4lEd35EX9S",
        "colab_type": "code",
        "outputId": "cc671091-94bd-42d7-a94c-da1b719c1dde",
        "colab": {
          "base_uri": "https://localhost:8080/",
          "height": 35
        }
      },
      "source": [
        "batch_size = 128\n",
        "epochs = 10\n",
        "image_size = X_train.shape[1:]\n",
        "output_size = 6\n",
        "\n",
        "print(image_size)"
      ],
      "execution_count": 0,
      "outputs": [
        {
          "output_type": "stream",
          "text": [
            "(161, 99, 1)\n"
          ],
          "name": "stdout"
        }
      ]
    },
    {
      "cell_type": "markdown",
      "metadata": {
        "id": "cXMBtjJ8Wa9g",
        "colab_type": "text"
      },
      "source": [
        "* Scale the image pixel data for the deep learning models."
      ]
    },
    {
      "cell_type": "code",
      "metadata": {
        "id": "lwRMdptzEX9Z",
        "colab_type": "code",
        "colab": {}
      },
      "source": [
        "#scale the training data\n",
        "X_train_scaled = X_train * (1 / 255)\n",
        "X_val_scaled = X_val * (1  / 255)\n",
        "X_test_scaled = X_test * (1 / 255)"
      ],
      "execution_count": 0,
      "outputs": []
    },
    {
      "cell_type": "markdown",
      "metadata": {
        "id": "Pg3dKAEQWfq4",
        "colab_type": "text"
      },
      "source": [
        "* Convert the labels to one-hot-encoded vectors."
      ]
    },
    {
      "cell_type": "code",
      "metadata": {
        "id": "ypot2wjOWpWQ",
        "colab_type": "code",
        "colab": {}
      },
      "source": [
        "Y_train = to_categorical(Y_train,num_classes=output_size)\n",
        "Y_val = to_categorical(Y_val,num_classes=output_size)\n",
        "Y_test = to_categorical(Y_test,num_classes=output_size)"
      ],
      "execution_count": 0,
      "outputs": []
    },
    {
      "cell_type": "markdown",
      "metadata": {
        "id": "Kv0OS7OqWzxw",
        "colab_type": "text"
      },
      "source": [
        "* This function will define the architecture of the identity block."
      ]
    },
    {
      "cell_type": "code",
      "metadata": {
        "id": "dJ-6WG3hEX9o",
        "colab_type": "code",
        "colab": {}
      },
      "source": [
        "#building the identity block of the ResNet\n",
        "\n",
        "def identity_block(X,f,filters,stage,block):\n",
        "    \n",
        "    #this is the function for the identity block\n",
        "    #X is the input tensor\n",
        "    #f is the filter shape for the middle block\n",
        "    #filters is the list containing the filter sizes (int)\n",
        "    #stage names the layer relative to the position in the network\n",
        "    #block is used to name the layers \n",
        "    \n",
        "    #name definition\n",
        "    conv_name_base = \"res\" + str(stage) + block + \"_branch\"\n",
        "    bn_name_base = \"bn\" + str(stage) + block + \"_branch\"\n",
        "    \n",
        "    #filters 1,2,3\n",
        "    f1, f2, f3 = filters\n",
        "    \n",
        "    #initial value\n",
        "    X_shortcut = X\n",
        "    \n",
        "    #define the first component block \n",
        "    X = Conv2D(filters=f1, kernel_size=(1,1),strides=(1,1),padding=\"valid\",name=conv_name_base+\"2a\",kernel_initializer= glorot_uniform(seed=0))(X)\n",
        "    X = BatchNormalization(axis=3,name=bn_name_base + \"2a\")(X)\n",
        "    X = Activation(\"relu\")(X)\n",
        "    \n",
        "    #second component block \n",
        "    X = Conv2D(filters=f2, kernel_size=(f,f),strides=(1,1),padding=\"same\",name=conv_name_base+\"2b\",kernel_initializer=glorot_uniform(seed=0))(X)\n",
        "    X = BatchNormalization(axis=3,name=bn_name_base + \"2b\")(X)\n",
        "    X = Activation(\"relu\")(X)\n",
        "    \n",
        "    #third component block \n",
        "    X = Conv2D(filters=f3,kernel_size=(1,1),strides=(1,1),padding=\"valid\",name=conv_name_base+\"2c\",kernel_initializer=glorot_uniform(seed=0))(X)\n",
        "    X = BatchNormalization(axis=3,name=bn_name_base + \"2c\")(X)\n",
        "    \n",
        "    #make the connection at the add block \n",
        "    X = Add()([X,X_shortcut])\n",
        "    #finish with the relu activation layer\n",
        "    X = Activation(\"relu\")(X)\n",
        "    \n",
        "    #return the new value of X\n",
        "    return X"
      ],
      "execution_count": 0,
      "outputs": []
    },
    {
      "cell_type": "markdown",
      "metadata": {
        "id": "h7uUZ6b3W6T0",
        "colab_type": "text"
      },
      "source": [
        "* This function will define the architecture of the convolutional block."
      ]
    },
    {
      "cell_type": "code",
      "metadata": {
        "id": "9nCMn2b3EX9t",
        "colab_type": "code",
        "colab": {}
      },
      "source": [
        "def convolution_block(X,f,filters,stage,block,s=2):\n",
        "    \n",
        "    conv_name_base = \"res\" + str(stage) + block + \"_branch\"\n",
        "    bn_name_base = \"bn\" + str(stage) + block + \"_branch\"\n",
        "    \n",
        "    f1, f2, f3 = filters\n",
        "    \n",
        "    #initialize the value of X\n",
        "    X_shortcut = X\n",
        "    \n",
        "    #the branch from the main path\n",
        "    X_filt3 = Conv2D(f3,(1,1),strides=(s,s),name=conv_name_base+\"1\",kernel_initializer=glorot_uniform(seed=0))(X_shortcut)\n",
        "    X_filt3 = BatchNormalization(axis=3,name=bn_name_base + \"1\")(X_filt3)\n",
        "    \n",
        "    #main path\n",
        "    \n",
        "    #block 1\n",
        "    X = Conv2D(f1,kernel_size=(1,1),strides=(s,s),name=conv_name_base+\"2a\",kernel_initializer=glorot_uniform(seed=0))(X)\n",
        "    X = BatchNormalization(axis=3,name=bn_name_base+\"2a\")(X)\n",
        "    X = Activation(\"relu\")(X)\n",
        "    \n",
        "    #block 2\n",
        "    X = Conv2D(f2,kernel_size=(f,f),strides=(1,1),padding=\"same\",name=conv_name_base+\"2b\",kernel_initializer=glorot_uniform(seed=0))(X)\n",
        "    X = BatchNormalization(axis=3,name=bn_name_base+\"2b\")(X)\n",
        "    X = Activation(\"relu\")(X)\n",
        "    \n",
        "    #block 3\n",
        "    X = Conv2D(f3,kernel_size=(1,1),strides=(1,1),padding=\"valid\",name=conv_name_base+\"2c\",kernel_initializer=glorot_uniform(seed=0))(X)\n",
        "    X = BatchNormalization(axis=3,name=bn_name_base+\"2c\")(X)\n",
        "    \n",
        "    #add the branch and the main path together\n",
        "    X = Add()([X,X_filt3])\n",
        "    \n",
        "    #finish with a relu\n",
        "    X = Activation(\"relu\")(X) \n",
        "    \n",
        "    #return the new value of X\n",
        "    return X"
      ],
      "execution_count": 0,
      "outputs": []
    },
    {
      "cell_type": "markdown",
      "metadata": {
        "id": "VmF6W0JeW91_",
        "colab_type": "text"
      },
      "source": [
        "* This function will define the architecture of the ResNet model.\n",
        "* Change the hyper-parameters to change the results."
      ]
    },
    {
      "cell_type": "code",
      "metadata": {
        "id": "JvgaTV0NEX96",
        "colab_type": "code",
        "colab": {}
      },
      "source": [
        "def ResNet50(input_shape=(161,99,1), num_classes=6):\n",
        "    \n",
        "    X_input = Input(input_shape)\n",
        "    \n",
        "    #padding\n",
        "    X = ZeroPadding2D((3,3))(X_input)\n",
        "    \n",
        "    #stage1\n",
        "    X = Conv2D(64, (7,7),strides=(2,2),name=\"conv1\",kernel_initializer=glorot_uniform(seed=0))(X)\n",
        "    X = BatchNormalization(axis=3,name=\"bn_conv1\")(X)\n",
        "    X = Activation(\"relu\")(X)\n",
        "    X = MaxPooling2D((3,3),strides=(2,2))(X)\n",
        "\n",
        "    X = Dropout(0.25)(X)\n",
        "    \n",
        "    #stage2\n",
        "    X = convolution_block(X,f=3,filters=[64,64,256],stage=2,s=1,block=\"a\")\n",
        "    X = identity_block(X,f=3,filters=[64,64,256],stage=2,block=\"b\")\n",
        "    X = identity_block(X,f=3,filters=[64,64,256],stage=2,block=\"c\")\n",
        "\n",
        "    X = Dropout(0.25)(X)\n",
        "    \n",
        "    #stage3\n",
        "    X = convolution_block(X,f=3,filters=[128,128,512],stage=3,s=2,block=\"a\")\n",
        "    X = identity_block(X,f=3,filters=[128,128,512],stage=3,block=\"b\")\n",
        "    X = identity_block(X,f=3,filters=[128,128,512],stage=3,block=\"c\")\n",
        "    X = identity_block(X,f=3,filters=[128,128,512],stage=3,block=\"d\")\n",
        "\n",
        "    X = Dropout(0.25)(X)\n",
        "    \n",
        "    #stage4\n",
        "    X = convolution_block(X,f=3,filters=[256,256,1024],stage=4,s=2,block=\"a\")\n",
        "    X = identity_block(X,f=3,filters=[256,256,1024],stage=4,block=\"b\")\n",
        "    X = identity_block(X,f=3,filters=[256,256,1024],stage=4,block=\"c\")\n",
        "    X = identity_block(X,f=3,filters=[256,256,1024],stage=4,block=\"d\")\n",
        "    X = identity_block(X,f=3,filters=[256,256,1024],stage=4,block=\"e\")\n",
        "    X = identity_block(X,f=3,filters=[256,256,1024],stage=4,block=\"f\")\n",
        "\n",
        "    X = Dropout(0.25)(X)\n",
        "    \n",
        "    #stage5\n",
        "    X = convolution_block(X,f=3,filters=[512,512,2048],stage=5,s=2,block=\"a\")\n",
        "    X = identity_block(X,f=3,filters=[512,512,2048],stage=5,block=\"b\")\n",
        "    X = identity_block(X,f=3,filters=[512,512,2048],stage=5,block=\"c\")\n",
        "\n",
        "    X = Dropout(0.25)(X)\n",
        "    \n",
        "    #stage6\n",
        "    X = AveragePooling2D(pool_size=(2,2),name=\"avg_pool\")(X)\n",
        "    X = Flatten()(X)\n",
        "    X = Dense(num_classes,activation=\"softmax\",name=\"fc\"+str(num_classes))(X)\n",
        "    \n",
        "    model = Model(inputs=X_input,outputs=X,name=\"ResNet50\")\n",
        "    \n",
        "    return model"
      ],
      "execution_count": 0,
      "outputs": []
    },
    {
      "cell_type": "markdown",
      "metadata": {
        "id": "zEBAtUCwXIQ-",
        "colab_type": "text"
      },
      "source": [
        "* Create the model and compile.\n",
        "* Summary should provide information about the model's layers."
      ]
    },
    {
      "cell_type": "code",
      "metadata": {
        "id": "cIf-ph0fEX-A",
        "colab_type": "code",
        "outputId": "22d21697-9dfe-44cb-e5b6-ca5bd25b6718",
        "colab": {
          "base_uri": "https://localhost:8080/",
          "height": 1000
        }
      },
      "source": [
        "model = ResNet50(input_shape=(161,99,1),num_classes=6)\n",
        "\n",
        "model.compile(optimizer=\"adam\",loss=\"categorical_crossentropy\",metrics=[\"acc\"])\n",
        "\n",
        "model.summary()"
      ],
      "execution_count": 0,
      "outputs": [
        {
          "output_type": "stream",
          "text": [
            "WARNING:tensorflow:From /usr/local/lib/python3.6/dist-packages/keras/backend/tensorflow_backend.py:66: The name tf.get_default_graph is deprecated. Please use tf.compat.v1.get_default_graph instead.\n",
            "\n",
            "WARNING:tensorflow:From /usr/local/lib/python3.6/dist-packages/keras/backend/tensorflow_backend.py:541: The name tf.placeholder is deprecated. Please use tf.compat.v1.placeholder instead.\n",
            "\n",
            "WARNING:tensorflow:From /usr/local/lib/python3.6/dist-packages/keras/backend/tensorflow_backend.py:4432: The name tf.random_uniform is deprecated. Please use tf.random.uniform instead.\n",
            "\n",
            "WARNING:tensorflow:From /usr/local/lib/python3.6/dist-packages/keras/backend/tensorflow_backend.py:190: The name tf.get_default_session is deprecated. Please use tf.compat.v1.get_default_session instead.\n",
            "\n",
            "WARNING:tensorflow:From /usr/local/lib/python3.6/dist-packages/keras/backend/tensorflow_backend.py:197: The name tf.ConfigProto is deprecated. Please use tf.compat.v1.ConfigProto instead.\n",
            "\n",
            "WARNING:tensorflow:From /usr/local/lib/python3.6/dist-packages/keras/backend/tensorflow_backend.py:203: The name tf.Session is deprecated. Please use tf.compat.v1.Session instead.\n",
            "\n",
            "WARNING:tensorflow:From /usr/local/lib/python3.6/dist-packages/keras/backend/tensorflow_backend.py:207: The name tf.global_variables is deprecated. Please use tf.compat.v1.global_variables instead.\n",
            "\n",
            "WARNING:tensorflow:From /usr/local/lib/python3.6/dist-packages/keras/backend/tensorflow_backend.py:216: The name tf.is_variable_initialized is deprecated. Please use tf.compat.v1.is_variable_initialized instead.\n",
            "\n",
            "WARNING:tensorflow:From /usr/local/lib/python3.6/dist-packages/keras/backend/tensorflow_backend.py:223: The name tf.variables_initializer is deprecated. Please use tf.compat.v1.variables_initializer instead.\n",
            "\n",
            "WARNING:tensorflow:From /usr/local/lib/python3.6/dist-packages/keras/backend/tensorflow_backend.py:2041: The name tf.nn.fused_batch_norm is deprecated. Please use tf.compat.v1.nn.fused_batch_norm instead.\n",
            "\n",
            "WARNING:tensorflow:From /usr/local/lib/python3.6/dist-packages/keras/backend/tensorflow_backend.py:148: The name tf.placeholder_with_default is deprecated. Please use tf.compat.v1.placeholder_with_default instead.\n",
            "\n",
            "WARNING:tensorflow:From /usr/local/lib/python3.6/dist-packages/keras/backend/tensorflow_backend.py:4267: The name tf.nn.max_pool is deprecated. Please use tf.nn.max_pool2d instead.\n",
            "\n",
            "WARNING:tensorflow:From /usr/local/lib/python3.6/dist-packages/keras/backend/tensorflow_backend.py:3733: calling dropout (from tensorflow.python.ops.nn_ops) with keep_prob is deprecated and will be removed in a future version.\n",
            "Instructions for updating:\n",
            "Please use `rate` instead of `keep_prob`. Rate should be set to `rate = 1 - keep_prob`.\n",
            "WARNING:tensorflow:From /usr/local/lib/python3.6/dist-packages/keras/backend/tensorflow_backend.py:4271: The name tf.nn.avg_pool is deprecated. Please use tf.nn.avg_pool2d instead.\n",
            "\n",
            "WARNING:tensorflow:From /usr/local/lib/python3.6/dist-packages/keras/optimizers.py:793: The name tf.train.Optimizer is deprecated. Please use tf.compat.v1.train.Optimizer instead.\n",
            "\n",
            "WARNING:tensorflow:From /usr/local/lib/python3.6/dist-packages/keras/backend/tensorflow_backend.py:3576: The name tf.log is deprecated. Please use tf.math.log instead.\n",
            "\n",
            "Model: \"ResNet50\"\n",
            "__________________________________________________________________________________________________\n",
            "Layer (type)                    Output Shape         Param #     Connected to                     \n",
            "==================================================================================================\n",
            "input_1 (InputLayer)            (None, 161, 99, 1)   0                                            \n",
            "__________________________________________________________________________________________________\n",
            "zero_padding2d_1 (ZeroPadding2D (None, 167, 105, 1)  0           input_1[0][0]                    \n",
            "__________________________________________________________________________________________________\n",
            "conv1 (Conv2D)                  (None, 81, 50, 64)   3200        zero_padding2d_1[0][0]           \n",
            "__________________________________________________________________________________________________\n",
            "bn_conv1 (BatchNormalization)   (None, 81, 50, 64)   256         conv1[0][0]                      \n",
            "__________________________________________________________________________________________________\n",
            "activation_1 (Activation)       (None, 81, 50, 64)   0           bn_conv1[0][0]                   \n",
            "__________________________________________________________________________________________________\n",
            "max_pooling2d_1 (MaxPooling2D)  (None, 40, 24, 64)   0           activation_1[0][0]               \n",
            "__________________________________________________________________________________________________\n",
            "dropout_1 (Dropout)             (None, 40, 24, 64)   0           max_pooling2d_1[0][0]            \n",
            "__________________________________________________________________________________________________\n",
            "res2a_branch2a (Conv2D)         (None, 40, 24, 64)   4160        dropout_1[0][0]                  \n",
            "__________________________________________________________________________________________________\n",
            "bn2a_branch2a (BatchNormalizati (None, 40, 24, 64)   256         res2a_branch2a[0][0]             \n",
            "__________________________________________________________________________________________________\n",
            "activation_2 (Activation)       (None, 40, 24, 64)   0           bn2a_branch2a[0][0]              \n",
            "__________________________________________________________________________________________________\n",
            "res2a_branch2b (Conv2D)         (None, 40, 24, 64)   36928       activation_2[0][0]               \n",
            "__________________________________________________________________________________________________\n",
            "bn2a_branch2b (BatchNormalizati (None, 40, 24, 64)   256         res2a_branch2b[0][0]             \n",
            "__________________________________________________________________________________________________\n",
            "activation_3 (Activation)       (None, 40, 24, 64)   0           bn2a_branch2b[0][0]              \n",
            "__________________________________________________________________________________________________\n",
            "res2a_branch2c (Conv2D)         (None, 40, 24, 256)  16640       activation_3[0][0]               \n",
            "__________________________________________________________________________________________________\n",
            "res2a_branch1 (Conv2D)          (None, 40, 24, 256)  16640       dropout_1[0][0]                  \n",
            "__________________________________________________________________________________________________\n",
            "bn2a_branch2c (BatchNormalizati (None, 40, 24, 256)  1024        res2a_branch2c[0][0]             \n",
            "__________________________________________________________________________________________________\n",
            "bn2a_branch1 (BatchNormalizatio (None, 40, 24, 256)  1024        res2a_branch1[0][0]              \n",
            "__________________________________________________________________________________________________\n",
            "add_1 (Add)                     (None, 40, 24, 256)  0           bn2a_branch2c[0][0]              \n",
            "                                                                 bn2a_branch1[0][0]               \n",
            "__________________________________________________________________________________________________\n",
            "activation_4 (Activation)       (None, 40, 24, 256)  0           add_1[0][0]                      \n",
            "__________________________________________________________________________________________________\n",
            "res2b_branch2a (Conv2D)         (None, 40, 24, 64)   16448       activation_4[0][0]               \n",
            "__________________________________________________________________________________________________\n",
            "bn2b_branch2a (BatchNormalizati (None, 40, 24, 64)   256         res2b_branch2a[0][0]             \n",
            "__________________________________________________________________________________________________\n",
            "activation_5 (Activation)       (None, 40, 24, 64)   0           bn2b_branch2a[0][0]              \n",
            "__________________________________________________________________________________________________\n",
            "res2b_branch2b (Conv2D)         (None, 40, 24, 64)   36928       activation_5[0][0]               \n",
            "__________________________________________________________________________________________________\n",
            "bn2b_branch2b (BatchNormalizati (None, 40, 24, 64)   256         res2b_branch2b[0][0]             \n",
            "__________________________________________________________________________________________________\n",
            "activation_6 (Activation)       (None, 40, 24, 64)   0           bn2b_branch2b[0][0]              \n",
            "__________________________________________________________________________________________________\n",
            "res2b_branch2c (Conv2D)         (None, 40, 24, 256)  16640       activation_6[0][0]               \n",
            "__________________________________________________________________________________________________\n",
            "bn2b_branch2c (BatchNormalizati (None, 40, 24, 256)  1024        res2b_branch2c[0][0]             \n",
            "__________________________________________________________________________________________________\n",
            "add_2 (Add)                     (None, 40, 24, 256)  0           bn2b_branch2c[0][0]              \n",
            "                                                                 activation_4[0][0]               \n",
            "__________________________________________________________________________________________________\n",
            "activation_7 (Activation)       (None, 40, 24, 256)  0           add_2[0][0]                      \n",
            "__________________________________________________________________________________________________\n",
            "res2c_branch2a (Conv2D)         (None, 40, 24, 64)   16448       activation_7[0][0]               \n",
            "__________________________________________________________________________________________________\n",
            "bn2c_branch2a (BatchNormalizati (None, 40, 24, 64)   256         res2c_branch2a[0][0]             \n",
            "__________________________________________________________________________________________________\n",
            "activation_8 (Activation)       (None, 40, 24, 64)   0           bn2c_branch2a[0][0]              \n",
            "__________________________________________________________________________________________________\n",
            "res2c_branch2b (Conv2D)         (None, 40, 24, 64)   36928       activation_8[0][0]               \n",
            "__________________________________________________________________________________________________\n",
            "bn2c_branch2b (BatchNormalizati (None, 40, 24, 64)   256         res2c_branch2b[0][0]             \n",
            "__________________________________________________________________________________________________\n",
            "activation_9 (Activation)       (None, 40, 24, 64)   0           bn2c_branch2b[0][0]              \n",
            "__________________________________________________________________________________________________\n",
            "res2c_branch2c (Conv2D)         (None, 40, 24, 256)  16640       activation_9[0][0]               \n",
            "__________________________________________________________________________________________________\n",
            "bn2c_branch2c (BatchNormalizati (None, 40, 24, 256)  1024        res2c_branch2c[0][0]             \n",
            "__________________________________________________________________________________________________\n",
            "add_3 (Add)                     (None, 40, 24, 256)  0           bn2c_branch2c[0][0]              \n",
            "                                                                 activation_7[0][0]               \n",
            "__________________________________________________________________________________________________\n",
            "activation_10 (Activation)      (None, 40, 24, 256)  0           add_3[0][0]                      \n",
            "__________________________________________________________________________________________________\n",
            "dropout_2 (Dropout)             (None, 40, 24, 256)  0           activation_10[0][0]              \n",
            "__________________________________________________________________________________________________\n",
            "res3a_branch2a (Conv2D)         (None, 20, 12, 128)  32896       dropout_2[0][0]                  \n",
            "__________________________________________________________________________________________________\n",
            "bn3a_branch2a (BatchNormalizati (None, 20, 12, 128)  512         res3a_branch2a[0][0]             \n",
            "__________________________________________________________________________________________________\n",
            "activation_11 (Activation)      (None, 20, 12, 128)  0           bn3a_branch2a[0][0]              \n",
            "__________________________________________________________________________________________________\n",
            "res3a_branch2b (Conv2D)         (None, 20, 12, 128)  147584      activation_11[0][0]              \n",
            "__________________________________________________________________________________________________\n",
            "bn3a_branch2b (BatchNormalizati (None, 20, 12, 128)  512         res3a_branch2b[0][0]             \n",
            "__________________________________________________________________________________________________\n",
            "activation_12 (Activation)      (None, 20, 12, 128)  0           bn3a_branch2b[0][0]              \n",
            "__________________________________________________________________________________________________\n",
            "res3a_branch2c (Conv2D)         (None, 20, 12, 512)  66048       activation_12[0][0]              \n",
            "__________________________________________________________________________________________________\n",
            "res3a_branch1 (Conv2D)          (None, 20, 12, 512)  131584      dropout_2[0][0]                  \n",
            "__________________________________________________________________________________________________\n",
            "bn3a_branch2c (BatchNormalizati (None, 20, 12, 512)  2048        res3a_branch2c[0][0]             \n",
            "__________________________________________________________________________________________________\n",
            "bn3a_branch1 (BatchNormalizatio (None, 20, 12, 512)  2048        res3a_branch1[0][0]              \n",
            "__________________________________________________________________________________________________\n",
            "add_4 (Add)                     (None, 20, 12, 512)  0           bn3a_branch2c[0][0]              \n",
            "                                                                 bn3a_branch1[0][0]               \n",
            "__________________________________________________________________________________________________\n",
            "activation_13 (Activation)      (None, 20, 12, 512)  0           add_4[0][0]                      \n",
            "__________________________________________________________________________________________________\n",
            "res3b_branch2a (Conv2D)         (None, 20, 12, 128)  65664       activation_13[0][0]              \n",
            "__________________________________________________________________________________________________\n",
            "bn3b_branch2a (BatchNormalizati (None, 20, 12, 128)  512         res3b_branch2a[0][0]             \n",
            "__________________________________________________________________________________________________\n",
            "activation_14 (Activation)      (None, 20, 12, 128)  0           bn3b_branch2a[0][0]              \n",
            "__________________________________________________________________________________________________\n",
            "res3b_branch2b (Conv2D)         (None, 20, 12, 128)  147584      activation_14[0][0]              \n",
            "__________________________________________________________________________________________________\n",
            "bn3b_branch2b (BatchNormalizati (None, 20, 12, 128)  512         res3b_branch2b[0][0]             \n",
            "__________________________________________________________________________________________________\n",
            "activation_15 (Activation)      (None, 20, 12, 128)  0           bn3b_branch2b[0][0]              \n",
            "__________________________________________________________________________________________________\n",
            "res3b_branch2c (Conv2D)         (None, 20, 12, 512)  66048       activation_15[0][0]              \n",
            "__________________________________________________________________________________________________\n",
            "bn3b_branch2c (BatchNormalizati (None, 20, 12, 512)  2048        res3b_branch2c[0][0]             \n",
            "__________________________________________________________________________________________________\n",
            "add_5 (Add)                     (None, 20, 12, 512)  0           bn3b_branch2c[0][0]              \n",
            "                                                                 activation_13[0][0]              \n",
            "__________________________________________________________________________________________________\n",
            "activation_16 (Activation)      (None, 20, 12, 512)  0           add_5[0][0]                      \n",
            "__________________________________________________________________________________________________\n",
            "res3c_branch2a (Conv2D)         (None, 20, 12, 128)  65664       activation_16[0][0]              \n",
            "__________________________________________________________________________________________________\n",
            "bn3c_branch2a (BatchNormalizati (None, 20, 12, 128)  512         res3c_branch2a[0][0]             \n",
            "__________________________________________________________________________________________________\n",
            "activation_17 (Activation)      (None, 20, 12, 128)  0           bn3c_branch2a[0][0]              \n",
            "__________________________________________________________________________________________________\n",
            "res3c_branch2b (Conv2D)         (None, 20, 12, 128)  147584      activation_17[0][0]              \n",
            "__________________________________________________________________________________________________\n",
            "bn3c_branch2b (BatchNormalizati (None, 20, 12, 128)  512         res3c_branch2b[0][0]             \n",
            "__________________________________________________________________________________________________\n",
            "activation_18 (Activation)      (None, 20, 12, 128)  0           bn3c_branch2b[0][0]              \n",
            "__________________________________________________________________________________________________\n",
            "res3c_branch2c (Conv2D)         (None, 20, 12, 512)  66048       activation_18[0][0]              \n",
            "__________________________________________________________________________________________________\n",
            "bn3c_branch2c (BatchNormalizati (None, 20, 12, 512)  2048        res3c_branch2c[0][0]             \n",
            "__________________________________________________________________________________________________\n",
            "add_6 (Add)                     (None, 20, 12, 512)  0           bn3c_branch2c[0][0]              \n",
            "                                                                 activation_16[0][0]              \n",
            "__________________________________________________________________________________________________\n",
            "activation_19 (Activation)      (None, 20, 12, 512)  0           add_6[0][0]                      \n",
            "__________________________________________________________________________________________________\n",
            "res3d_branch2a (Conv2D)         (None, 20, 12, 128)  65664       activation_19[0][0]              \n",
            "__________________________________________________________________________________________________\n",
            "bn3d_branch2a (BatchNormalizati (None, 20, 12, 128)  512         res3d_branch2a[0][0]             \n",
            "__________________________________________________________________________________________________\n",
            "activation_20 (Activation)      (None, 20, 12, 128)  0           bn3d_branch2a[0][0]              \n",
            "__________________________________________________________________________________________________\n",
            "res3d_branch2b (Conv2D)         (None, 20, 12, 128)  147584      activation_20[0][0]              \n",
            "__________________________________________________________________________________________________\n",
            "bn3d_branch2b (BatchNormalizati (None, 20, 12, 128)  512         res3d_branch2b[0][0]             \n",
            "__________________________________________________________________________________________________\n",
            "activation_21 (Activation)      (None, 20, 12, 128)  0           bn3d_branch2b[0][0]              \n",
            "__________________________________________________________________________________________________\n",
            "res3d_branch2c (Conv2D)         (None, 20, 12, 512)  66048       activation_21[0][0]              \n",
            "__________________________________________________________________________________________________\n",
            "bn3d_branch2c (BatchNormalizati (None, 20, 12, 512)  2048        res3d_branch2c[0][0]             \n",
            "__________________________________________________________________________________________________\n",
            "add_7 (Add)                     (None, 20, 12, 512)  0           bn3d_branch2c[0][0]              \n",
            "                                                                 activation_19[0][0]              \n",
            "__________________________________________________________________________________________________\n",
            "activation_22 (Activation)      (None, 20, 12, 512)  0           add_7[0][0]                      \n",
            "__________________________________________________________________________________________________\n",
            "dropout_3 (Dropout)             (None, 20, 12, 512)  0           activation_22[0][0]              \n",
            "__________________________________________________________________________________________________\n",
            "res4a_branch2a (Conv2D)         (None, 10, 6, 256)   131328      dropout_3[0][0]                  \n",
            "__________________________________________________________________________________________________\n",
            "bn4a_branch2a (BatchNormalizati (None, 10, 6, 256)   1024        res4a_branch2a[0][0]             \n",
            "__________________________________________________________________________________________________\n",
            "activation_23 (Activation)      (None, 10, 6, 256)   0           bn4a_branch2a[0][0]              \n",
            "__________________________________________________________________________________________________\n",
            "res4a_branch2b (Conv2D)         (None, 10, 6, 256)   590080      activation_23[0][0]              \n",
            "__________________________________________________________________________________________________\n",
            "bn4a_branch2b (BatchNormalizati (None, 10, 6, 256)   1024        res4a_branch2b[0][0]             \n",
            "__________________________________________________________________________________________________\n",
            "activation_24 (Activation)      (None, 10, 6, 256)   0           bn4a_branch2b[0][0]              \n",
            "__________________________________________________________________________________________________\n",
            "res4a_branch2c (Conv2D)         (None, 10, 6, 1024)  263168      activation_24[0][0]              \n",
            "__________________________________________________________________________________________________\n",
            "res4a_branch1 (Conv2D)          (None, 10, 6, 1024)  525312      dropout_3[0][0]                  \n",
            "__________________________________________________________________________________________________\n",
            "bn4a_branch2c (BatchNormalizati (None, 10, 6, 1024)  4096        res4a_branch2c[0][0]             \n",
            "__________________________________________________________________________________________________\n",
            "bn4a_branch1 (BatchNormalizatio (None, 10, 6, 1024)  4096        res4a_branch1[0][0]              \n",
            "__________________________________________________________________________________________________\n",
            "add_8 (Add)                     (None, 10, 6, 1024)  0           bn4a_branch2c[0][0]              \n",
            "                                                                 bn4a_branch1[0][0]               \n",
            "__________________________________________________________________________________________________\n",
            "activation_25 (Activation)      (None, 10, 6, 1024)  0           add_8[0][0]                      \n",
            "__________________________________________________________________________________________________\n",
            "res4b_branch2a (Conv2D)         (None, 10, 6, 256)   262400      activation_25[0][0]              \n",
            "__________________________________________________________________________________________________\n",
            "bn4b_branch2a (BatchNormalizati (None, 10, 6, 256)   1024        res4b_branch2a[0][0]             \n",
            "__________________________________________________________________________________________________\n",
            "activation_26 (Activation)      (None, 10, 6, 256)   0           bn4b_branch2a[0][0]              \n",
            "__________________________________________________________________________________________________\n",
            "res4b_branch2b (Conv2D)         (None, 10, 6, 256)   590080      activation_26[0][0]              \n",
            "__________________________________________________________________________________________________\n",
            "bn4b_branch2b (BatchNormalizati (None, 10, 6, 256)   1024        res4b_branch2b[0][0]             \n",
            "__________________________________________________________________________________________________\n",
            "activation_27 (Activation)      (None, 10, 6, 256)   0           bn4b_branch2b[0][0]              \n",
            "__________________________________________________________________________________________________\n",
            "res4b_branch2c (Conv2D)         (None, 10, 6, 1024)  263168      activation_27[0][0]              \n",
            "__________________________________________________________________________________________________\n",
            "bn4b_branch2c (BatchNormalizati (None, 10, 6, 1024)  4096        res4b_branch2c[0][0]             \n",
            "__________________________________________________________________________________________________\n",
            "add_9 (Add)                     (None, 10, 6, 1024)  0           bn4b_branch2c[0][0]              \n",
            "                                                                 activation_25[0][0]              \n",
            "__________________________________________________________________________________________________\n",
            "activation_28 (Activation)      (None, 10, 6, 1024)  0           add_9[0][0]                      \n",
            "__________________________________________________________________________________________________\n",
            "res4c_branch2a (Conv2D)         (None, 10, 6, 256)   262400      activation_28[0][0]              \n",
            "__________________________________________________________________________________________________\n",
            "bn4c_branch2a (BatchNormalizati (None, 10, 6, 256)   1024        res4c_branch2a[0][0]             \n",
            "__________________________________________________________________________________________________\n",
            "activation_29 (Activation)      (None, 10, 6, 256)   0           bn4c_branch2a[0][0]              \n",
            "__________________________________________________________________________________________________\n",
            "res4c_branch2b (Conv2D)         (None, 10, 6, 256)   590080      activation_29[0][0]              \n",
            "__________________________________________________________________________________________________\n",
            "bn4c_branch2b (BatchNormalizati (None, 10, 6, 256)   1024        res4c_branch2b[0][0]             \n",
            "__________________________________________________________________________________________________\n",
            "activation_30 (Activation)      (None, 10, 6, 256)   0           bn4c_branch2b[0][0]              \n",
            "__________________________________________________________________________________________________\n",
            "res4c_branch2c (Conv2D)         (None, 10, 6, 1024)  263168      activation_30[0][0]              \n",
            "__________________________________________________________________________________________________\n",
            "bn4c_branch2c (BatchNormalizati (None, 10, 6, 1024)  4096        res4c_branch2c[0][0]             \n",
            "__________________________________________________________________________________________________\n",
            "add_10 (Add)                    (None, 10, 6, 1024)  0           bn4c_branch2c[0][0]              \n",
            "                                                                 activation_28[0][0]              \n",
            "__________________________________________________________________________________________________\n",
            "activation_31 (Activation)      (None, 10, 6, 1024)  0           add_10[0][0]                     \n",
            "__________________________________________________________________________________________________\n",
            "res4d_branch2a (Conv2D)         (None, 10, 6, 256)   262400      activation_31[0][0]              \n",
            "__________________________________________________________________________________________________\n",
            "bn4d_branch2a (BatchNormalizati (None, 10, 6, 256)   1024        res4d_branch2a[0][0]             \n",
            "__________________________________________________________________________________________________\n",
            "activation_32 (Activation)      (None, 10, 6, 256)   0           bn4d_branch2a[0][0]              \n",
            "__________________________________________________________________________________________________\n",
            "res4d_branch2b (Conv2D)         (None, 10, 6, 256)   590080      activation_32[0][0]              \n",
            "__________________________________________________________________________________________________\n",
            "bn4d_branch2b (BatchNormalizati (None, 10, 6, 256)   1024        res4d_branch2b[0][0]             \n",
            "__________________________________________________________________________________________________\n",
            "activation_33 (Activation)      (None, 10, 6, 256)   0           bn4d_branch2b[0][0]              \n",
            "__________________________________________________________________________________________________\n",
            "res4d_branch2c (Conv2D)         (None, 10, 6, 1024)  263168      activation_33[0][0]              \n",
            "__________________________________________________________________________________________________\n",
            "bn4d_branch2c (BatchNormalizati (None, 10, 6, 1024)  4096        res4d_branch2c[0][0]             \n",
            "__________________________________________________________________________________________________\n",
            "add_11 (Add)                    (None, 10, 6, 1024)  0           bn4d_branch2c[0][0]              \n",
            "                                                                 activation_31[0][0]              \n",
            "__________________________________________________________________________________________________\n",
            "activation_34 (Activation)      (None, 10, 6, 1024)  0           add_11[0][0]                     \n",
            "__________________________________________________________________________________________________\n",
            "res4e_branch2a (Conv2D)         (None, 10, 6, 256)   262400      activation_34[0][0]              \n",
            "__________________________________________________________________________________________________\n",
            "bn4e_branch2a (BatchNormalizati (None, 10, 6, 256)   1024        res4e_branch2a[0][0]             \n",
            "__________________________________________________________________________________________________\n",
            "activation_35 (Activation)      (None, 10, 6, 256)   0           bn4e_branch2a[0][0]              \n",
            "__________________________________________________________________________________________________\n",
            "res4e_branch2b (Conv2D)         (None, 10, 6, 256)   590080      activation_35[0][0]              \n",
            "__________________________________________________________________________________________________\n",
            "bn4e_branch2b (BatchNormalizati (None, 10, 6, 256)   1024        res4e_branch2b[0][0]             \n",
            "__________________________________________________________________________________________________\n",
            "activation_36 (Activation)      (None, 10, 6, 256)   0           bn4e_branch2b[0][0]              \n",
            "__________________________________________________________________________________________________\n",
            "res4e_branch2c (Conv2D)         (None, 10, 6, 1024)  263168      activation_36[0][0]              \n",
            "__________________________________________________________________________________________________\n",
            "bn4e_branch2c (BatchNormalizati (None, 10, 6, 1024)  4096        res4e_branch2c[0][0]             \n",
            "__________________________________________________________________________________________________\n",
            "add_12 (Add)                    (None, 10, 6, 1024)  0           bn4e_branch2c[0][0]              \n",
            "                                                                 activation_34[0][0]              \n",
            "__________________________________________________________________________________________________\n",
            "activation_37 (Activation)      (None, 10, 6, 1024)  0           add_12[0][0]                     \n",
            "__________________________________________________________________________________________________\n",
            "res4f_branch2a (Conv2D)         (None, 10, 6, 256)   262400      activation_37[0][0]              \n",
            "__________________________________________________________________________________________________\n",
            "bn4f_branch2a (BatchNormalizati (None, 10, 6, 256)   1024        res4f_branch2a[0][0]             \n",
            "__________________________________________________________________________________________________\n",
            "activation_38 (Activation)      (None, 10, 6, 256)   0           bn4f_branch2a[0][0]              \n",
            "__________________________________________________________________________________________________\n",
            "res4f_branch2b (Conv2D)         (None, 10, 6, 256)   590080      activation_38[0][0]              \n",
            "__________________________________________________________________________________________________\n",
            "bn4f_branch2b (BatchNormalizati (None, 10, 6, 256)   1024        res4f_branch2b[0][0]             \n",
            "__________________________________________________________________________________________________\n",
            "activation_39 (Activation)      (None, 10, 6, 256)   0           bn4f_branch2b[0][0]              \n",
            "__________________________________________________________________________________________________\n",
            "res4f_branch2c (Conv2D)         (None, 10, 6, 1024)  263168      activation_39[0][0]              \n",
            "__________________________________________________________________________________________________\n",
            "bn4f_branch2c (BatchNormalizati (None, 10, 6, 1024)  4096        res4f_branch2c[0][0]             \n",
            "__________________________________________________________________________________________________\n",
            "add_13 (Add)                    (None, 10, 6, 1024)  0           bn4f_branch2c[0][0]              \n",
            "                                                                 activation_37[0][0]              \n",
            "__________________________________________________________________________________________________\n",
            "activation_40 (Activation)      (None, 10, 6, 1024)  0           add_13[0][0]                     \n",
            "__________________________________________________________________________________________________\n",
            "dropout_4 (Dropout)             (None, 10, 6, 1024)  0           activation_40[0][0]              \n",
            "__________________________________________________________________________________________________\n",
            "res5a_branch2a (Conv2D)         (None, 5, 3, 512)    524800      dropout_4[0][0]                  \n",
            "__________________________________________________________________________________________________\n",
            "bn5a_branch2a (BatchNormalizati (None, 5, 3, 512)    2048        res5a_branch2a[0][0]             \n",
            "__________________________________________________________________________________________________\n",
            "activation_41 (Activation)      (None, 5, 3, 512)    0           bn5a_branch2a[0][0]              \n",
            "__________________________________________________________________________________________________\n",
            "res5a_branch2b (Conv2D)         (None, 5, 3, 512)    2359808     activation_41[0][0]              \n",
            "__________________________________________________________________________________________________\n",
            "bn5a_branch2b (BatchNormalizati (None, 5, 3, 512)    2048        res5a_branch2b[0][0]             \n",
            "__________________________________________________________________________________________________\n",
            "activation_42 (Activation)      (None, 5, 3, 512)    0           bn5a_branch2b[0][0]              \n",
            "__________________________________________________________________________________________________\n",
            "res5a_branch2c (Conv2D)         (None, 5, 3, 2048)   1050624     activation_42[0][0]              \n",
            "__________________________________________________________________________________________________\n",
            "res5a_branch1 (Conv2D)          (None, 5, 3, 2048)   2099200     dropout_4[0][0]                  \n",
            "__________________________________________________________________________________________________\n",
            "bn5a_branch2c (BatchNormalizati (None, 5, 3, 2048)   8192        res5a_branch2c[0][0]             \n",
            "__________________________________________________________________________________________________\n",
            "bn5a_branch1 (BatchNormalizatio (None, 5, 3, 2048)   8192        res5a_branch1[0][0]              \n",
            "__________________________________________________________________________________________________\n",
            "add_14 (Add)                    (None, 5, 3, 2048)   0           bn5a_branch2c[0][0]              \n",
            "                                                                 bn5a_branch1[0][0]               \n",
            "__________________________________________________________________________________________________\n",
            "activation_43 (Activation)      (None, 5, 3, 2048)   0           add_14[0][0]                     \n",
            "__________________________________________________________________________________________________\n",
            "res5b_branch2a (Conv2D)         (None, 5, 3, 512)    1049088     activation_43[0][0]              \n",
            "__________________________________________________________________________________________________\n",
            "bn5b_branch2a (BatchNormalizati (None, 5, 3, 512)    2048        res5b_branch2a[0][0]             \n",
            "__________________________________________________________________________________________________\n",
            "activation_44 (Activation)      (None, 5, 3, 512)    0           bn5b_branch2a[0][0]              \n",
            "__________________________________________________________________________________________________\n",
            "res5b_branch2b (Conv2D)         (None, 5, 3, 512)    2359808     activation_44[0][0]              \n",
            "__________________________________________________________________________________________________\n",
            "bn5b_branch2b (BatchNormalizati (None, 5, 3, 512)    2048        res5b_branch2b[0][0]             \n",
            "__________________________________________________________________________________________________\n",
            "activation_45 (Activation)      (None, 5, 3, 512)    0           bn5b_branch2b[0][0]              \n",
            "__________________________________________________________________________________________________\n",
            "res5b_branch2c (Conv2D)         (None, 5, 3, 2048)   1050624     activation_45[0][0]              \n",
            "__________________________________________________________________________________________________\n",
            "bn5b_branch2c (BatchNormalizati (None, 5, 3, 2048)   8192        res5b_branch2c[0][0]             \n",
            "__________________________________________________________________________________________________\n",
            "add_15 (Add)                    (None, 5, 3, 2048)   0           bn5b_branch2c[0][0]              \n",
            "                                                                 activation_43[0][0]              \n",
            "__________________________________________________________________________________________________\n",
            "activation_46 (Activation)      (None, 5, 3, 2048)   0           add_15[0][0]                     \n",
            "__________________________________________________________________________________________________\n",
            "res5c_branch2a (Conv2D)         (None, 5, 3, 512)    1049088     activation_46[0][0]              \n",
            "__________________________________________________________________________________________________\n",
            "bn5c_branch2a (BatchNormalizati (None, 5, 3, 512)    2048        res5c_branch2a[0][0]             \n",
            "__________________________________________________________________________________________________\n",
            "activation_47 (Activation)      (None, 5, 3, 512)    0           bn5c_branch2a[0][0]              \n",
            "__________________________________________________________________________________________________\n",
            "res5c_branch2b (Conv2D)         (None, 5, 3, 512)    2359808     activation_47[0][0]              \n",
            "__________________________________________________________________________________________________\n",
            "bn5c_branch2b (BatchNormalizati (None, 5, 3, 512)    2048        res5c_branch2b[0][0]             \n",
            "__________________________________________________________________________________________________\n",
            "activation_48 (Activation)      (None, 5, 3, 512)    0           bn5c_branch2b[0][0]              \n",
            "__________________________________________________________________________________________________\n",
            "res5c_branch2c (Conv2D)         (None, 5, 3, 2048)   1050624     activation_48[0][0]              \n",
            "__________________________________________________________________________________________________\n",
            "bn5c_branch2c (BatchNormalizati (None, 5, 3, 2048)   8192        res5c_branch2c[0][0]             \n",
            "__________________________________________________________________________________________________\n",
            "add_16 (Add)                    (None, 5, 3, 2048)   0           bn5c_branch2c[0][0]              \n",
            "                                                                 activation_46[0][0]              \n",
            "__________________________________________________________________________________________________\n",
            "activation_49 (Activation)      (None, 5, 3, 2048)   0           add_16[0][0]                     \n",
            "__________________________________________________________________________________________________\n",
            "dropout_5 (Dropout)             (None, 5, 3, 2048)   0           activation_49[0][0]              \n",
            "__________________________________________________________________________________________________\n",
            "avg_pool (AveragePooling2D)     (None, 2, 1, 2048)   0           dropout_5[0][0]                  \n",
            "__________________________________________________________________________________________________\n",
            "flatten_1 (Flatten)             (None, 4096)         0           avg_pool[0][0]                   \n",
            "__________________________________________________________________________________________________\n",
            "fc6 (Dense)                     (None, 6)            24582       flatten_1[0][0]                  \n",
            "==================================================================================================\n",
            "Total params: 23,606,022\n",
            "Trainable params: 23,552,902\n",
            "Non-trainable params: 53,120\n",
            "__________________________________________________________________________________________________\n"
          ],
          "name": "stdout"
        }
      ]
    },
    {
      "cell_type": "markdown",
      "metadata": {
        "id": "ev3P15-nXQ58",
        "colab_type": "text"
      },
      "source": [
        "* Train the model over the specified settings."
      ]
    },
    {
      "cell_type": "code",
      "metadata": {
        "id": "f4gUqaMmFJbA",
        "colab_type": "code",
        "outputId": "da0bb7c8-6b21-4c4e-b9ea-de450dc145dc",
        "colab": {
          "base_uri": "https://localhost:8080/",
          "height": 869
        }
      },
      "source": [
        "history = model.fit(X_train_scaled,Y_train,epochs=20,validation_data=(X_val_scaled,Y_val),\n",
        "                    batch_size=128,shuffle=True)"
      ],
      "execution_count": 0,
      "outputs": [
        {
          "output_type": "stream",
          "text": [
            "WARNING:tensorflow:From /usr/local/lib/python3.6/dist-packages/tensorflow_core/python/ops/math_grad.py:1424: where (from tensorflow.python.ops.array_ops) is deprecated and will be removed in a future version.\n",
            "Instructions for updating:\n",
            "Use tf.where in 2.0, which has the same broadcast rule as np.where\n",
            "WARNING:tensorflow:From /usr/local/lib/python3.6/dist-packages/keras/backend/tensorflow_backend.py:1033: The name tf.assign_add is deprecated. Please use tf.compat.v1.assign_add instead.\n",
            "\n",
            "WARNING:tensorflow:From /usr/local/lib/python3.6/dist-packages/keras/backend/tensorflow_backend.py:1020: The name tf.assign is deprecated. Please use tf.compat.v1.assign instead.\n",
            "\n",
            "Train on 10228 samples, validate on 2557 samples\n",
            "Epoch 1/20\n",
            "10228/10228 [==============================] - 39s 4ms/step - loss: 2.1997 - acc: 0.1788 - val_loss: 3.4623 - val_acc: 0.1713\n",
            "Epoch 2/20\n",
            "10228/10228 [==============================] - 25s 2ms/step - loss: 1.7133 - acc: 0.3687 - val_loss: 12.6643 - val_acc: 0.1596\n",
            "Epoch 3/20\n",
            "10228/10228 [==============================] - 25s 2ms/step - loss: 0.9661 - acc: 0.6859 - val_loss: 1.4972 - val_acc: 0.5538\n",
            "Epoch 4/20\n",
            "10228/10228 [==============================] - 25s 2ms/step - loss: 0.4804 - acc: 0.8497 - val_loss: 0.3843 - val_acc: 0.8647\n",
            "Epoch 5/20\n",
            "10228/10228 [==============================] - 24s 2ms/step - loss: 0.2643 - acc: 0.9077 - val_loss: 0.2059 - val_acc: 0.9269\n",
            "Epoch 6/20\n",
            "10228/10228 [==============================] - 25s 2ms/step - loss: 0.1830 - acc: 0.9362 - val_loss: 0.2843 - val_acc: 0.9108\n",
            "Epoch 7/20\n",
            "10228/10228 [==============================] - 25s 2ms/step - loss: 0.1571 - acc: 0.9453 - val_loss: 0.2581 - val_acc: 0.9104\n",
            "Epoch 8/20\n",
            "10228/10228 [==============================] - 25s 2ms/step - loss: 0.1293 - acc: 0.9527 - val_loss: 0.2556 - val_acc: 0.9202\n",
            "Epoch 9/20\n",
            "10228/10228 [==============================] - 25s 2ms/step - loss: 0.1134 - acc: 0.9578 - val_loss: 0.1482 - val_acc: 0.9531\n",
            "Epoch 10/20\n",
            "10228/10228 [==============================] - 25s 2ms/step - loss: 0.1038 - acc: 0.9635 - val_loss: 0.1720 - val_acc: 0.9394\n",
            "Epoch 11/20\n",
            "10228/10228 [==============================] - 25s 2ms/step - loss: 0.0886 - acc: 0.9669 - val_loss: 0.2531 - val_acc: 0.9206\n",
            "Epoch 12/20\n",
            "10228/10228 [==============================] - 25s 2ms/step - loss: 0.0775 - acc: 0.9732 - val_loss: 0.1499 - val_acc: 0.9546\n",
            "Epoch 13/20\n",
            "10228/10228 [==============================] - 25s 2ms/step - loss: 0.0698 - acc: 0.9743 - val_loss: 0.1436 - val_acc: 0.9535\n",
            "Epoch 14/20\n",
            "10228/10228 [==============================] - 25s 2ms/step - loss: 0.0693 - acc: 0.9755 - val_loss: 0.1914 - val_acc: 0.9437\n",
            "Epoch 15/20\n",
            "10228/10228 [==============================] - 25s 2ms/step - loss: 0.0657 - acc: 0.9759 - val_loss: 0.1665 - val_acc: 0.9539\n",
            "Epoch 16/20\n",
            "10228/10228 [==============================] - 25s 2ms/step - loss: 0.0594 - acc: 0.9776 - val_loss: 0.1750 - val_acc: 0.9499\n",
            "Epoch 17/20\n",
            "10228/10228 [==============================] - 25s 2ms/step - loss: 0.0688 - acc: 0.9758 - val_loss: 0.2406 - val_acc: 0.9366\n",
            "Epoch 18/20\n",
            "10228/10228 [==============================] - 25s 2ms/step - loss: 0.0636 - acc: 0.9785 - val_loss: 0.1738 - val_acc: 0.9523\n",
            "Epoch 19/20\n",
            "10228/10228 [==============================] - 24s 2ms/step - loss: 0.0588 - acc: 0.9796 - val_loss: 0.2103 - val_acc: 0.9421\n",
            "Epoch 20/20\n",
            "10228/10228 [==============================] - 24s 2ms/step - loss: 0.0498 - acc: 0.9825 - val_loss: 0.2296 - val_acc: 0.9390\n"
          ],
          "name": "stdout"
        }
      ]
    },
    {
      "cell_type": "markdown",
      "metadata": {
        "id": "uB52tVdRXUpY",
        "colab_type": "text"
      },
      "source": [
        "* Evaluate the model's performance on the testing set."
      ]
    },
    {
      "cell_type": "code",
      "metadata": {
        "id": "mS_u-WZsFUTJ",
        "colab_type": "code",
        "outputId": "fbb6fc97-2e63-4b1d-d882-935d6701b34c",
        "colab": {
          "base_uri": "https://localhost:8080/",
          "height": 52
        }
      },
      "source": [
        "scores = model.evaluate(X_test_scaled,Y_test,verbose=0)\n",
        "print('Test loss:', scores[0])\n",
        "print('Test accuracy:', scores[1])"
      ],
      "execution_count": 0,
      "outputs": [
        {
          "output_type": "stream",
          "text": [
            "Test loss: 0.24407285200109544\n",
            "Test accuracy: 0.94018296973962\n"
          ],
          "name": "stdout"
        }
      ]
    },
    {
      "cell_type": "markdown",
      "metadata": {
        "id": "2otu2GGpXbFY",
        "colab_type": "text"
      },
      "source": [
        "* Code to plot the accuracy of the training and validation sets during model training.\n",
        "* Will save to a PDF figure in the working environment."
      ]
    },
    {
      "cell_type": "code",
      "metadata": {
        "id": "64S0zSwb5HLf",
        "colab_type": "code",
        "outputId": "0e3c0849-4f9b-4633-d1f2-6caebaab5d84",
        "colab": {
          "base_uri": "https://localhost:8080/",
          "height": 558
        }
      },
      "source": [
        "plt.plot(history.history['acc'])\n",
        "plt.plot(history.history['val_acc'])\n",
        "plt.title('Model accuracy')\n",
        "plt.ylabel('Accuracy')\n",
        "plt.xlabel('Epoch')\n",
        "plt.legend(['Train', 'Validation'], loc='bottom right')\n",
        "fig = plt.gcf()\n",
        "fig.savefig(\"6_Vocab_ResNet_acc.pdf\")\n",
        "plt.show()"
      ],
      "execution_count": 0,
      "outputs": [
        {
          "output_type": "stream",
          "text": [
            "/usr/local/lib/python3.6/dist-packages/ipykernel_launcher.py:6: MatplotlibDeprecationWarning: Unrecognized location 'bottom right'. Falling back on 'best'; valid locations are\n",
            "\tbest\n",
            "\tupper right\n",
            "\tupper left\n",
            "\tlower left\n",
            "\tlower right\n",
            "\tright\n",
            "\tcenter left\n",
            "\tcenter right\n",
            "\tlower center\n",
            "\tupper center\n",
            "\tcenter\n",
            "This will raise an exception in 3.3.\n",
            "  \n"
          ],
          "name": "stderr"
        },
        {
          "output_type": "display_data",
          "data": {
            "image/png": "[encoded data removed]",
            "text/plain": [
              "<Figure size 432x288 with 1 Axes>"
            ]
          },
          "metadata": {
            "tags": []
          }
        }
      ]
    },
    {
      "cell_type": "markdown",
      "metadata": {
        "id": "-Uo5dQdiXfI-",
        "colab_type": "text"
      },
      "source": [
        "* Code to plot the loss of the training and validation sets during model training.\n",
        "* Will save to a PDF figure in the working environment."
      ]
    },
    {
      "cell_type": "code",
      "metadata": {
        "id": "1KWadj0Z5lq2",
        "colab_type": "code",
        "outputId": "4090124a-e921-4edb-b0cd-6a401d737236",
        "colab": {
          "base_uri": "https://localhost:8080/",
          "height": 295
        }
      },
      "source": [
        "plt.plot(history.history['loss'])\n",
        "plt.plot(history.history['val_loss'])\n",
        "plt.title('Model loss')\n",
        "plt.ylabel('Loss')\n",
        "plt.xlabel('Epoch')\n",
        "plt.legend(['Train', 'Validation'], loc='upper right')\n",
        "fig = plt.gcf()\n",
        "fig.savefig(\"6_Vocab_ResNet_loss.pdf\")\n",
        "plt.show()"
      ],
      "execution_count": 0,
      "outputs": [
        {
          "output_type": "display_data",
          "data": {
            "image/png": "[encoded data removed]",
            "text/plain": [
              "<Figure size 432x288 with 1 Axes>"
            ]
          },
          "metadata": {
            "tags": []
          }
        }
      ]
    },
    {
      "cell_type": "markdown",
      "metadata": {
        "id": "I8otluMPXiOB",
        "colab_type": "text"
      },
      "source": [
        "* Plot of a confusion matrix to view how the model classifies each voice command.\n",
        "* Will save the output to a PDF in the working environment."
      ]
    },
    {
      "cell_type": "code",
      "metadata": {
        "id": "JxFVdLrg5tTC",
        "colab_type": "code",
        "outputId": "fc2d9e2f-e397-4cbf-9f6f-2d60509cdde6",
        "colab": {
          "base_uri": "https://localhost:8080/",
          "height": 428
        }
      },
      "source": [
        "Y_pred = model.predict(X_test_scaled)\n",
        "y_pred = np.argmax(Y_pred, axis=1)\n",
        "y_true = np.argmax(Y_test,axis=1)\n",
        "conf_mat = confusion_matrix(y_true,y_pred)\n",
        "labs = [\"yes\",\"no\",\"up\",\"down\",\"left\",\"right\"]\n",
        "\n",
        "df_conf_mat = pd.DataFrame(conf_mat, index = [i for i in labs],\n",
        "                  columns = [i for i in labs])\n",
        "plt.figure(figsize = (10,7))\n",
        "sn.heatmap(df_conf_mat, annot=True,cbar=False)\n",
        "fig = plt.gcf()\n",
        "fig.savefig(\"6_Vocab_ResNet_cmap.pdf\",bbox_inches=\"tight\")"
      ],
      "execution_count": 0,
      "outputs": [
        {
          "output_type": "display_data",
          "data": {
            "image/png": "[encoded data removed]",
            "text/plain": [
              "<Figure size 720x504 with 1 Axes>"
            ]
          },
          "metadata": {
            "tags": []
          }
        }
      ]
    }
  ]
}