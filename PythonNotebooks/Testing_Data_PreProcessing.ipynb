{
 "cells": [
  {
   "cell_type": "markdown",
   "metadata": {},
   "source": [
    "# Data Pre-Processing - Full Volcabulary Testing data<br>\n",
    "\n",
    "Author: Jamie McQuire <br>\n",
    "\n",
    "* This Python notebook provides the code for the pre-processing of the competitions testing set.\n",
    "* The code will translate all the audio files into log spectrograms.\n",
    "* The output of this Python notebook will be the data and labels for the testing sets"
   ]
  },
  {
   "cell_type": "code",
   "execution_count": 2,
   "metadata": {},
   "outputs": [],
   "source": [
    "import numpy as np\n",
    "import pandas as pd\n",
    "import os\n",
    "import matplotlib.pyplot as plt\n",
    "from random import gauss\n",
    "from scipy.io import wavfile\n",
    "import csv\n",
    "from scipy import signal\n",
    "import librosa\n",
    "import scipy"
   ]
  },
  {
   "cell_type": "markdown",
   "metadata": {},
   "source": [
    "* Change the path to your own directory to create the data."
   ]
  },
  {
   "cell_type": "code",
   "execution_count": 3,
   "metadata": {},
   "outputs": [],
   "source": [
    "#change the working directory to the Data directory\n",
    "os.chdir(\"C:\\\\Users\\\\b9027741\\\\OneDrive - Newcastle University\\\\Masters\\\\Computer Science\\\\Machine_Learning_Project\\\\Data\")"
   ]
  },
  {
   "cell_type": "markdown",
   "metadata": {},
   "source": [
    "* These are the labels for the competition data."
   ]
  },
  {
   "cell_type": "code",
   "execution_count": 4,
   "metadata": {},
   "outputs": [],
   "source": [
    "#labels needed for classification\n",
    "labels = [\"yes\", \"no\", \"up\", \"down\", \"left\", \"right\", \"on\", \"off\", \"stop\", \"go\", \"silence\"]"
   ]
  },
  {
   "cell_type": "markdown",
   "metadata": {},
   "source": [
    "* This function will return the log spectrogram of an audio file."
   ]
  },
  {
   "cell_type": "code",
   "execution_count": 5,
   "metadata": {},
   "outputs": [],
   "source": [
    "def log_specgram(audio, sample_rate, window_size=20,\n",
    "                 step_size=10, eps=1e-10):\n",
    "    nperseg = int(round(window_size * sample_rate / 1e3))\n",
    "    noverlap = int(round(step_size * sample_rate / 1e3))\n",
    "    freqs, times, spec = signal.spectrogram(audio,\n",
    "                                    fs=sample_rate,\n",
    "                                    window='hann',\n",
    "                                    nperseg=nperseg,\n",
    "                                    noverlap=noverlap,\n",
    "                                    detrend=False)\n",
    "    return freqs, times, np.log(spec.T.astype(np.float32) + eps)"
   ]
  },
  {
   "cell_type": "markdown",
   "metadata": {},
   "source": [
    "* This function will return the log spectrogram of a .wav file."
   ]
  },
  {
   "cell_type": "code",
   "execution_count": 12,
   "metadata": {},
   "outputs": [],
   "source": [
    "def wav2spec(wav_name,directory):\n",
    "    \n",
    "    sample_rate, samples = wavfile.read(directory + wav_name)\n",
    "    \n",
    "    if (len(samples) < 16000):\n",
    "        samples = np.pad(samples, (0, (16000 - len(samples))), \"linear_ramp\")\n",
    "    \n",
    "    _, _, spectrogram = log_specgram(samples,sample_rate)\n",
    "    \n",
    "    return spectrogram.T"
   ]
  },
  {
   "cell_type": "markdown",
   "metadata": {},
   "source": [
    "* This function will return the data files values and labels.\n",
    "* This function is going to be used for the testing files."
   ]
  },
  {
   "cell_type": "code",
   "execution_count": 13,
   "metadata": {},
   "outputs": [],
   "source": [
    "def create_data_sets(file_list,directory):\n",
    "    X = np.zeros([len(file_list),161,99])\n",
    "    Y = np.zeros([len(file_list)])\n",
    "    for index, file in enumerate(file_list):\n",
    "        if index%2000 == 0:\n",
    "            print(index,file)\n",
    "        try:\n",
    "            X[index] = wav2spec(file,directory)\n",
    "        except ValueError:\n",
    "            print(index,file,ValueError)\n",
    "        Y[index] = all_labels.index(file.rsplit(\"/\")[0])\n",
    "        \n",
    "    return X, Y\n",
    "    "
   ]
  },
  {
   "cell_type": "markdown",
   "metadata": {},
   "source": [
    "* This function creates part 1 of the testing data.\n",
    "* This is done in parts due to memory constraints."
   ]
  },
  {
   "cell_type": "code",
   "execution_count": 14,
   "metadata": {},
   "outputs": [
    {
     "name": "stdout",
     "output_type": "stream",
     "text": [
      "0\n",
      "2000\n",
      "4000\n",
      "6000\n",
      "8000\n",
      "10000\n",
      "12000\n",
      "14000\n",
      "16000\n",
      "18000\n",
      "20000\n",
      "22000\n",
      "24000\n",
      "26000\n",
      "28000\n",
      "30000\n",
      "32000\n",
      "34000\n",
      "36000\n",
      "38000\n",
      "40000\n",
      "42000\n",
      "44000\n",
      "46000\n",
      "48000\n",
      "50000\n",
      "52000\n",
      "54000\n",
      "56000\n",
      "58000\n",
      "60000\n",
      "62000\n",
      "64000\n",
      "66000\n",
      "68000\n",
      "70000\n",
      "72000\n",
      "74000\n",
      "76000\n",
      "78000\n",
      "80000\n",
      "82000\n",
      "84000\n",
      "86000\n",
      "88000\n",
      "90000\n",
      "92000\n",
      "94000\n",
      "96000\n",
      "98000\n",
      "100000\n",
      "102000\n",
      "104000\n",
      "106000\n",
      "108000\n",
      "110000\n",
      "112000\n",
      "114000\n",
      "116000\n",
      "118000\n",
      "120000\n",
      "122000\n",
      "124000\n",
      "126000\n",
      "128000\n",
      "130000\n",
      "132000\n",
      "134000\n",
      "136000\n",
      "138000\n",
      "140000\n",
      "142000\n",
      "144000\n",
      "146000\n",
      "148000\n",
      "150000\n",
      "152000\n",
      "154000\n",
      "156000\n",
      "158000\n"
     ]
    }
   ],
   "source": [
    "def create_testing_data_part1():\n",
    "    X1 = np.zeros([50000,161,99])\n",
    "    for ind,files in enumerate(os.listdir(\"test/audio\")):\n",
    "        if ind%2000 == 0:\n",
    "            print(ind)\n",
    "        if ind < 50000:\n",
    "            X1[ind] = wav2spec(wav_name=files,directory=\"test/audio/\")\n",
    "    return X1\n",
    "        \n",
    "X1 = create_testing_data_part1()      "
   ]
  },
  {
   "cell_type": "markdown",
   "metadata": {},
   "source": [
    "* Save the part of the testing data.\n",
    "* Change path for where you want to store it."
   ]
  },
  {
   "cell_type": "code",
   "execution_count": 7,
   "metadata": {},
   "outputs": [],
   "source": [
    "np.save(\"train/data/X_test_p1\", np.expand_dims(X1,-1)+1.3)"
   ]
  },
  {
   "cell_type": "markdown",
   "metadata": {},
   "source": [
    "* Set X1 to 0 to free up memory.\n",
    "* Repeat the previous steps for the remaining data."
   ]
  },
  {
   "cell_type": "code",
   "execution_count": 10,
   "metadata": {},
   "outputs": [],
   "source": [
    "X1 = 0"
   ]
  },
  {
   "cell_type": "code",
   "execution_count": 12,
   "metadata": {},
   "outputs": [
    {
     "name": "stdout",
     "output_type": "stream",
     "text": [
      "0\n",
      "2000\n",
      "4000\n",
      "6000\n",
      "8000\n",
      "10000\n",
      "12000\n",
      "14000\n",
      "16000\n",
      "18000\n",
      "20000\n",
      "22000\n",
      "24000\n",
      "26000\n",
      "28000\n",
      "30000\n",
      "32000\n",
      "34000\n",
      "36000\n",
      "38000\n",
      "40000\n",
      "42000\n",
      "44000\n",
      "46000\n",
      "48000\n",
      "50000\n",
      "52000\n",
      "54000\n",
      "56000\n",
      "58000\n",
      "60000\n",
      "62000\n",
      "64000\n",
      "66000\n",
      "68000\n",
      "70000\n",
      "72000\n",
      "74000\n",
      "76000\n",
      "78000\n",
      "80000\n",
      "82000\n",
      "84000\n",
      "86000\n",
      "88000\n",
      "90000\n",
      "92000\n",
      "94000\n",
      "96000\n",
      "98000\n",
      "100000\n",
      "102000\n",
      "104000\n",
      "106000\n",
      "108000\n",
      "110000\n",
      "112000\n",
      "114000\n",
      "116000\n",
      "118000\n",
      "120000\n",
      "122000\n",
      "124000\n",
      "126000\n",
      "128000\n",
      "130000\n",
      "132000\n",
      "134000\n",
      "136000\n",
      "138000\n",
      "140000\n",
      "142000\n",
      "144000\n",
      "146000\n",
      "148000\n",
      "150000\n",
      "152000\n",
      "154000\n",
      "156000\n",
      "158000\n"
     ]
    }
   ],
   "source": [
    "def create_testing_data_part2():\n",
    "    X1 = np.zeros([50000,161,99])\n",
    "    for ind,files in enumerate(os.listdir(\"test/audio\")):\n",
    "        if ind%2000 == 0:\n",
    "            print(ind)\n",
    "        if (ind >= 50000 and ind < 100000):\n",
    "            X1[ind - 50000] = wav2spec(wav_name=files,directory=\"test/audio/\")\n",
    "    return X1\n",
    "        \n",
    "X1 = create_testing_data_part2() "
   ]
  },
  {
   "cell_type": "code",
   "execution_count": 13,
   "metadata": {},
   "outputs": [],
   "source": [
    "np.save(\"train/data/X_test_p2\", np.expand_dims(X1,-1)+1.3)"
   ]
  },
  {
   "cell_type": "code",
   "execution_count": 14,
   "metadata": {},
   "outputs": [],
   "source": [
    "X1 = 0"
   ]
  },
  {
   "cell_type": "code",
   "execution_count": 15,
   "metadata": {},
   "outputs": [
    {
     "name": "stdout",
     "output_type": "stream",
     "text": [
      "0\n",
      "2000\n",
      "4000\n",
      "6000\n",
      "8000\n",
      "10000\n",
      "12000\n",
      "14000\n",
      "16000\n",
      "18000\n",
      "20000\n",
      "22000\n",
      "24000\n",
      "26000\n",
      "28000\n",
      "30000\n",
      "32000\n",
      "34000\n",
      "36000\n",
      "38000\n",
      "40000\n",
      "42000\n",
      "44000\n",
      "46000\n",
      "48000\n",
      "50000\n",
      "52000\n",
      "54000\n",
      "56000\n",
      "58000\n",
      "60000\n",
      "62000\n",
      "64000\n",
      "66000\n",
      "68000\n",
      "70000\n",
      "72000\n",
      "74000\n",
      "76000\n",
      "78000\n",
      "80000\n",
      "82000\n",
      "84000\n",
      "86000\n",
      "88000\n",
      "90000\n",
      "92000\n",
      "94000\n",
      "96000\n",
      "98000\n",
      "100000\n",
      "102000\n",
      "104000\n",
      "106000\n",
      "108000\n",
      "110000\n",
      "112000\n",
      "114000\n",
      "116000\n",
      "118000\n",
      "120000\n",
      "122000\n",
      "124000\n",
      "126000\n",
      "128000\n",
      "130000\n",
      "132000\n",
      "134000\n",
      "136000\n",
      "138000\n",
      "140000\n",
      "142000\n",
      "144000\n",
      "146000\n",
      "148000\n",
      "150000\n",
      "152000\n",
      "154000\n",
      "156000\n",
      "158000\n"
     ]
    }
   ],
   "source": [
    "def create_testing_data_part3():\n",
    "    X1 = np.zeros([58538,161,99])\n",
    "    for ind,files in enumerate(os.listdir(\"test/audio\")):\n",
    "        if ind%2000 == 0:\n",
    "            print(ind)\n",
    "            \n",
    "        if (ind >= 100000):\n",
    "            X1[ind - 100000] = wav2spec(wav_name=files,directory=\"test/audio/\")\n",
    "        except ValueError:\n",
    "            print(row,ValueError)\n",
    "            \n",
    "    return X1\n",
    "        \n",
    "X1 = create_testing_data_part3() "
   ]
  },
  {
   "cell_type": "code",
   "execution_count": 16,
   "metadata": {},
   "outputs": [],
   "source": [
    "np.save(\"train/data/X_test_p3\", np.expand_dims(X1,-1)+1.3)"
   ]
  },
  {
   "cell_type": "markdown",
   "metadata": {},
   "source": [
    "* This function will create a pandas dataframe that contains the filenames of the testing data.\n",
    "* This will be used later for submission to Kaggle."
   ]
  },
  {
   "cell_type": "code",
   "execution_count": 14,
   "metadata": {},
   "outputs": [],
   "source": [
    "def output_filename_list():\n",
    "    \n",
    "    Y = []\n",
    "    \n",
    "    for ind, files in enumerate(os.listdir(\"test/audio\")):\n",
    "        \n",
    "        Y.append(files)\n",
    "        \n",
    "    Y = pd.DataFrame(Y)\n",
    "    \n",
    "    Y.columns = [\"fname\"]\n",
    "    \n",
    "    return Y\n",
    "\n",
    "Y = output_filename_list()"
   ]
  },
  {
   "cell_type": "markdown",
   "metadata": {},
   "source": [
    "* Check that the format of the dataframe is correct."
   ]
  },
  {
   "cell_type": "code",
   "execution_count": 15,
   "metadata": {},
   "outputs": [
    {
     "name": "stdout",
     "output_type": "stream",
     "text": [
      "(158538, 1)\n",
      "                fname\n",
      "0  clip_000044442.wav\n",
      "1  clip_0000adecb.wav\n",
      "2  clip_0000d4322.wav\n",
      "3  clip_0000fb6fe.wav\n",
      "4  clip_0001d1559.wav\n"
     ]
    }
   ],
   "source": [
    "print(Y.shape)\n",
    "print(Y.head())"
   ]
  },
  {
   "cell_type": "markdown",
   "metadata": {},
   "source": [
    "* Export to .csv to import to the colab environment later for Kaggle submission."
   ]
  },
  {
   "cell_type": "code",
   "execution_count": 16,
   "metadata": {},
   "outputs": [],
   "source": [
    "Y.to_csv(\"test/filenames.csv\")"
   ]
  }
 ],
 "metadata": {
  "kernelspec": {
   "display_name": "Python 3",
   "language": "python",
   "name": "python3"
  },
  "language_info": {
   "codemirror_mode": {
    "name": "ipython",
    "version": 3
   },
   "file_extension": ".py",
   "mimetype": "text/x-python",
   "name": "python",
   "nbconvert_exporter": "python",
   "pygments_lexer": "ipython3",
   "version": "3.7.4"
  }
 },
 "nbformat": 4,
 "nbformat_minor": 4
}
