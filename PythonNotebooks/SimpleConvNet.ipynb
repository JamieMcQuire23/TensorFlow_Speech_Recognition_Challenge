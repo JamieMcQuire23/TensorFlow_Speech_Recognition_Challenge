{
 "cells": [
  {
   "cell_type": "markdown",
   "metadata": {},
   "source": [
    "# Simple Convolutional Neural Network for Image Recogntion\n",
    "\n",
    "* The convolutional neural network used in this report is taken from the TensorFlow image classification tutorial.\n",
    "* The network will be trained using the image data from the data pre-processing notebook."
   ]
  },
  {
   "cell_type": "code",
   "execution_count": 23,
   "metadata": {},
   "outputs": [],
   "source": [
    "import numpy as np\n",
    "import os\n",
    "import matplotlib.pyplot as plt\n",
    "\n",
    "import tensorflow as tf\n",
    "from tensorflow.keras.models import Sequential\n",
    "from tensorflow.keras.layers import Dense, Conv2D, Flatten, Dropout, MaxPooling2D, Activation\n",
    "from tensorflow.keras.preprocessing.image import ImageDataGenerator\n",
    "from collections import Counter"
   ]
  },
  {
   "cell_type": "code",
   "execution_count": 2,
   "metadata": {},
   "outputs": [],
   "source": [
    "#set the working directory \n",
    "os.chdir(\"C:\\\\Users\\\\b9027741\\\\OneDrive - Newcastle University\\\\Masters\\\\Computer Science\\\\Machine_Learning_Project\\\\Data\")"
   ]
  },
  {
   "cell_type": "code",
   "execution_count": 3,
   "metadata": {},
   "outputs": [],
   "source": [
    "#load in the training data and labels\n",
    "X_train = np.load(\"train/data/X_train.npy\")\n",
    "Y_train = np.load(\"train/data/Y_train.npy\")\n",
    "\n",
    "#load in the validation data and labels\n",
    "X_val = np.load(\"train/data/X_val.npy\")\n",
    "Y_val = np.load(\"train/data/Y_val.npy\")\n",
    "\n",
    "X_test = np.load(\"train/data/X_test.npy\")\n",
    "Y_test = np.load(\"train/data/Y_test.npy\")"
   ]
  },
  {
   "cell_type": "code",
   "execution_count": 48,
   "metadata": {},
   "outputs": [
    {
     "name": "stdout",
     "output_type": "stream",
     "text": [
      "(161, 99, 1)\n"
     ]
    }
   ],
   "source": [
    "batch_size = 128\n",
    "epochs = 10\n",
    "image_size = X_train.shape[1:]\n",
    "output_size = 6\n",
    "image_height = 161\n",
    "image_width = 99\n",
    "\n",
    "print(image_size)"
   ]
  },
  {
   "cell_type": "code",
   "execution_count": 6,
   "metadata": {},
   "outputs": [],
   "source": [
    "X_train_scaled = X_train * (1 / 255)\n",
    "X_val_scaled = X_val * (1  / 255)\n",
    "X_test_scaled = X_test * (1 / 255)"
   ]
  },
  {
   "cell_type": "code",
   "execution_count": 45,
   "metadata": {},
   "outputs": [],
   "source": [
    "model = Sequential()\n",
    "model.add(Conv2D(32, (3, 3), padding='same',\n",
    "                 input_shape=X_train_scaled.shape[1:]))\n",
    "model.add(Activation('relu'))\n",
    "model.add(Conv2D(32, (3, 3)))\n",
    "model.add(Activation('relu'))\n",
    "model.add(MaxPooling2D(pool_size=(4, 4)))\n",
    "model.add(Dropout(0.25))\n",
    "\n",
    "model.add(Conv2D(16, (3, 3), padding='same'))\n",
    "model.add(Activation('relu'))\n",
    "model.add(Conv2D(16, (3, 3)))\n",
    "model.add(Activation('relu'))\n",
    "model.add(MaxPooling2D(pool_size=(4, 4)))\n",
    "model.add(Dropout(0.25))\n",
    "\n",
    "model.add(Flatten())\n",
    "model.add(Dense(128))\n",
    "model.add(Activation('relu'))\n",
    "model.add(Dropout(0.5))\n",
    "model.add(Dense(output_size))\n",
    "model.add(Activation('softmax'))"
   ]
  },
  {
   "cell_type": "code",
   "execution_count": 46,
   "metadata": {},
   "outputs": [],
   "source": [
    "model.compile(optimizer='adam',\n",
    "              loss='sparse_categorical_crossentropy',\n",
    "              metrics=['accuracy'])"
   ]
  },
  {
   "cell_type": "code",
   "execution_count": 47,
   "metadata": {},
   "outputs": [
    {
     "name": "stdout",
     "output_type": "stream",
     "text": [
      "Model: \"sequential_10\"\n",
      "_________________________________________________________________\n",
      "Layer (type)                 Output Shape              Param #   \n",
      "=================================================================\n",
      "conv2d_31 (Conv2D)           (None, 161, 99, 32)       320       \n",
      "_________________________________________________________________\n",
      "activation_35 (Activation)   (None, 161, 99, 32)       0         \n",
      "_________________________________________________________________\n",
      "conv2d_32 (Conv2D)           (None, 159, 97, 32)       9248      \n",
      "_________________________________________________________________\n",
      "activation_36 (Activation)   (None, 159, 97, 32)       0         \n",
      "_________________________________________________________________\n",
      "max_pooling2d_18 (MaxPooling (None, 39, 24, 32)        0         \n",
      "_________________________________________________________________\n",
      "dropout_18 (Dropout)         (None, 39, 24, 32)        0         \n",
      "_________________________________________________________________\n",
      "conv2d_33 (Conv2D)           (None, 39, 24, 16)        4624      \n",
      "_________________________________________________________________\n",
      "activation_37 (Activation)   (None, 39, 24, 16)        0         \n",
      "_________________________________________________________________\n",
      "conv2d_34 (Conv2D)           (None, 37, 22, 16)        2320      \n",
      "_________________________________________________________________\n",
      "activation_38 (Activation)   (None, 37, 22, 16)        0         \n",
      "_________________________________________________________________\n",
      "max_pooling2d_19 (MaxPooling (None, 9, 5, 16)          0         \n",
      "_________________________________________________________________\n",
      "dropout_19 (Dropout)         (None, 9, 5, 16)          0         \n",
      "_________________________________________________________________\n",
      "flatten_8 (Flatten)          (None, 720)               0         \n",
      "_________________________________________________________________\n",
      "dense_15 (Dense)             (None, 128)               92288     \n",
      "_________________________________________________________________\n",
      "activation_39 (Activation)   (None, 128)               0         \n",
      "_________________________________________________________________\n",
      "dropout_20 (Dropout)         (None, 128)               0         \n",
      "_________________________________________________________________\n",
      "dense_16 (Dense)             (None, 6)                 774       \n",
      "_________________________________________________________________\n",
      "activation_40 (Activation)   (None, 6)                 0         \n",
      "=================================================================\n",
      "Total params: 109,574\n",
      "Trainable params: 109,574\n",
      "Non-trainable params: 0\n",
      "_________________________________________________________________\n"
     ]
    }
   ],
   "source": [
    "model.summary()"
   ]
  },
  {
   "cell_type": "code",
   "execution_count": 51,
   "metadata": {},
   "outputs": [
    {
     "name": "stdout",
     "output_type": "stream",
     "text": [
      "Train on 10228 samples, validate on 2557 samples\n",
      "Epoch 1/20\n",
      "10228/10228 [==============================] - 110s 11ms/sample - loss: 0.4618 - accuracy: 0.8335 - val_loss: 0.3110 - val_accuracy: 0.8917\n",
      "Epoch 2/20\n",
      "10228/10228 [==============================] - 112s 11ms/sample - loss: 0.4391 - accuracy: 0.8379 - val_loss: 0.3017 - val_accuracy: 0.8999\n",
      "Epoch 3/20\n",
      "10228/10228 [==============================] - 112s 11ms/sample - loss: 0.4201 - accuracy: 0.8437 - val_loss: 0.2833 - val_accuracy: 0.9030\n",
      "Epoch 4/20\n",
      "10228/10228 [==============================] - 112s 11ms/sample - loss: 0.4049 - accuracy: 0.8552 - val_loss: 0.2661 - val_accuracy: 0.9081\n",
      "Epoch 5/20\n",
      "10228/10228 [==============================] - 112s 11ms/sample - loss: 0.3992 - accuracy: 0.8559 - val_loss: 0.2780 - val_accuracy: 0.9042\n",
      "Epoch 6/20\n",
      "10228/10228 [==============================] - 112s 11ms/sample - loss: 0.3654 - accuracy: 0.8688 - val_loss: 0.2475 - val_accuracy: 0.9132\n",
      "Epoch 7/20\n",
      "10228/10228 [==============================] - 112s 11ms/sample - loss: 0.3578 - accuracy: 0.8668 - val_loss: 0.2591 - val_accuracy: 0.9057\n",
      "Epoch 8/20\n",
      "10228/10228 [==============================] - 112s 11ms/sample - loss: 0.3453 - accuracy: 0.8710 - val_loss: 0.2492 - val_accuracy: 0.9085\n",
      "Epoch 9/20\n",
      "10228/10228 [==============================] - 112s 11ms/sample - loss: 0.3330 - accuracy: 0.8802 - val_loss: 0.2304 - val_accuracy: 0.9159\n",
      "Epoch 10/20\n",
      "10228/10228 [==============================] - 113s 11ms/sample - loss: 0.3326 - accuracy: 0.8802 - val_loss: 0.2341 - val_accuracy: 0.9194\n",
      "Epoch 11/20\n",
      "10228/10228 [==============================] - 112s 11ms/sample - loss: 0.3228 - accuracy: 0.8827 - val_loss: 0.2189 - val_accuracy: 0.9210\n",
      "Epoch 12/20\n",
      "10228/10228 [==============================] - 112s 11ms/sample - loss: 0.3036 - accuracy: 0.8890 - val_loss: 0.2254 - val_accuracy: 0.9155\n",
      "Epoch 13/20\n",
      "10228/10228 [==============================] - 112s 11ms/sample - loss: 0.3106 - accuracy: 0.8917 - val_loss: 0.2135 - val_accuracy: 0.9218\n",
      "Epoch 14/20\n",
      "10228/10228 [==============================] - 112s 11ms/sample - loss: 0.2850 - accuracy: 0.8952 - val_loss: 0.2143 - val_accuracy: 0.9222\n",
      "Epoch 15/20\n",
      "10228/10228 [==============================] - 112s 11ms/sample - loss: 0.2866 - accuracy: 0.8970 - val_loss: 0.2056 - val_accuracy: 0.9249\n",
      "Epoch 16/20\n",
      "10228/10228 [==============================] - 112s 11ms/sample - loss: 0.2805 - accuracy: 0.8966 - val_loss: 0.1956 - val_accuracy: 0.9273\n",
      "Epoch 17/20\n",
      "10228/10228 [==============================] - 112s 11ms/sample - loss: 0.2879 - accuracy: 0.8952 - val_loss: 0.1919 - val_accuracy: 0.9312\n",
      "Epoch 18/20\n",
      "10228/10228 [==============================] - 112s 11ms/sample - loss: 0.2706 - accuracy: 0.8990 - val_loss: 0.1853 - val_accuracy: 0.9359\n",
      "Epoch 19/20\n",
      "10228/10228 [==============================] - 113s 11ms/sample - loss: 0.2689 - accuracy: 0.9052 - val_loss: 0.2007 - val_accuracy: 0.9261\n",
      "Epoch 20/20\n",
      "10228/10228 [==============================] - 112s 11ms/sample - loss: 0.2700 - accuracy: 0.9041 - val_loss: 0.1945 - val_accuracy: 0.9292\n"
     ]
    }
   ],
   "source": [
    "history = model.fit(X_train_scaled,Y_train,epochs=20,validation_data=(X_val_scaled,Y_val),\n",
    "                    batch_size=batch_size,shuffle=True)"
   ]
  },
  {
   "cell_type": "code",
   "execution_count": 52,
   "metadata": {},
   "outputs": [
    {
     "name": "stdout",
     "output_type": "stream",
     "text": [
      "Test loss: 0.18540091812086307\n",
      "Test accuracy: 0.9317382\n"
     ]
    }
   ],
   "source": [
    "scores = model.evaluate(X_test_scaled,Y_test,verbose=0)\n",
    "print('Test loss:', scores[0])\n",
    "print('Test accuracy:', scores[1])"
   ]
  }
 ],
 "metadata": {
  "kernelspec": {
   "display_name": "Python 3",
   "language": "python",
   "name": "python3"
  },
  "language_info": {
   "codemirror_mode": {
    "name": "ipython",
    "version": 3
   },
   "file_extension": ".py",
   "mimetype": "text/x-python",
   "name": "python",
   "nbconvert_exporter": "python",
   "pygments_lexer": "ipython3",
   "version": "3.7.4"
  }
 },
 "nbformat": 4,
 "nbformat_minor": 4
}
