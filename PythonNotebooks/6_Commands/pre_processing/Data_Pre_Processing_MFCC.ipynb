{
 "cells": [
  {
   "cell_type": "markdown",
   "metadata": {},
   "source": [
    "# Data Pre-Processing MFCC\n",
    "\n",
    "* This notebook will provide the code for the data pre-processing of the Mel-Frequency Cepstral Coeffi"
   ]
  },
  {
   "cell_type": "code",
   "execution_count": 4,
   "metadata": {},
   "outputs": [],
   "source": [
    "import numpy as np\n",
    "import os\n",
    "import pandas as pd\n",
    "import matplotlib.pyplot as plt\n",
    "\n",
    "from scipy.io import wavfile\n",
    "from scipy import signal\n",
    "from scipy.fftpack import dct"
   ]
  },
  {
   "cell_type": "code",
   "execution_count": 5,
   "metadata": {},
   "outputs": [],
   "source": [
    "#change the directory\n",
    "os.chdir(\"C:\\\\Users\\\\b9027741\\\\OneDrive - Newcastle University\\\\Masters\\\\Computer Science\\\\Machine_Learning_Project\\\\Data\")"
   ]
  },
  {
   "cell_type": "code",
   "execution_count": 6,
   "metadata": {},
   "outputs": [],
   "source": [
    "#labels needed - using the 6 I have specified\n",
    "labels = [\"yes\", \"no\", \"up\", \"down\", \"left\", \"right\"]"
   ]
  },
  {
   "cell_type": "code",
   "execution_count": 60,
   "metadata": {},
   "outputs": [],
   "source": [
    "def mfcc_filter_banks_transformation(wavname,directory,pre_emphasis=0.97,frame_size=0.025,frame_stride=0.01,\n",
    "                       NFFT = 512,nfilt=40,num_ceps=12,cep_lifter=23):\n",
    "    \n",
    "    #this function will transform a wavfile into the mfcc\n",
    "    \n",
    "    #read in the specified wavfile\n",
    "    sample_rate, sample = wavfile.read(directory+wavname)\n",
    "    \n",
    "    #pad the sample length\n",
    "    if (len(sample) < 16000):\n",
    "        sample = np.pad(sample, (0, (16000 - len(sample))), \"linear_ramp\")\n",
    "    \n",
    "    #apply a pre-emphasis filter to the samples\n",
    "    emphasized_signal = np.append(sample[0], sample[1:] - pre_emphasis * sample[:-1])\n",
    "    \n",
    "    #split the signal into short time frames\n",
    "    frame_length, frame_step = frame_size * sample_rate, frame_stride * sample_rate \n",
    "    signal_length = len(emphasized_signal)\n",
    "    frame_length = int(round(frame_length))\n",
    "    frame_step = int(round(frame_step))\n",
    "    num_frames = int(np.ceil(float(np.abs(signal_length - frame_length)) / frame_step)) \n",
    "\n",
    "    pad_signal_length = num_frames * frame_step + frame_length\n",
    "    z = np.zeros((pad_signal_length - signal_length))\n",
    "    pad_signal = np.append(emphasized_signal, z) \n",
    "\n",
    "    indices = np.tile(np.arange(0, frame_length), (num_frames, 1)) + np.tile(np.arange(0, num_frames * frame_step, frame_step), (frame_length, 1)).T\n",
    "    frames = pad_signal[indices.astype(np.int32, copy=False)]\n",
    "    \n",
    "    #hamming window is then applided to the function\n",
    "    frames *= np.hamming(frame_length)\n",
    "    \n",
    "    #calculate the frequency spectrum with a STFT\n",
    "    \n",
    "    #mag_frames - magnitude of the FFT\n",
    "    mag_frames = np.absolute(np.fft.rfft(frames,NFFT))\n",
    "    #pow_frames - power spectrum\n",
    "    pow_frames = ((1/NFFT)*((mag_frames)**2))\n",
    "    \n",
    "    #compute the filter banks\n",
    "    low_freq_mel = 0\n",
    "    high_freq_mel = (2595*np.log10(1+(sample_rate/2)/700))\n",
    "    mel_points = np.linspace(low_freq_mel, high_freq_mel, nfilt+2)\n",
    "    hz_points = (700 * (10**(mel_points / 2595) - 1))\n",
    "    bin = np.floor((NFFT + 1) * hz_points / sample_rate)\n",
    "    \n",
    "    fbank = np.zeros((nfilt, int(np.floor(NFFT / 2 + 1))))\n",
    "    \n",
    "    for m in range(1, nfilt + 1):\n",
    "        f_m_minus = int(bin[m-1])\n",
    "        f_m = int(bin[m])\n",
    "        f_m_plus = int(bin[m+1])\n",
    "        \n",
    "        for k in range(f_m_minus,f_m):\n",
    "            fbank[m-1,k] = (k-bin[m-1]) / (bin[m] - bin[m-1])\n",
    "        for k in range(f_m,f_m_plus):\n",
    "            fbank[m-1,k] = (bin[m+1] - k) / (bin[m+1] - bin[m])\n",
    "    \n",
    "    filter_banks = np.dot(pow_frames, fbank.T)\n",
    "    filter_banks = np.where(filter_banks==0,np.finfo(float).eps, filter_banks)\n",
    "    filter_banks = 20 * np.log10(filter_banks)\n",
    "    \n",
    "    #apply discrete cosine transform\n",
    "    mfcc = dct(filter_banks, type=2, axis=1, norm=\"ortho\")[:,1:(num_ceps+1)]\n",
    "    \n",
    "    #apply sinusoidal liftering\n",
    "    (nframes, ncoeff) = mfcc.shape\n",
    "    n = np.arange(ncoeff)\n",
    "    lift = 1 + (cep_lifter/2) * np.sin(np.pi * n / cep_lifter)\n",
    "    mfcc *= lift\n",
    "    \n",
    "    #mean normalization\n",
    "    filter_banks -= (np.mean(filter_banks,axis=0)+1e-8)\n",
    "    mfcc -= (np.mean(mfcc,axis=0)+1e-8)\n",
    "    \n",
    "    return mfcc, filter_banks\n",
    "       "
   ]
  },
  {
   "cell_type": "code",
   "execution_count": 62,
   "metadata": {},
   "outputs": [
    {
     "name": "stdout",
     "output_type": "stream",
     "text": [
      "(98, 12)\n",
      "(98, 40)\n"
     ]
    },
    {
     "data": {
      "image/png": "[encoded data removed]",
      "text/plain": [
       "<Figure size 432x288 with 1 Axes>"
      ]
     },
     "metadata": {
      "needs_background": "light"
     },
     "output_type": "display_data"
    }
   ],
   "source": [
    "mfcc, filter_banks = mfcc_filter_banks_transformation(\"yes/00f0204f_nohash_0.wav\",\"train/audio/\")\n",
    "\n",
    "plt.imshow(mfcc,aspect=\"auto\")\n",
    "\n",
    "print(mfcc.shape)\n",
    "print(filter_banks.shape)"
   ]
  },
  {
   "cell_type": "code",
   "execution_count": 63,
   "metadata": {},
   "outputs": [
    {
     "name": "stdout",
     "output_type": "stream",
     "text": [
      "               file_name label\n",
      "0  004ae714_nohash_0.wav   yes\n",
      "1  004ae714_nohash_1.wav   yes\n",
      "2  00f0204f_nohash_0.wav   yes\n",
      "3  00f0204f_nohash_1.wav   yes\n",
      "4  00f0204f_nohash_2.wav   yes\n"
     ]
    }
   ],
   "source": [
    "all_files = pd.DataFrame(columns=(\"file_name\",\"label\"))\n",
    "all_files = all_files.fillna(0)\n",
    "\n",
    "for label in labels:\n",
    "    files = os.listdir(\"train/audio/\" + label)\n",
    "    for file in files:\n",
    "        all_files = all_files.append({\n",
    "                    \"file_name\":file,\n",
    "                    \"label\":label\n",
    "                    },ignore_index=True)\n",
    "\n",
    "print(all_files.head())"
   ]
  },
  {
   "cell_type": "code",
   "execution_count": 64,
   "metadata": {},
   "outputs": [
    {
     "name": "stdout",
     "output_type": "stream",
     "text": [
      "yes      2377\n",
      "no       2375\n",
      "up       2375\n",
      "right    2367\n",
      "down     2359\n",
      "left     2353\n",
      "Name: label, dtype: int64\n",
      "(14206, 2)\n"
     ]
    }
   ],
   "source": [
    "print(all_files[\"label\"].value_counts())\n",
    "print(all_files.shape)"
   ]
  },
  {
   "cell_type": "code",
   "execution_count": 65,
   "metadata": {},
   "outputs": [
    {
     "name": "stdout",
     "output_type": "stream",
     "text": [
      "                   file_name  label\n",
      "8572   a42a88ff_nohash_0.wav   down\n",
      "4098   bd8412df_nohash_1.wav     no\n",
      "14004  eb0676ec_nohash_0.wav  right\n",
      "7562   33f60c62_nohash_0.wav   down\n",
      "12213  2f813234_nohash_1.wav  right\n",
      "                file_name label\n",
      "4   00f0204f_nohash_2.wav   yes\n",
      "5   012c8314_nohash_0.wav   yes\n",
      "9   0132a06d_nohash_3.wav   yes\n",
      "55  05b2db80_nohash_2.wav   yes\n",
      "64  06a79a03_nohash_0.wav   yes\n",
      "training_files shape: (12785, 2)\n",
      "test_files shape: (1421, 2)\n"
     ]
    }
   ],
   "source": [
    "#train / test split\n",
    "\n",
    "training_files = all_files.sample(frac=0.9,random_state=42)\n",
    "test_files = all_files.drop(training_files.index)\n",
    "\n",
    "print(training_files.head())\n",
    "print(test_files.head())\n",
    "\n",
    "print(\"training_files shape: \" + str(training_files.shape))\n",
    "print(\"test_files shape: \" + str(test_files.shape))"
   ]
  },
  {
   "cell_type": "code",
   "execution_count": 66,
   "metadata": {},
   "outputs": [
    {
     "name": "stdout",
     "output_type": "stream",
     "text": [
      "                   file_name label\n",
      "3438   78884794_nohash_2.wav    no\n",
      "10731  8c7c9168_nohash_2.wav  left\n",
      "9682   19f9c115_nohash_0.wav  left\n",
      "321    24befdb3_nohash_2.wav   yes\n",
      "6140   9886d8bf_nohash_4.wav    up\n",
      "                   file_name  label\n",
      "4098   bd8412df_nohash_1.wav     no\n",
      "12213  2f813234_nohash_1.wav  right\n",
      "3233   64da5281_nohash_2.wav     no\n",
      "8757   b83c1acf_nohash_3.wav   down\n",
      "7495   2bfe70ef_nohash_0.wav   down\n",
      "                file_name label\n",
      "4   00f0204f_nohash_2.wav   yes\n",
      "5   012c8314_nohash_0.wav   yes\n",
      "9   0132a06d_nohash_3.wav   yes\n",
      "55  05b2db80_nohash_2.wav   yes\n",
      "64  06a79a03_nohash_0.wav   yes\n",
      "training_files shape: (10228, 2)\n",
      "validation_files shape: (2557, 2)\n"
     ]
    }
   ],
   "source": [
    "#train / validation split\n",
    "\n",
    "train_files = training_files.sample(frac=0.8,random_state=42)\n",
    "validation_files = training_files.drop(train_files.index)\n",
    "\n",
    "print(train_files.head())\n",
    "print(validation_files.head())\n",
    "print(test_files.head())\n",
    "\n",
    "print(\"training_files shape: \" + str(train_files.shape))\n",
    "print(\"validation_files shape: \" + str(validation_files.shape))\n",
    "\n",
    "#we now have the train/validation and test split needed\n",
    "#train_files\n",
    "#validation_files\n",
    "#test_files"
   ]
  },
  {
   "cell_type": "code",
   "execution_count": 67,
   "metadata": {},
   "outputs": [],
   "source": [
    "def create_mfcc_data(files,directory=\"train/audio/\"):\n",
    "    X = np.zeros([files.shape[0],98,12])\n",
    "    Y = np.zeros([files.shape[0]])\n",
    "    index = 0\n",
    "    for ind, row in files.iterrows():\n",
    "        try:\n",
    "            mfcc, filter_banks = mfcc_filter_banks_transformation(wavname=(row[\"label\"]+\"/\"+row[\"file_name\"]),directory=directory)\n",
    "            X[index] = mfcc\n",
    "        except ValueError:\n",
    "            print(row,ValueError)\n",
    "        Y[index] = labels.index(row[\"label\"])\n",
    "        index += 1\n",
    "        \n",
    "    return X, Y\n",
    "    \n",
    "X_train, Y_train = create_mfcc_data(train_files)\n",
    "X_val, Y_val = create_mfcc_data(validation_files)\n",
    "X_test, Y_test = create_mfcc_data(test_files)"
   ]
  },
  {
   "cell_type": "code",
   "execution_count": 69,
   "metadata": {},
   "outputs": [
    {
     "data": {
      "text/plain": [
       "Text(0.5, 1.0, '3.0')"
      ]
     },
     "execution_count": 69,
     "metadata": {},
     "output_type": "execute_result"
    },
    {
     "data": {
      "image/png": "[encoded data removed]",
      "text/plain": [
       "<Figure size 432x288 with 1 Axes>"
      ]
     },
     "metadata": {
      "needs_background": "light"
     },
     "output_type": "display_data"
    }
   ],
   "source": [
    "plt.imshow(X_train[435],aspect=\"auto\")\n",
    "plt.title(Y_train[435])"
   ]
  },
  {
   "cell_type": "code",
   "execution_count": 74,
   "metadata": {},
   "outputs": [
    {
     "name": "stdout",
     "output_type": "stream",
     "text": [
      "(10228, 98, 12)\n",
      "(2557, 98, 12)\n",
      "(1421, 98, 12)\n"
     ]
    }
   ],
   "source": [
    "#check the shapes of the data\n",
    "print(X_train.shape)\n",
    "print(X_val.shape)\n",
    "print(X_test.shape)"
   ]
  },
  {
   "cell_type": "code",
   "execution_count": 75,
   "metadata": {},
   "outputs": [],
   "source": [
    "#save the mfcc data ready for the analysis\n",
    "np.save(\"train/data/mfcc/X_train_mfcc\", np.expand_dims(X_train,-1)+1.3)\n",
    "np.save(\"train/data/mfcc/Y_train_mfcc\",Y_train.astype(np.int))\n",
    "np.save(\"train/data/mfcc/X_val_mfcc\",np.expand_dims(X_val,-1)+1.3)\n",
    "np.save(\"train/data/mfcc/Y_val_mfcc\",Y_val.astype(np.int))\n",
    "np.save(\"train/data/mfcc/X_test_mfcc\",np.expand_dims(X_test,-1)+1.3)\n",
    "np.save(\"train/data/mfcc/Y_test_mfcc\",Y_test.astype(np.int))"
   ]
  },
  {
   "cell_type": "code",
   "execution_count": null,
   "metadata": {},
   "outputs": [],
   "source": [
    "def create_filter_bank_data(files,directory=\"train/audio/\"):\n",
    "    X = np.zeros([files.shape[0],98,40])\n",
    "    Y = np.zeros([files.shape[0]])\n",
    "    index = 0\n",
    "    for ind, row in files.iterrows():\n",
    "        try:\n",
    "            mfcc, filter_banks = mfcc_filter_banks_transformation(wavname=(row[\"label\"]+\"/\"+row[\"file_name\"]),directory=directory)\n",
    "            X[index] = filter_banks\n",
    "        except ValueError:\n",
    "            print(row,ValueError)\n",
    "        Y[index] = labels.index(row[\"label\"])\n",
    "        index += 1\n",
    "        \n",
    "    return X, Y\n",
    "    \n",
    "X_train, Y_train = create_mfcc_data(train_files)\n",
    "X_val, Y_val = create_mfcc_data(validation_files)\n",
    "X_test, Y_test = create_mfcc_data(test_files)"
   ]
  },
  {
   "cell_type": "code",
   "execution_count": null,
   "metadata": {},
   "outputs": [],
   "source": [
    "#save the mfcc data ready for the analysis\n",
    "np.save(\"train/data/mfcc/X_train_fb\", np.expand_dims(X_train,-1)+1.3)\n",
    "np.save(\"train/data/mfcc/Y_train_fb\",Y_train.astype(np.int))\n",
    "np.save(\"train/data/mfcc/X_val_fb\",np.expand_dims(X_val,-1)+1.3)\n",
    "np.save(\"train/data/mfcc/Y_val_f\",Y_val.astype(np.int))\n",
    "np.save(\"train/data/mfcc/X_test_mfcc\",np.expand_dims(X_test,-1)+1.3)\n",
    "np.save(\"train/data/mfcc/Y_test_mfcc\",Y_test.astype(np.int))"
   ]
  }
 ],
 "metadata": {
  "kernelspec": {
   "display_name": "Python 3",
   "language": "python",
   "name": "python3"
  },
  "language_info": {
   "codemirror_mode": {
    "name": "ipython",
    "version": 3
   },
   "file_extension": ".py",
   "mimetype": "text/x-python",
   "name": "python",
   "nbconvert_exporter": "python",
   "pygments_lexer": "ipython3",
   "version": "3.7.4"
  }
 },
 "nbformat": 4,
 "nbformat_minor": 2
}
